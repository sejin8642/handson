{
 "cells": [
  {
   "cell_type": "markdown",
   "id": "815da4d2-7426-4243-984b-bd4522de38ab",
   "metadata": {
    "jp-MarkdownHeadingCollapsed": true
   },
   "source": [
    "## load modules and configure"
   ]
  },
  {
   "cell_type": "code",
   "execution_count": 1,
   "id": "bd7d6c62-a4a0-439f-b77c-ab25b7dd3043",
   "metadata": {
    "tags": []
   },
   "outputs": [],
   "source": [
    "import sys\n",
    "from pathlib import Path\n",
    "from importlib import reload"
   ]
  },
  {
   "cell_type": "code",
   "execution_count": 2,
   "id": "f1f7c372-80f5-4b00-8d86-989a185ebfea",
   "metadata": {
    "tags": []
   },
   "outputs": [],
   "source": [
    "project_path = str(Path.home()/'gd'/'projects')\n",
    "\n",
    "sys.path.insert(0, project_path + '/ftnmr/scripts')\n",
    "sys.path.insert(0, project_path + '/projnmr/scripts')\n",
    "sys.path.insert(0, project_path + '/handson/scripts/part2')\n",
    "sys.path.insert(0, project_path + '/mods/scripts')"
   ]
  },
  {
   "cell_type": "code",
   "execution_count": 3,
   "id": "91040b55-0159-48ba-8f9e-bbf6b2d7f263",
   "metadata": {
    "tags": []
   },
   "outputs": [],
   "source": [
    "import ftnmr\n",
    "import projnmr\n",
    "import handson\n",
    "import mods"
   ]
  },
  {
   "cell_type": "code",
   "execution_count": 39,
   "id": "076bdc0e-0897-41af-922a-6ab04e918d89",
   "metadata": {
    "tags": []
   },
   "outputs": [],
   "source": [
    "import inspect\n",
    "import random\n",
    "from functools import partial\n",
    "from copy import deepcopy\n",
    "\n",
    "import numpy as np\n",
    "import matplotlib.pyplot as plt\n",
    "import pandas as pd\n",
    "import sympy\n",
    "\n",
    "import tensorflow as tf\n",
    "from tensorflow import keras\n",
    "import tensorflow_datasets as tfds\n",
    "from tqdm import tqdm"
   ]
  },
  {
   "cell_type": "code",
   "execution_count": 5,
   "id": "69489b61-cf83-4dff-976f-c018d86d4c99",
   "metadata": {
    "tags": []
   },
   "outputs": [],
   "source": [
    "import os\n",
    "# for error \"not creating xla devices tf_xla_enable_xla_devices not set\"\n",
    "os.environ['TF_XLA_FLAGS'] = '--tf_xla_enable_xla_devices'\n",
    "#TF_XLA_FLAGS is an environment variable used by TensorFlow's XLA (Accelerated Linear Algebra) \n",
    "#compiler to control its behavior. In this case, setting TF_XLA_FLAGS to \n",
    "#--tf_xla_enable_xla_devices enables the XLA compiler to use all available XLA devices, \n",
    "#such as GPUs or TPUs, for faster execution of TensorFlow computations.\n",
    "\n",
    "# for error \"Successfully opened dynamic library libcudart.so.10.1\"\n",
    "os.environ['TF_CPP_MIN_LOG_LEVEL'] = '2'"
   ]
  },
  {
   "cell_type": "code",
   "execution_count": 6,
   "id": "e641b883-5dec-4722-aea7-14f6113a476a",
   "metadata": {
    "tags": []
   },
   "outputs": [
    {
     "data": {
      "text/plain": [
       "'2.11.1'"
      ]
     },
     "execution_count": 6,
     "metadata": {},
     "output_type": "execute_result"
    }
   ],
   "source": [
    "# similar to os.environ['TF_XLA_FLAGS'], but preferred way to enable XLA\n",
    "tf.config.optimizer.set_jit(True) \n",
    "\n",
    "tf.__version__ # TF version"
   ]
  },
  {
   "cell_type": "code",
   "execution_count": 7,
   "id": "da975d28-9400-4098-bcc8-78e4285ed055",
   "metadata": {
    "tags": []
   },
   "outputs": [
    {
     "name": "stdout",
     "output_type": "stream",
     "text": [
      "/physical_device:CPU:0\n",
      "/physical_device:XLA_CPU:0\n",
      "/physical_device:GPU:0\n",
      "/physical_device:XLA_GPU:0\n"
     ]
    }
   ],
   "source": [
    "devices = tf.config.get_visible_devices()\n",
    "for dev in devices:\n",
    "    print(dev.name)"
   ]
  },
  {
   "cell_type": "code",
   "execution_count": 8,
   "id": "4f37a21f-0c8c-4f7a-ace7-fedf5ec83951",
   "metadata": {
    "tags": []
   },
   "outputs": [
    {
     "data": {
      "text/plain": [
       "True"
      ]
     },
     "execution_count": 8,
     "metadata": {},
     "output_type": "execute_result"
    }
   ],
   "source": [
    "tf.test.is_built_with_cuda()"
   ]
  },
  {
   "cell_type": "code",
   "execution_count": 9,
   "id": "2e94d197-ab48-4036-9742-6b15bf58614c",
   "metadata": {
    "tags": []
   },
   "outputs": [
    {
     "name": "stdout",
     "output_type": "stream",
     "text": [
      "GPU 0: Total memory: 32768.0 MB\n",
      "       Free memory: 32497.375 MB\n"
     ]
    }
   ],
   "source": [
    "import pynvml\n",
    "pynvml.nvmlInit()\n",
    "\n",
    "gpus = pynvml.nvmlDeviceGetCount()\n",
    "for i in range(gpus):\n",
    "    handle = pynvml.nvmlDeviceGetHandleByIndex(i)\n",
    "    info = pynvml.nvmlDeviceGetMemoryInfo(handle)\n",
    "    print(f\"GPU {i}: Total memory: {info.total / (1024**2)} MB\")\n",
    "    print(f\"       Free memory: {info.free / (1024**2)} MB\")\n",
    "\n",
    "pynvml.nvmlShutdown()"
   ]
  },
  {
   "cell_type": "markdown",
   "id": "d0b2cc9c-c1d4-4d93-a7dd-aa10a4aaf0f1",
   "metadata": {
    "jp-MarkdownHeadingCollapsed": true,
    "tags": []
   },
   "source": [
    "## fully connected model with flatten input layer"
   ]
  },
  {
   "cell_type": "code",
   "execution_count": 10,
   "id": "a14c87d0-cc56-48a0-9e63-a8f81b9e7316",
   "metadata": {},
   "outputs": [],
   "source": [
    "X_train, y_train, X_valid, y_valid, X_test, y_test = handson.mnist_data()"
   ]
  },
  {
   "cell_type": "code",
   "execution_count": 11,
   "id": "0d127b31-98d7-4fcb-a371-5adff6a31ac1",
   "metadata": {},
   "outputs": [],
   "source": [
    "model = keras.models.Sequential()\n",
    "model.add(keras.layers.Flatten(input_shape=[28, 28])) # add flatten layer to the model first\n",
    "model.add(keras.layers.Dense(300, activation=\"relu\")) # add dense layer with 300 neurons second\n",
    "model.add(keras.layers.Dense(100, activation=\"relu\")) # third\n",
    "model.add(keras.layers.Dense(10, activation=\"softmax\")) # last, which is output layer"
   ]
  },
  {
   "cell_type": "code",
   "execution_count": 12,
   "id": "c268ced8-7dae-441e-961b-5d6bd867e8e0",
   "metadata": {},
   "outputs": [],
   "source": [
    "# same as above\n",
    "model = keras.models.Sequential([\n",
    "    keras.layers.Flatten(input_shape=[28, 28]),\n",
    "    keras.layers.Dense(300, activation=\"relu\"),\n",
    "    keras.layers.Dense(100, activation=\"relu\"),\n",
    "    keras.layers.Dense(10, activation=\"softmax\")])"
   ]
  },
  {
   "cell_type": "code",
   "execution_count": 13,
   "id": "495c9c41-dfee-4e31-b141-dd44dd4429c5",
   "metadata": {},
   "outputs": [
    {
     "data": {
      "text/plain": [
       "{'name': 'SGD',\n",
       " 'weight_decay': None,\n",
       " 'clipnorm': None,\n",
       " 'global_clipnorm': None,\n",
       " 'clipvalue': None,\n",
       " 'use_ema': False,\n",
       " 'ema_momentum': 0.99,\n",
       " 'ema_overwrite_frequency': None,\n",
       " 'jit_compile': True,\n",
       " 'is_legacy_optimizer': False,\n",
       " 'learning_rate': 0.01,\n",
       " 'momentum': 0.0,\n",
       " 'nesterov': False}"
      ]
     },
     "execution_count": 13,
     "metadata": {},
     "output_type": "execute_result"
    }
   ],
   "source": [
    "# In Keras, compile() is a method used to configure the learning process of a model. \n",
    "# This method defines the loss function, optimizer, and metrics for training\n",
    "model.compile(\n",
    "    loss=\"sparse_categorical_crossentropy\", # sparse when categories are in integers\n",
    "    optimizer=\"sgd\", # Stochastic Gradient Descent\n",
    "    metrics=[\"accuracy\"]) # performance metrics for each epoch on validataion dataset\n",
    "\n",
    "# An optimizer is an gradient descent method algorithm to update the weights and biases\n",
    "model.optimizer.get_config() # default mini batch size for SGD is 32 in keras model"
   ]
  },
  {
   "cell_type": "code",
   "execution_count": 14,
   "id": "05b3b795-479a-4501-8a5f-32f122c0051f",
   "metadata": {
    "collapsed": true,
    "jupyter": {
     "outputs_hidden": true
    },
    "tags": []
   },
   "outputs": [
    {
     "name": "stdout",
     "output_type": "stream",
     "text": [
      "Epoch 1/30\n",
      "1719/1719 [==============================] - 3s 1ms/step - loss: 0.7192 - accuracy: 0.7661 - val_loss: 0.5073 - val_accuracy: 0.8338\n",
      "Epoch 2/30\n",
      "1719/1719 [==============================] - 2s 1ms/step - loss: 0.4900 - accuracy: 0.8295 - val_loss: 0.4574 - val_accuracy: 0.8430\n",
      "Epoch 3/30\n",
      "1719/1719 [==============================] - 2s 1ms/step - loss: 0.4446 - accuracy: 0.8453 - val_loss: 0.4217 - val_accuracy: 0.8572\n",
      "Epoch 4/30\n",
      "1719/1719 [==============================] - 2s 1ms/step - loss: 0.4177 - accuracy: 0.8527 - val_loss: 0.3932 - val_accuracy: 0.8634\n",
      "Epoch 5/30\n",
      "1719/1719 [==============================] - 2s 1ms/step - loss: 0.3976 - accuracy: 0.8601 - val_loss: 0.3940 - val_accuracy: 0.8612\n",
      "Epoch 6/30\n",
      "1719/1719 [==============================] - 2s 1ms/step - loss: 0.3805 - accuracy: 0.8664 - val_loss: 0.3911 - val_accuracy: 0.8618\n",
      "Epoch 7/30\n",
      "1719/1719 [==============================] - 2s 1ms/step - loss: 0.3661 - accuracy: 0.8708 - val_loss: 0.3672 - val_accuracy: 0.8720\n",
      "Epoch 8/30\n",
      "1719/1719 [==============================] - 2s 1ms/step - loss: 0.3543 - accuracy: 0.8744 - val_loss: 0.3567 - val_accuracy: 0.8758\n",
      "Epoch 9/30\n",
      "1719/1719 [==============================] - 2s 1ms/step - loss: 0.3428 - accuracy: 0.8784 - val_loss: 0.3549 - val_accuracy: 0.8740\n",
      "Epoch 10/30\n",
      "1719/1719 [==============================] - 2s 1ms/step - loss: 0.3343 - accuracy: 0.8808 - val_loss: 0.3582 - val_accuracy: 0.8690\n",
      "Epoch 11/30\n",
      "1719/1719 [==============================] - 2s 1ms/step - loss: 0.3253 - accuracy: 0.8834 - val_loss: 0.3329 - val_accuracy: 0.8828\n",
      "Epoch 12/30\n",
      "1719/1719 [==============================] - 2s 1ms/step - loss: 0.3178 - accuracy: 0.8856 - val_loss: 0.3359 - val_accuracy: 0.8800\n",
      "Epoch 13/30\n",
      "1719/1719 [==============================] - 2s 1ms/step - loss: 0.3100 - accuracy: 0.8881 - val_loss: 0.3271 - val_accuracy: 0.8798\n",
      "Epoch 14/30\n",
      "1719/1719 [==============================] - 2s 1ms/step - loss: 0.3033 - accuracy: 0.8913 - val_loss: 0.3213 - val_accuracy: 0.8850\n",
      "Epoch 15/30\n",
      "1719/1719 [==============================] - 2s 1ms/step - loss: 0.2977 - accuracy: 0.8931 - val_loss: 0.3273 - val_accuracy: 0.8778\n",
      "Epoch 16/30\n",
      "1719/1719 [==============================] - 2s 1ms/step - loss: 0.2911 - accuracy: 0.8955 - val_loss: 0.3150 - val_accuracy: 0.8854\n",
      "Epoch 17/30\n",
      "1719/1719 [==============================] - 2s 1ms/step - loss: 0.2849 - accuracy: 0.8960 - val_loss: 0.3196 - val_accuracy: 0.8840\n",
      "Epoch 18/30\n",
      "1719/1719 [==============================] - 2s 1ms/step - loss: 0.2806 - accuracy: 0.8988 - val_loss: 0.3103 - val_accuracy: 0.8846\n",
      "Epoch 19/30\n",
      "1719/1719 [==============================] - 2s 1ms/step - loss: 0.2751 - accuracy: 0.8998 - val_loss: 0.3142 - val_accuracy: 0.8848\n",
      "Epoch 20/30\n",
      "1719/1719 [==============================] - 2s 1ms/step - loss: 0.2692 - accuracy: 0.9024 - val_loss: 0.3340 - val_accuracy: 0.8772\n",
      "Epoch 21/30\n",
      "1719/1719 [==============================] - 2s 1ms/step - loss: 0.2656 - accuracy: 0.9050 - val_loss: 0.3062 - val_accuracy: 0.8922\n",
      "Epoch 22/30\n",
      "1719/1719 [==============================] - 2s 1ms/step - loss: 0.2608 - accuracy: 0.9062 - val_loss: 0.3009 - val_accuracy: 0.8890\n",
      "Epoch 23/30\n",
      "1719/1719 [==============================] - 2s 1ms/step - loss: 0.2560 - accuracy: 0.9079 - val_loss: 0.2997 - val_accuracy: 0.8942\n",
      "Epoch 24/30\n",
      "1719/1719 [==============================] - 2s 1ms/step - loss: 0.2521 - accuracy: 0.9087 - val_loss: 0.3011 - val_accuracy: 0.8892\n",
      "Epoch 25/30\n",
      "1719/1719 [==============================] - 2s 1ms/step - loss: 0.2482 - accuracy: 0.9107 - val_loss: 0.3017 - val_accuracy: 0.8912\n",
      "Epoch 26/30\n",
      "1719/1719 [==============================] - 2s 1ms/step - loss: 0.2441 - accuracy: 0.9116 - val_loss: 0.2951 - val_accuracy: 0.8942\n",
      "Epoch 27/30\n",
      "1719/1719 [==============================] - 2s 1ms/step - loss: 0.2409 - accuracy: 0.9131 - val_loss: 0.2992 - val_accuracy: 0.8918\n",
      "Epoch 28/30\n",
      "1719/1719 [==============================] - 2s 1ms/step - loss: 0.2365 - accuracy: 0.9155 - val_loss: 0.3016 - val_accuracy: 0.8892\n",
      "Epoch 29/30\n",
      "1719/1719 [==============================] - 2s 1ms/step - loss: 0.2330 - accuracy: 0.9164 - val_loss: 0.2991 - val_accuracy: 0.8904\n",
      "Epoch 30/30\n",
      "1719/1719 [==============================] - 2s 1ms/step - loss: 0.2291 - accuracy: 0.9183 - val_loss: 0.2974 - val_accuracy: 0.8894\n"
     ]
    }
   ],
   "source": [
    "history = model.fit(\n",
    "    X_train,\n",
    "    y_train,\n",
    "    epochs=30,\n",
    "    validation_data=(X_valid, y_valid)) # fit method initiates training"
   ]
  },
  {
   "cell_type": "markdown",
   "id": "d9ce9478-42b7-4f80-a074-80509293e386",
   "metadata": {
    "jp-MarkdownHeadingCollapsed": true,
    "tags": []
   },
   "source": [
    "## basic keras layers"
   ]
  },
  {
   "cell_type": "code",
   "execution_count": 397,
   "id": "2f5c5fc7-4e01-4896-a377-c47c02d877f7",
   "metadata": {},
   "outputs": [
    {
     "name": "stdout",
     "output_type": "stream",
     "text": [
      "AbstractRNNCell          Activation               ActivityRegularization   Add                      AdditiveAttention        AlphaDropout             Attention                Average                  AveragePooling1D         AveragePooling2D         AveragePooling3D         AvgPool1D                AvgPool2D                AvgPool3D                BatchNormalization       Bidirectional            CategoryEncoding         CenterCrop               Concatenate              Conv1D                   Conv1DTranspose          Conv2D                   Conv2DTranspose          Conv3D                   Conv3DTranspose          ConvLSTM1D               ConvLSTM2D               ConvLSTM3D               Convolution1D            Convolution1DTranspose   Convolution2D            Convolution2DTranspose   Convolution3D            Convolution3DTranspose   Cropping1D               Cropping2D               Cropping3D               Dense                    DenseFeatures            DepthwiseConv1D          DepthwiseConv2D          Discretization           Dot                      Dropout                  ELU                      EinsumDense              Embedding                Flatten                  GRU                      GRUCell                  GaussianDropout          GaussianNoise            GlobalAveragePooling1D   GlobalAveragePooling2D   GlobalAveragePooling3D   GlobalAvgPool1D          GlobalAvgPool2D          GlobalAvgPool3D          GlobalMaxPool1D          GlobalMaxPool2D          GlobalMaxPool3D          GlobalMaxPooling1D       GlobalMaxPooling2D       GlobalMaxPooling3D       Hashing                  InputLayer               IntegerLookup            LSTM                     LSTMCell                 Lambda                   Layer                    LayerNormalization       LeakyReLU                LocallyConnected1D       LocallyConnected2D       Masking                  MaxPool1D                MaxPool2D                MaxPool3D                MaxPooling1D             MaxPooling2D             MaxPooling3D             Maximum                  Minimum                  MultiHeadAttention       Multiply                 Normalization            PReLU                    Permute                  RNN                      RandomBrightness         RandomContrast           RandomCrop               RandomFlip               RandomHeight             RandomRotation           RandomTranslation        RandomWidth              RandomZoom               ReLU                     RepeatVector             Rescaling                Reshape                  Resizing                 SeparableConv1D          SeparableConv2D          SeparableConvolution1D   SeparableConvolution2D   SimpleRNN                SimpleRNNCell            Softmax                  SpatialDropout1D         SpatialDropout2D         SpatialDropout3D         StackedRNNCells          StringLookup             Subtract                 TextVectorization        ThresholdedReLU          TimeDistributed          UnitNormalization        UpSampling1D             UpSampling2D             UpSampling3D             Wrapper                  ZeroPadding1D            ZeroPadding2D            ZeroPadding3D            "
     ]
    },
    {
     "data": {
      "text/plain": [
       "keras.layers.pooling.average_pooling3d.AveragePooling3D"
      ]
     },
     "metadata": {},
     "output_type": "display_data"
    },
    {
     "name": "stdout",
     "output_type": "stream",
     "text": [
      "AveragePooling3D\n"
     ]
    }
   ],
   "source": [
    "# list of laysers in keras (ignore Layer method below)\n",
    "layers = mods.list_attr('layers')\n",
    "\n",
    "# randomly select a layer name\n",
    "rand_layer = random.choice(layers) # randomly select an layer name\n",
    "\n",
    "# layer class with the above layer name with 300 neurons\n",
    "rand_layer = getattr(keras.layers, rand_layer)\n",
    "display(rand_layer)\n",
    "\n",
    "# get the name of the chosen layer \n",
    "layer_name = rand_layer.__name__\n",
    "print(layer_name)"
   ]
  },
  {
   "cell_type": "markdown",
   "id": "f6fb160f-ca66-4a9c-b878-a3110928a3f9",
   "metadata": {
    "jp-MarkdownHeadingCollapsed": true,
    "tags": []
   },
   "source": [
    "## basic keras layer parameters"
   ]
  },
  {
   "cell_type": "code",
   "execution_count": 10,
   "id": "816e2236-20e6-4403-ad87-dea942db822e",
   "metadata": {},
   "outputs": [],
   "source": [
    "# units: This specifies the number of neurons in the layer\n",
    "# use_bias: This specifies whether to include a bias term in the layer (default True) "
   ]
  },
  {
   "cell_type": "code",
   "execution_count": 65,
   "id": "507dfb1b-b008-4d86-87ec-04de356eecc0",
   "metadata": {},
   "outputs": [
    {
     "name": "stdout",
     "output_type": "stream",
     "text": [
      "elu                 exponential         gelu                hard_sigmoid        linear              relu                selu                sigmoid             softmax             softplus            softsign            swish               tanh                "
     ]
    },
    {
     "data": {
      "text/plain": [
       "<function keras.activations.linear(x)>"
      ]
     },
     "metadata": {},
     "output_type": "display_data"
    },
    {
     "name": "stdout",
     "output_type": "stream",
     "text": [
      "linear\n"
     ]
    }
   ],
   "source": [
    "# activation: This specifies the activation function to be used in the layer.\n",
    "\n",
    "# the below code lists activation functions (ignore deserialize, get, and serialize methods)\n",
    "activations = []\n",
    "for act in dir(keras.activations):\n",
    "    if not act.startswith('_') and act not in ['deserialize', 'get', 'serialize']:\n",
    "        activations.append(act)\n",
    "        print(act.ljust(20), end='')\n",
    "\n",
    "# randomly select an activation function name\n",
    "rand_act = random.choice(activations) \n",
    "\n",
    "# dense layer instantiation with the above activation name with 300 neurons\n",
    "dense_layer = keras.layers.Dense(units=300, activation=rand_act)\n",
    "display(dense_layer.activation)\n",
    "\n",
    "# get the name of the activation function from the above layer \n",
    "act_name = dense_layer.activation.__name__\n",
    "print(act_name)"
   ]
  },
  {
   "cell_type": "code",
   "execution_count": 66,
   "id": "fac56e50-747d-47a2-8824-ad8aff992eeb",
   "metadata": {},
   "outputs": [
    {
     "data": {
      "image/png": "[encoded data removed]",
      "text/plain": [
       "<Figure size 640x480 with 1 Axes>"
      ]
     },
     "metadata": {},
     "output_type": "display_data"
    }
   ],
   "source": [
    "# plot all activation functions on one figure\n",
    "# Define the x values\n",
    "x = tf.linspace(-5., 5., 200)\n",
    "\n",
    "# Define the activation functions with out exponential\n",
    "activation_functions = [\n",
    "    tf.nn.elu, \n",
    "    tf.nn.gelu, \n",
    "    tf.nn.relu, \n",
    "    tf.nn.selu, \n",
    "    tf.nn.sigmoid, \n",
    "    tf.nn.softmax, \n",
    "    tf.nn.softplus, \n",
    "    tf.nn.softsign, \n",
    "    tf.nn.swish, \n",
    "    tf.nn.tanh]\n",
    "\n",
    "# Plot the activation functions\n",
    "for activation in activation_functions[:]: # select the ones you want to plot\n",
    "    with tf.compat.v1.Session().as_default():\n",
    "        plt.plot(x, activation(tf.constant(x)).numpy(), label=activation.__name__)\n",
    "\n",
    "# Add title and legend\n",
    "plt.title('Activation functions')\n",
    "plt.legend(loc='best', ncol=2)\n",
    "plt.show()"
   ]
  },
  {
   "cell_type": "code",
   "execution_count": 137,
   "id": "30064ee5-d4f2-4b20-b8c4-88223a8a5641",
   "metadata": {},
   "outputs": [
    {
     "name": "stdout",
     "output_type": "stream",
     "text": [
      "Constant                 GlorotNormal             GlorotUniform            HeNormal                 HeUniform                Identity                 Initializer              LecunNormal              LecunUniform             Ones                     Orthogonal               RandomNormal             RandomUniform            TruncatedNormal          VarianceScaling          Zeros                    "
     ]
    },
    {
     "data": {
      "text/plain": [
       "<keras.initializers.initializers_v2.Constant at 0x15435aa276d0>"
      ]
     },
     "metadata": {},
     "output_type": "display_data"
    },
    {
     "name": "stdout",
     "output_type": "stream",
     "text": [
      "Constant\n"
     ]
    }
   ],
   "source": [
    "# kernel_initializer: This specifies the method for initializing the weights of the layer\n",
    "# bias_initializer is for biases\n",
    "\n",
    "# list of kernel initializers in keras (ignore Initializer method below)\n",
    "initializers = handson.list_attr('initializers')\n",
    "\n",
    "# randomly select an kernel initializer name\n",
    "rand_init = random.choice(initializers) \n",
    "\n",
    "# dense layer instantiation with the above kernel initializer name with 300 neurons\n",
    "dense_layer = keras.layers.Dense(units=300, kernel_initializer=rand_init)\n",
    "display(dense_layer.kernel_initializer)\n",
    "\n",
    "# get the name of the kernel initializer from the above layer \n",
    "init_name = dense_layer.kernel_initializer.__class__.__name__\n",
    "print(init_name)"
   ]
  },
  {
   "cell_type": "code",
   "execution_count": 138,
   "id": "542d30c2-6ec6-47db-a408-de941d8991e7",
   "metadata": {},
   "outputs": [
    {
     "name": "stdout",
     "output_type": "stream",
     "text": [
      "L1                       L1L2                     L2                       OrthogonalRegularizer    Regularizer              "
     ]
    },
    {
     "data": {
      "text/plain": [
       "<keras.regularizers.L1 at 0x15435aa24940>"
      ]
     },
     "metadata": {},
     "output_type": "display_data"
    },
    {
     "name": "stdout",
     "output_type": "stream",
     "text": [
      "L1\n"
     ]
    }
   ],
   "source": [
    "# kernel_regularizer: This specifies the regularization method to be applied to the weights \n",
    "# of the layer. bias_regularizer is for biases\n",
    "\n",
    "# list of kernel regularizers in keras (ignore Regularizer method below)\n",
    "kernel_regularizer = handson.list_attr('regularizers')\n",
    "# randomly select a kernel regularizer name\n",
    "rand_reg = random.choice(kernel_regularizer) \n",
    "\n",
    "# dense layer instantiation with the above kernel regularizer name with 300 neurons\n",
    "dense_layer = keras.layers.Dense(units=300, kernel_regularizer=rand_reg)\n",
    "display(dense_layer.kernel_regularizer)\n",
    "\n",
    "# get the name of the kernel regularizer from the above layer \n",
    "reg_name = dense_layer.kernel_regularizer.__class__.__name__\n",
    "print(reg_name)\n",
    "\n",
    "# activity_regularizer: regularization method applied to the output of the layer\n",
    "# same regularizers from kernel regularizations can be used"
   ]
  },
  {
   "cell_type": "code",
   "execution_count": 139,
   "id": "e8d15c15-5a88-4cba-94a8-62e88f479183",
   "metadata": {},
   "outputs": [
    {
     "name": "stdout",
     "output_type": "stream",
     "text": [
      "Constraint               MaxNorm                  MinMaxNorm               NonNeg                   RadialConstraint         UnitNorm                 "
     ]
    },
    {
     "data": {
      "text/plain": [
       "<keras.constraints.RadialConstraint at 0x15435aa26b00>"
      ]
     },
     "metadata": {},
     "output_type": "display_data"
    },
    {
     "name": "stdout",
     "output_type": "stream",
     "text": [
      "RadialConstraint\n"
     ]
    }
   ],
   "source": [
    "# kernel_constraint: This specifies the constraint to be applied to the weights of the layer.\n",
    "# bias_constraint is for biases\n",
    "# kernel constraints enforce constraints directly on the weights of the neural network.\n",
    "# whereas kernel regularizers add a penalty term to the loss function \n",
    "\n",
    "# list of kernel constraints in keras (ignore Constraint method below)\n",
    "kernel_constraints = handson.list_attr('constraints')\n",
    "\n",
    "# randomly select a kernel constraints name\n",
    "rand_con = random.choice(kernel_constraints) \n",
    "\n",
    "# dense layer instantiation with the above kernel regularizer name with 300 neurons\n",
    "dense_layer = keras.layers.Dense(units=300, kernel_constraint=rand_con)\n",
    "display(dense_layer.kernel_constraint)\n",
    "\n",
    "# get the name of the kernel regularizer from the above layer \n",
    "con_name = dense_layer.kernel_constraint.__class__.__name__\n",
    "print(con_name)"
   ]
  },
  {
   "cell_type": "markdown",
   "id": "fe858618-6083-4c73-86d2-91b4728ff81e",
   "metadata": {
    "jp-MarkdownHeadingCollapsed": true,
    "tags": []
   },
   "source": [
    "## loss functions and metrics"
   ]
  },
  {
   "cell_type": "code",
   "execution_count": 153,
   "id": "2d0bc2be-9155-4209-a61f-6a0040c05476",
   "metadata": {
    "tags": []
   },
   "outputs": [
    {
     "name": "stdout",
     "output_type": "stream",
     "text": [
      "BinaryCrossentropy                                          BinaryFocalCrossentropy                                     CategoricalCrossentropy                                     CategoricalHinge                                            CosineSimilarity                                            Hinge                                                       Huber                                                       KLD                                                         KLDivergence                                                LogCosh                                                     Loss                                                        MAE                                                         MAPE                                                        MSE                                                         MSLE                                                        MeanAbsoluteError                                           MeanAbsolutePercentageError                                 MeanSquaredError                                            MeanSquaredLogarithmicError                                 Poisson                                                     Reduction                                                   SparseCategoricalCrossentropy                               SquaredHinge                                                binary_crossentropy                                         binary_focal_crossentropy                                   categorical_crossentropy                                    categorical_hinge                                           cosine_similarity                                           hinge                                                       huber                                                       kl_divergence                                               kld                                                         kullback_leibler_divergence                                 log_cosh                                                    logcosh                                                     mae                                                         mape                                                        mean_absolute_error                                         mean_absolute_percentage_error                              mean_squared_error                                          mean_squared_logarithmic_error                              mse                                                         msle                                                        poisson                                                     sparse_categorical_crossentropy                             squared_hinge                                               \n",
      "huber\n"
     ]
    },
    {
     "data": {
      "text/plain": [
       "'huber'"
      ]
     },
     "execution_count": 153,
     "metadata": {},
     "output_type": "execute_result"
    }
   ],
   "source": [
    "# loss: This specifies the loss function (or cost function) to be used in the layer.\n",
    "\n",
    "# the below code lists loss functions (ignore deserialize, get, and serialize methods)\n",
    "losses = []\n",
    "for loss in dir(keras.losses):\n",
    "    if not loss.startswith('_') and loss not in ['deserialize', 'get', 'serialize']:\n",
    "        losses.append(loss)\n",
    "        print(loss.ljust(60), end='')\n",
    "\n",
    "# randomly select an loss function name\n",
    "rand_loss = random.choice(losses) # randomly select an activation function name\n",
    "print()\n",
    "print(rand_loss)\n",
    "\n",
    "# load pretrained VGG16 model\n",
    "model = keras.applications.VGG16(weights='imagenet', include_top=True)\n",
    "\n",
    "# compile the model with the randomly chosen loss function\n",
    "model.compile(loss=rand_loss)\n",
    "model.loss"
   ]
  },
  {
   "cell_type": "code",
   "execution_count": 154,
   "id": "cc8705f6-5af0-46bb-b64e-4c5f9d02bd89",
   "metadata": {
    "tags": []
   },
   "outputs": [
    {
     "name": "stdout",
     "output_type": "stream",
     "text": [
      "AUC                                               Accuracy                                          BinaryAccuracy                                    BinaryCrossentropy                                BinaryIoU                                         CategoricalAccuracy                               CategoricalCrossentropy                           CategoricalHinge                                  CosineSimilarity                                  FalseNegatives                                    FalsePositives                                    Hinge                                             IoU                                               KLDivergence                                      LogCoshError                                      Mean                                              MeanAbsoluteError                                 MeanAbsolutePercentageError                       MeanIoU                                           MeanMetricWrapper                                 MeanRelativeError                                 MeanSquaredError                                  MeanSquaredLogarithmicError                       MeanTensor                                        Metric                                            OneHotIoU                                         OneHotMeanIoU                                     Poisson                                           Precision                                         PrecisionAtRecall                                 Recall                                            RecallAtPrecision                                 RootMeanSquaredError                              SensitivityAtSpecificity                          SparseCategoricalAccuracy                         SparseCategoricalCrossentropy                     SparseTopKCategoricalAccuracy                     SpecificityAtSensitivity                          SquaredHinge                                      Sum                                               TopKCategoricalAccuracy                           TrueNegatives                                     TruePositives                                     \n",
      "OneHotMeanIoU\n"
     ]
    },
    {
     "data": {
      "text/plain": [
       "[]"
      ]
     },
     "execution_count": 154,
     "metadata": {},
     "output_type": "execute_result"
    }
   ],
   "source": [
    "# list of metrics in keras (ignore Metric method below)\n",
    "metrics = handson.list_attr('metrics', 50)\n",
    "print()\n",
    "\n",
    "# randomly select a metric name\n",
    "rand_metric = random.choice(metrics) # randomly select an activation function name\n",
    "\n",
    "# load pretrained VGG16 model\n",
    "model = keras.applications.VGG16(weights='imagenet', include_top=True)\n",
    "\n",
    "# compile the model with the randomly chosen metric\n",
    "model.compile(metrics=[rand_metric])\n",
    "\n",
    "print(rand_metric)\n",
    "model.metrics # it will return an empty list since the model is never trained"
   ]
  },
  {
   "cell_type": "markdown",
   "id": "f59ea8d0-aa77-403d-aaa1-ea3695ad39e1",
   "metadata": {
    "jp-MarkdownHeadingCollapsed": true,
    "tags": []
   },
   "source": [
    "## model history and evaluation (previous model training needed)"
   ]
  },
  {
   "cell_type": "code",
   "execution_count": 19,
   "id": "bcc0f932-b283-49b5-b095-9e5fb2a618ac",
   "metadata": {},
   "outputs": [
    {
     "data": {
      "text/plain": [
       "dict_keys(['loss', 'accuracy', 'val_loss', 'val_accuracy'])"
      ]
     },
     "execution_count": 19,
     "metadata": {},
     "output_type": "execute_result"
    }
   ],
   "source": [
    "history.history.keys()"
   ]
  },
  {
   "cell_type": "code",
   "execution_count": 25,
   "id": "f6e3d05a-8b38-4bd8-93df-b88d80a793d5",
   "metadata": {},
   "outputs": [
    {
     "name": "stdout",
     "output_type": "stream",
     "text": [
      "dict_keys(['loss', 'accuracy', 'val_loss', 'val_accuracy'])\n",
      "\n"
     ]
    },
    {
     "data": {
      "image/png": "[encoded data removed]",
      "text/plain": [
       "<Figure size 640x480 with 1 Axes>"
      ]
     },
     "metadata": {},
     "output_type": "display_data"
    }
   ],
   "source": [
    "print(history.history.keys(), end='\\n\\n')\n",
    "val_accuracy = history.history['val_accuracy']\n",
    "\n",
    "plt.plot(range(len(val_accuracy)), val_accuracy)\n",
    "plt.show()"
   ]
  },
  {
   "cell_type": "code",
   "execution_count": 26,
   "id": "e4ca71e4-7298-4c20-b51e-b6b04e62116a",
   "metadata": {},
   "outputs": [
    {
     "name": "stdout",
     "output_type": "stream",
     "text": [
      "313/313 [==============================] - 0s 992us/step - loss: 60.1161 - accuracy: 0.8503\n"
     ]
    },
    {
     "data": {
      "text/plain": [
       "[60.116050720214844, 0.8503000140190125]"
      ]
     },
     "execution_count": 26,
     "metadata": {},
     "output_type": "execute_result"
    }
   ],
   "source": [
    "model.evaluate(X_test, y_test)"
   ]
  },
  {
   "cell_type": "markdown",
   "id": "2c2bb6f4-28ad-45cf-905b-f1b2c971a261",
   "metadata": {
    "jp-MarkdownHeadingCollapsed": true,
    "tags": []
   },
   "source": [
    "## simple sequential model"
   ]
  },
  {
   "cell_type": "code",
   "execution_count": 19,
   "id": "93caeec1-a726-40ba-a23f-f55aac57430a",
   "metadata": {},
   "outputs": [],
   "source": [
    "X_train, y_train, X_valid, y_valid, X_test, y_test = handson.housing_data()"
   ]
  },
  {
   "cell_type": "code",
   "execution_count": 45,
   "id": "ee7d6aea-377f-4688-92e8-be5bce1a2dfd",
   "metadata": {},
   "outputs": [],
   "source": [
    "model = keras.models.Sequential([\n",
    "    keras.layers.Dense(30, activation=\"relu\", input_shape=X_train.shape[1:]),\n",
    "    keras.layers.Dense(1)])\n",
    "\n",
    "model.compile(loss=\"mean_squared_error\", optimizer=\"sgd\")"
   ]
  },
  {
   "cell_type": "code",
   "execution_count": 30,
   "id": "ba6902b9-74b4-424a-9b70-be9814de5d76",
   "metadata": {
    "collapsed": true,
    "jupyter": {
     "outputs_hidden": true
    },
    "tags": []
   },
   "outputs": [
    {
     "name": "stdout",
     "output_type": "stream",
     "text": [
      "Epoch 1/20\n",
      "363/363 [==============================] - 1s 1ms/step - loss: 0.8334 - val_loss: 0.6144\n",
      "Epoch 2/20\n",
      "363/363 [==============================] - 0s 1ms/step - loss: 0.5087 - val_loss: 0.4973\n",
      "Epoch 3/20\n",
      "363/363 [==============================] - 0s 1ms/step - loss: 0.4531 - val_loss: 0.4847\n",
      "Epoch 4/20\n",
      "363/363 [==============================] - 0s 1ms/step - loss: 0.9033 - val_loss: 0.5254\n",
      "Epoch 5/20\n",
      "363/363 [==============================] - 0s 1ms/step - loss: 1.7038 - val_loss: 0.4664\n",
      "Epoch 6/20\n",
      "363/363 [==============================] - 0s 1ms/step - loss: 0.5945 - val_loss: 0.4346\n",
      "Epoch 7/20\n",
      "363/363 [==============================] - 0s 1ms/step - loss: 0.3837 - val_loss: 0.4142\n",
      "Epoch 8/20\n",
      "363/363 [==============================] - 0s 1ms/step - loss: 0.3801 - val_loss: 0.4094\n",
      "Epoch 9/20\n",
      "363/363 [==============================] - 0s 1ms/step - loss: 0.3737 - val_loss: 0.4020\n",
      "Epoch 10/20\n",
      "363/363 [==============================] - 0s 1ms/step - loss: 0.3689 - val_loss: 0.3954\n",
      "Epoch 11/20\n",
      "363/363 [==============================] - 0s 1ms/step - loss: 0.3832 - val_loss: 0.3977\n",
      "Epoch 12/20\n",
      "363/363 [==============================] - 1s 1ms/step - loss: 0.3592 - val_loss: 0.3903\n",
      "Epoch 13/20\n",
      "363/363 [==============================] - 0s 1ms/step - loss: 0.3559 - val_loss: 0.3900\n",
      "Epoch 14/20\n",
      "363/363 [==============================] - 0s 1ms/step - loss: 0.3551 - val_loss: 0.3845\n",
      "Epoch 15/20\n",
      "363/363 [==============================] - 0s 1ms/step - loss: 0.3497 - val_loss: 0.3848\n",
      "Epoch 16/20\n",
      "363/363 [==============================] - 0s 1ms/step - loss: 0.3500 - val_loss: 0.3840\n",
      "Epoch 17/20\n",
      "363/363 [==============================] - 0s 1ms/step - loss: 0.3487 - val_loss: 0.3821\n",
      "Epoch 18/20\n",
      "363/363 [==============================] - 0s 1ms/step - loss: 0.3529 - val_loss: 0.3829\n",
      "Epoch 19/20\n",
      "363/363 [==============================] - 0s 1ms/step - loss: 0.3409 - val_loss: 0.3721\n",
      "Epoch 20/20\n",
      "363/363 [==============================] - 0s 1ms/step - loss: 0.3375 - val_loss: 0.3731\n",
      "162/162 [==============================] - 0s 786us/step - loss: 0.3539\n"
     ]
    }
   ],
   "source": [
    "history = model.fit(X_train, y_train, epochs=20, validation_data=(X_valid, y_valid))\n",
    "mse_test = model.evaluate(X_test, y_test)"
   ]
  },
  {
   "cell_type": "code",
   "execution_count": 31,
   "id": "2c36818d-0311-4d29-b1ca-171b79491a4f",
   "metadata": {},
   "outputs": [
    {
     "data": {
      "text/plain": [
       "0.353873074054718"
      ]
     },
     "execution_count": 31,
     "metadata": {},
     "output_type": "execute_result"
    }
   ],
   "source": [
    "mse_test"
   ]
  },
  {
   "cell_type": "markdown",
   "id": "d3d382d2-d256-4101-a9fd-b2d4752379cc",
   "metadata": {
    "jp-MarkdownHeadingCollapsed": true,
    "tags": []
   },
   "source": [
    "## model with hidden concatenate layer"
   ]
  },
  {
   "cell_type": "code",
   "execution_count": 20,
   "id": "60a61bf2-8dea-4a64-894c-32a9987b64b0",
   "metadata": {},
   "outputs": [],
   "source": [
    "X_train, y_train, X_valid, y_valid, X_test, y_test = handson.housing_data()"
   ]
  },
  {
   "cell_type": "code",
   "execution_count": 38,
   "id": "2856f740-b95d-4580-b77c-dafbd125cdd0",
   "metadata": {},
   "outputs": [],
   "source": [
    "input_ = keras.layers.Input(shape=X_train.shape[1:])\n",
    "hidden1 = keras.layers.Dense(30, activation=\"relu\")(input_)\n",
    "hidden2 = keras.layers.Dense(30, activation=\"relu\")(hidden1)\n",
    "concat = keras.layers.Concatenate()([input_, hidden2])\n",
    "output = keras.layers.Dense(1)(concat)\n",
    "model = keras.Model(inputs=[input_], outputs=[output])"
   ]
  },
  {
   "cell_type": "code",
   "execution_count": 39,
   "id": "7c29ab04-4cc5-4c2c-bbc5-2ee819b014d6",
   "metadata": {
    "collapsed": true,
    "jupyter": {
     "outputs_hidden": true
    },
    "tags": []
   },
   "outputs": [
    {
     "name": "stdout",
     "output_type": "stream",
     "text": [
      "Epoch 1/20\n",
      "363/363 [==============================] - 1s 1ms/step - loss: 1.7307 - val_loss: 3.7913\n",
      "Epoch 2/20\n",
      "363/363 [==============================] - 0s 1ms/step - loss: nan - val_loss: nan\n",
      "Epoch 3/20\n",
      "363/363 [==============================] - 0s 1ms/step - loss: nan - val_loss: nan\n",
      "Epoch 4/20\n",
      "363/363 [==============================] - 0s 1ms/step - loss: nan - val_loss: nan\n",
      "Epoch 5/20\n",
      "363/363 [==============================] - 0s 1ms/step - loss: nan - val_loss: nan\n",
      "Epoch 6/20\n",
      "363/363 [==============================] - 0s 1ms/step - loss: nan - val_loss: nan\n",
      "Epoch 7/20\n",
      "363/363 [==============================] - 0s 1ms/step - loss: nan - val_loss: nan\n",
      "Epoch 8/20\n",
      "363/363 [==============================] - 0s 1ms/step - loss: nan - val_loss: nan\n",
      "Epoch 9/20\n",
      "363/363 [==============================] - 0s 1ms/step - loss: nan - val_loss: nan\n",
      "Epoch 10/20\n",
      "363/363 [==============================] - 0s 1ms/step - loss: nan - val_loss: nan\n",
      "Epoch 11/20\n",
      "363/363 [==============================] - 0s 1ms/step - loss: nan - val_loss: nan\n",
      "Epoch 12/20\n",
      "363/363 [==============================] - 0s 1ms/step - loss: nan - val_loss: nan\n",
      "Epoch 13/20\n",
      "363/363 [==============================] - 0s 1ms/step - loss: nan - val_loss: nan\n",
      "Epoch 14/20\n",
      "363/363 [==============================] - 0s 1ms/step - loss: nan - val_loss: nan\n",
      "Epoch 15/20\n",
      "363/363 [==============================] - 0s 1ms/step - loss: nan - val_loss: nan\n",
      "Epoch 16/20\n",
      "363/363 [==============================] - 0s 1ms/step - loss: nan - val_loss: nan\n",
      "Epoch 17/20\n",
      "363/363 [==============================] - 0s 1ms/step - loss: nan - val_loss: nan\n",
      "Epoch 18/20\n",
      "363/363 [==============================] - 0s 1ms/step - loss: nan - val_loss: nan\n",
      "Epoch 19/20\n",
      "363/363 [==============================] - 0s 1ms/step - loss: nan - val_loss: nan\n",
      "Epoch 20/20\n",
      "363/363 [==============================] - 0s 1ms/step - loss: nan - val_loss: nan\n"
     ]
    }
   ],
   "source": [
    "# it does not work well\n",
    "model.compile(loss=\"mean_squared_error\", optimizer=\"sgd\")\n",
    "history = model.fit(X_train, y_train, epochs=20, validation_data=(X_valid, y_valid))"
   ]
  },
  {
   "cell_type": "markdown",
   "id": "804f3b55-cd29-47a4-81e4-9dc6d8a46a9c",
   "metadata": {
    "jp-MarkdownHeadingCollapsed": true,
    "tags": []
   },
   "source": [
    "## two inputs model with concatenate layer"
   ]
  },
  {
   "cell_type": "code",
   "execution_count": 21,
   "id": "d0f332dd-7cef-49d1-8835-a12ee8b711b5",
   "metadata": {},
   "outputs": [],
   "source": [
    "X_train, y_train, X_valid, y_valid, X_test, y_test = handson.housing_data()\n",
    "\n",
    "X_train_A, X_train_B = X_train[:, :5], X_train[:, 2:]\n",
    "X_valid_A, X_valid_B = X_valid[:, :5], X_valid[:, 2:]\n",
    "X_test_A, X_test_B = X_test[:, :5], X_test[:, 2:]"
   ]
  },
  {
   "cell_type": "code",
   "execution_count": 41,
   "id": "15f61c67-d27e-44f3-828c-0f5ff6511b43",
   "metadata": {},
   "outputs": [],
   "source": [
    "input_A = keras.layers.Input(shape=[5], name=\"wide_input\")\n",
    "input_B = keras.layers.Input(shape=[6], name=\"deep_input\")"
   ]
  },
  {
   "cell_type": "code",
   "execution_count": 42,
   "id": "9340c31c-c01a-4296-8ee5-dbf1ef9c58fc",
   "metadata": {},
   "outputs": [],
   "source": [
    "hidden1 = keras.layers.Dense(30, activation=\"relu\")(input_B)\n",
    "hidden2 = keras.layers.Dense(30, activation=\"relu\")(hidden1)\n",
    "concat = keras.layers.concatenate([input_A, hidden2])\n",
    "output = keras.layers.Dense(1, name=\"output\")(concat)\n",
    "model = keras.Model(inputs=[input_A, input_B], outputs=[output])"
   ]
  },
  {
   "cell_type": "code",
   "execution_count": 44,
   "id": "d895d54c-a784-467d-971e-3a3a45e474c8",
   "metadata": {},
   "outputs": [
    {
     "data": {
      "text/plain": [
       "{'name': 'SGD',\n",
       " 'learning_rate': 0.001,\n",
       " 'decay': 0.0,\n",
       " 'momentum': 0.0,\n",
       " 'nesterov': False}"
      ]
     },
     "execution_count": 44,
     "metadata": {},
     "output_type": "execute_result"
    }
   ],
   "source": [
    "model.compile(loss=\"mse\", optimizer=keras.optimizers.SGD(learning_rate=1e-3)) \n",
    "model.optimizer.get_config()"
   ]
  },
  {
   "cell_type": "code",
   "execution_count": 45,
   "id": "cbe126c3-01a9-4324-8886-8b3ef93c9e61",
   "metadata": {
    "collapsed": true,
    "jupyter": {
     "outputs_hidden": true
    },
    "tags": []
   },
   "outputs": [
    {
     "name": "stdout",
     "output_type": "stream",
     "text": [
      "Epoch 1/20\n",
      "363/363 [==============================] - 1s 2ms/step - loss: 2.2099 - val_loss: 0.9340\n",
      "Epoch 2/20\n",
      "363/363 [==============================] - 1s 2ms/step - loss: 0.8194 - val_loss: 0.7372\n",
      "Epoch 3/20\n",
      "363/363 [==============================] - 0s 1ms/step - loss: 0.7093 - val_loss: 0.6811\n",
      "Epoch 4/20\n",
      "363/363 [==============================] - 0s 1ms/step - loss: 0.6663 - val_loss: 0.6494\n",
      "Epoch 5/20\n",
      "363/363 [==============================] - 0s 1ms/step - loss: 0.6383 - val_loss: 0.6266\n",
      "Epoch 6/20\n",
      "363/363 [==============================] - 0s 1ms/step - loss: 0.6161 - val_loss: 0.6059\n",
      "Epoch 7/20\n",
      "363/363 [==============================] - 0s 1ms/step - loss: 0.5967 - val_loss: 0.5857\n",
      "Epoch 8/20\n",
      "363/363 [==============================] - 0s 1ms/step - loss: 0.5796 - val_loss: 0.5707\n",
      "Epoch 9/20\n",
      "363/363 [==============================] - 0s 1ms/step - loss: 0.5657 - val_loss: 0.5546\n",
      "Epoch 10/20\n",
      "363/363 [==============================] - 0s 1ms/step - loss: 0.5515 - val_loss: 0.5409\n",
      "Epoch 11/20\n",
      "363/363 [==============================] - 0s 1ms/step - loss: 0.5376 - val_loss: 0.5288\n",
      "Epoch 12/20\n",
      "363/363 [==============================] - 0s 1ms/step - loss: 0.5266 - val_loss: 0.5194\n",
      "Epoch 13/20\n",
      "363/363 [==============================] - 0s 1ms/step - loss: 0.5184 - val_loss: 0.5097\n",
      "Epoch 14/20\n",
      "363/363 [==============================] - 0s 1ms/step - loss: 0.5081 - val_loss: 0.5017\n",
      "Epoch 15/20\n",
      "363/363 [==============================] - 0s 1ms/step - loss: 0.5010 - val_loss: 0.4955\n",
      "Epoch 16/20\n",
      "363/363 [==============================] - 0s 1ms/step - loss: 0.4989 - val_loss: 0.4889\n",
      "Epoch 17/20\n",
      "363/363 [==============================] - 0s 1ms/step - loss: 0.4946 - val_loss: 0.4863\n",
      "Epoch 18/20\n",
      "363/363 [==============================] - 0s 1ms/step - loss: 0.4891 - val_loss: 0.4800\n",
      "Epoch 19/20\n",
      "363/363 [==============================] - 0s 1ms/step - loss: 0.4840 - val_loss: 0.4850\n",
      "Epoch 20/20\n",
      "363/363 [==============================] - 0s 1ms/step - loss: 0.4853 - val_loss: 0.4734\n"
     ]
    }
   ],
   "source": [
    "history = model.fit(\n",
    "    (X_train_A, X_train_B), \n",
    "    y_train, \n",
    "    epochs=20,\n",
    "    validation_data=((X_valid_A, X_valid_B),y_valid))"
   ]
  },
  {
   "cell_type": "code",
   "execution_count": 46,
   "id": "a758b4d8-5a45-40b0-a73c-56041085bd3c",
   "metadata": {},
   "outputs": [
    {
     "name": "stdout",
     "output_type": "stream",
     "text": [
      "162/162 [==============================] - 0s 865us/step - loss: 0.4868\n"
     ]
    },
    {
     "data": {
      "text/plain": [
       "0.486760675907135"
      ]
     },
     "execution_count": 46,
     "metadata": {},
     "output_type": "execute_result"
    }
   ],
   "source": [
    "mse_test = model.evaluate((X_test_A, X_test_B), y_test)\n",
    "mse_test"
   ]
  },
  {
   "cell_type": "markdown",
   "id": "4a7917f9-f80d-4cad-a5bf-c0eb5c647879",
   "metadata": {
    "jp-MarkdownHeadingCollapsed": true,
    "tags": []
   },
   "source": [
    "## two inputs and two outputs model"
   ]
  },
  {
   "cell_type": "code",
   "execution_count": 22,
   "id": "ccbafc9a-24bf-4d52-bb92-522bfe4b06f1",
   "metadata": {},
   "outputs": [],
   "source": [
    "X_train, y_train, X_valid, y_valid, X_test, y_test = handson.housing_data()\n",
    "\n",
    "X_train_A, X_train_B = X_train[:, :5], X_train[:, 2:]\n",
    "X_valid_A, X_valid_B = X_valid[:, :5], X_valid[:, 2:]\n",
    "X_test_A, X_test_B = X_test[:, :5], X_test[:, 2:]"
   ]
  },
  {
   "cell_type": "code",
   "execution_count": 50,
   "id": "01fe8dd5-dc1f-4519-8c58-41ac22b74bef",
   "metadata": {},
   "outputs": [],
   "source": [
    "input_A = keras.layers.Input(shape=[5], name=\"wide_input\")\n",
    "input_B = keras.layers.Input(shape=[6], name=\"deep_input\")"
   ]
  },
  {
   "cell_type": "code",
   "execution_count": 51,
   "id": "f35cca9d-bcc1-4610-893e-73d5fd9ad1ee",
   "metadata": {},
   "outputs": [],
   "source": [
    "hidden1 = keras.layers.Dense(30, activation=\"relu\")(input_B)\n",
    "hidden2 = keras.layers.Dense(30, activation=\"relu\")(hidden1)\n",
    "concat = keras.layers.concatenate([input_A, hidden2])\n",
    "output = keras.layers.Dense(1, name=\"main_output\")(concat)\n",
    "aux_output = keras.layers.Dense(1, name=\"aux_output\")(hidden2)\n",
    "model = keras.Model(inputs=[input_A, input_B], outputs=[output, aux_output])"
   ]
  },
  {
   "cell_type": "code",
   "execution_count": 52,
   "id": "07ae7f2a-9181-48a2-81b6-2368ca4766bf",
   "metadata": {},
   "outputs": [],
   "source": [
    "# the first output is more important, so more weight is assigned on it for loss function\n",
    "model.compile(loss=[\"mse\", \"mse\"], loss_weights=[0.9, 0.1], optimizer=\"sgd\")"
   ]
  },
  {
   "cell_type": "code",
   "execution_count": 53,
   "id": "a1e79fb0-3bc6-43a7-bce1-990f9d1f90c2",
   "metadata": {
    "collapsed": true,
    "jupyter": {
     "outputs_hidden": true
    },
    "tags": []
   },
   "outputs": [
    {
     "name": "stdout",
     "output_type": "stream",
     "text": [
      "Epoch 1/20\n",
      "363/363 [==============================] - 1s 2ms/step - loss: 0.9012 - main_output_loss: 0.7970 - aux_output_loss: 1.8398 - val_loss: 1.0476 - val_main_output_loss: 1.0383 - val_aux_output_loss: 1.1313\n",
      "Epoch 2/20\n",
      "363/363 [==============================] - 1s 2ms/step - loss: 0.6920 - main_output_loss: 0.6541 - aux_output_loss: 1.0333 - val_loss: 0.6091 - val_main_output_loss: 0.5581 - val_aux_output_loss: 1.0682\n",
      "Epoch 3/20\n",
      "363/363 [==============================] - 1s 2ms/step - loss: 0.5399 - main_output_loss: 0.4935 - aux_output_loss: 0.9581 - val_loss: 0.6482 - val_main_output_loss: 0.6223 - val_aux_output_loss: 0.8817\n",
      "Epoch 4/20\n",
      "363/363 [==============================] - 1s 2ms/step - loss: 0.5700 - main_output_loss: 0.5435 - aux_output_loss: 0.8091 - val_loss: 0.5049 - val_main_output_loss: 0.4736 - val_aux_output_loss: 0.7862\n",
      "Epoch 5/20\n",
      "363/363 [==============================] - 1s 2ms/step - loss: 0.4771 - main_output_loss: 0.4484 - aux_output_loss: 0.7354 - val_loss: 0.4858 - val_main_output_loss: 0.4574 - val_aux_output_loss: 0.7415\n",
      "Epoch 6/20\n",
      "363/363 [==============================] - 1s 2ms/step - loss: 0.4670 - main_output_loss: 0.4418 - aux_output_loss: 0.6933 - val_loss: 0.4743 - val_main_output_loss: 0.4475 - val_aux_output_loss: 0.7160\n",
      "Epoch 7/20\n",
      "363/363 [==============================] - 1s 2ms/step - loss: 0.4493 - main_output_loss: 0.4253 - aux_output_loss: 0.6655 - val_loss: 0.4676 - val_main_output_loss: 0.4415 - val_aux_output_loss: 0.7029\n",
      "Epoch 8/20\n",
      "363/363 [==============================] - 1s 2ms/step - loss: 0.4402 - main_output_loss: 0.4171 - aux_output_loss: 0.6479 - val_loss: 0.4542 - val_main_output_loss: 0.4309 - val_aux_output_loss: 0.6636\n",
      "Epoch 9/20\n",
      "363/363 [==============================] - 1s 2ms/step - loss: 0.4301 - main_output_loss: 0.4081 - aux_output_loss: 0.6281 - val_loss: 0.4458 - val_main_output_loss: 0.4229 - val_aux_output_loss: 0.6525\n",
      "Epoch 10/20\n",
      "363/363 [==============================] - 1s 2ms/step - loss: 0.4251 - main_output_loss: 0.4042 - aux_output_loss: 0.6136 - val_loss: 0.4437 - val_main_output_loss: 0.4219 - val_aux_output_loss: 0.6395\n",
      "Epoch 11/20\n",
      "363/363 [==============================] - 1s 2ms/step - loss: 0.4185 - main_output_loss: 0.3982 - aux_output_loss: 0.6009 - val_loss: 0.4390 - val_main_output_loss: 0.4155 - val_aux_output_loss: 0.6504\n",
      "Epoch 12/20\n",
      "363/363 [==============================] - 1s 2ms/step - loss: 0.4102 - main_output_loss: 0.3903 - aux_output_loss: 0.5891 - val_loss: 0.4310 - val_main_output_loss: 0.4101 - val_aux_output_loss: 0.6191\n",
      "Epoch 13/20\n",
      "363/363 [==============================] - 1s 2ms/step - loss: 0.4041 - main_output_loss: 0.3850 - aux_output_loss: 0.5765 - val_loss: 0.4403 - val_main_output_loss: 0.4217 - val_aux_output_loss: 0.6078\n",
      "Epoch 14/20\n",
      "363/363 [==============================] - 1s 2ms/step - loss: 0.3996 - main_output_loss: 0.3810 - aux_output_loss: 0.5665 - val_loss: 0.5035 - val_main_output_loss: 0.4946 - val_aux_output_loss: 0.5831\n",
      "Epoch 15/20\n",
      "363/363 [==============================] - 1s 2ms/step - loss: 0.3958 - main_output_loss: 0.3777 - aux_output_loss: 0.5588 - val_loss: 0.4358 - val_main_output_loss: 0.4200 - val_aux_output_loss: 0.5783\n",
      "Epoch 16/20\n",
      "363/363 [==============================] - 1s 2ms/step - loss: 0.3907 - main_output_loss: 0.3729 - aux_output_loss: 0.5511 - val_loss: 0.4124 - val_main_output_loss: 0.3947 - val_aux_output_loss: 0.5721\n",
      "Epoch 17/20\n",
      "363/363 [==============================] - 1s 2ms/step - loss: 0.3866 - main_output_loss: 0.3695 - aux_output_loss: 0.5404 - val_loss: 0.4053 - val_main_output_loss: 0.3882 - val_aux_output_loss: 0.5593\n",
      "Epoch 18/20\n",
      "363/363 [==============================] - 1s 2ms/step - loss: 0.3819 - main_output_loss: 0.3649 - aux_output_loss: 0.5348 - val_loss: 0.4802 - val_main_output_loss: 0.4722 - val_aux_output_loss: 0.5524\n",
      "Epoch 19/20\n",
      "363/363 [==============================] - 1s 2ms/step - loss: 0.3815 - main_output_loss: 0.3652 - aux_output_loss: 0.5281 - val_loss: 0.3991 - val_main_output_loss: 0.3829 - val_aux_output_loss: 0.5453\n",
      "Epoch 20/20\n",
      "363/363 [==============================] - 1s 2ms/step - loss: 0.3756 - main_output_loss: 0.3593 - aux_output_loss: 0.5226 - val_loss: 0.4125 - val_main_output_loss: 0.3965 - val_aux_output_loss: 0.5567\n"
     ]
    }
   ],
   "source": [
    "history = model.fit(\n",
    "    [X_train_A, X_train_B], \n",
    "    [y_train, y_train], \n",
    "    epochs=20,\n",
    "    validation_data=([X_valid_A, X_valid_B], [y_valid, y_valid]))"
   ]
  },
  {
   "cell_type": "code",
   "execution_count": 54,
   "id": "5fd740b9-dad4-461b-97c8-6844fcdcbb98",
   "metadata": {},
   "outputs": [
    {
     "name": "stdout",
     "output_type": "stream",
     "text": [
      "162/162 [==============================] - 0s 1ms/step - loss: 0.3910 - main_output_loss: 0.3742 - aux_output_loss: 0.5421\n",
      "0.39098742604255676 0.37419408559799194 0.5421300530433655\n"
     ]
    }
   ],
   "source": [
    "total_loss, main_loss, aux_loss = model.evaluate([X_test_A, X_test_B], [y_test, y_test])\n",
    "print(total_loss, main_loss, aux_loss)"
   ]
  },
  {
   "cell_type": "markdown",
   "id": "b29e88b5-1e4b-4843-b3bd-47824e2b128c",
   "metadata": {
    "jp-MarkdownHeadingCollapsed": true,
    "tags": []
   },
   "source": [
    "## checkpoint"
   ]
  },
  {
   "cell_type": "code",
   "execution_count": 23,
   "id": "0e832a0b-8542-42c1-914a-a5d6895728ae",
   "metadata": {},
   "outputs": [],
   "source": [
    "X_train, y_train, X_valid, y_valid, X_test, y_test = handson.housing_data()"
   ]
  },
  {
   "cell_type": "code",
   "execution_count": 61,
   "id": "75ddd879-49c2-4684-94e9-d5d05d63e594",
   "metadata": {},
   "outputs": [],
   "source": [
    "# ModelCheckpoint is a callback function in Keras that saves the model weights during training. \n",
    "# It allows you to save the best model observed during training based on a specified metric, \n",
    "# such as validation loss or accuracy.\n",
    "\n",
    "checkpoint_cb = keras.callbacks.ModelCheckpoint(\"my_keras_model.hdf5\", save_best_only=True)\n",
    "\n",
    "model = keras.models.Sequential([\n",
    "    keras.layers.Dense(30, activation=\"relu\", input_shape=X_train.shape[1:]),\n",
    "    keras.layers.Dense(1)])\n",
    "\n",
    "model.compile(loss=\"mean_squared_error\", optimizer=\"sgd\")"
   ]
  },
  {
   "cell_type": "code",
   "execution_count": 57,
   "id": "f9f26f80-4712-4ee9-b03e-8f9cbb5cf745",
   "metadata": {},
   "outputs": [
    {
     "name": "stdout",
     "output_type": "stream",
     "text": [
      "Epoch 1/10\n",
      "363/363 [==============================] - 1s 1ms/step - loss: 2.0102 - val_loss: 1.0858\n",
      "Epoch 2/10\n",
      "363/363 [==============================] - 0s 1ms/step - loss: 0.6909 - val_loss: 0.4760\n",
      "Epoch 3/10\n",
      "363/363 [==============================] - 0s 1ms/step - loss: 0.4236 - val_loss: 0.4251\n",
      "Epoch 4/10\n",
      "363/363 [==============================] - 0s 1ms/step - loss: 0.3943 - val_loss: 0.4208\n",
      "Epoch 5/10\n",
      "363/363 [==============================] - 0s 1ms/step - loss: 0.3893 - val_loss: 0.3999\n",
      "Epoch 6/10\n",
      "363/363 [==============================] - 0s 1ms/step - loss: 0.3744 - val_loss: 0.4053\n",
      "Epoch 7/10\n",
      "363/363 [==============================] - 0s 1ms/step - loss: 0.3727 - val_loss: 0.3985\n",
      "Epoch 8/10\n",
      "363/363 [==============================] - 0s 1ms/step - loss: 0.3695 - val_loss: 0.4004\n",
      "Epoch 9/10\n",
      "363/363 [==============================] - 0s 1ms/step - loss: 0.3739 - val_loss: 0.4031\n",
      "Epoch 10/10\n",
      "363/363 [==============================] - 0s 1ms/step - loss: 0.3646 - val_loss: 0.4025\n"
     ]
    }
   ],
   "source": [
    "history = model.fit(\n",
    "    X_train, \n",
    "    y_train, \n",
    "    epochs=10, \n",
    "    validation_data=(X_valid, y_valid), \n",
    "    callbacks=[checkpoint_cb])"
   ]
  },
  {
   "cell_type": "code",
   "execution_count": 60,
   "id": "9aa11136-5296-4b39-a244-ee10290c107d",
   "metadata": {},
   "outputs": [],
   "source": [
    "model = keras.models.load_model(\"my_keras_model.hdf5\") # roll back to best model"
   ]
  },
  {
   "cell_type": "markdown",
   "id": "110d79eb-6b30-4e0b-bfb5-9f2f656e1568",
   "metadata": {
    "jp-MarkdownHeadingCollapsed": true,
    "tags": []
   },
   "source": [
    "## early stopping"
   ]
  },
  {
   "cell_type": "code",
   "execution_count": 24,
   "id": "64c7626c-68dd-4c18-a773-4737928be829",
   "metadata": {},
   "outputs": [],
   "source": [
    "X_train, y_train, X_valid, y_valid, X_test, y_test = handson.housing_data()"
   ]
  },
  {
   "cell_type": "code",
   "execution_count": 505,
   "id": "f9ec7f48-5c78-4e70-8060-af4a99081c1d",
   "metadata": {},
   "outputs": [],
   "source": [
    "# EarlyStopping is a callback in Keras that can be used during training to automatically stop \n",
    "# training when a monitored metric stops improving. It is designed to prevent overfitting and \n",
    "# reduce training time by stopping the training process early when further training is unlikely\n",
    "# to improve the model's performance.\n",
    "\n",
    "early_stopping_cb = keras.callbacks.EarlyStopping(patience=10, restore_best_weights=True)\n",
    "# In early stopping, \"patience\" is a hyperparameter that determines the number of epochs \n",
    "# the model can undergo without improvement in the monitored quantity before stopping the \n",
    "# training process. \n",
    "\n",
    "model = keras.models.Sequential([\n",
    "    keras.layers.Dense(30, activation=\"relu\", input_shape=X_train.shape[1:]),\n",
    "    keras.layers.Dense(1)])\n",
    "\n",
    "model.compile(loss=\"mean_squared_error\", optimizer=\"sgd\")"
   ]
  },
  {
   "cell_type": "code",
   "execution_count": 506,
   "id": "b7085dab-2f76-434e-96f3-d9d24b8e0b85",
   "metadata": {
    "collapsed": true,
    "jupyter": {
     "outputs_hidden": true
    },
    "tags": []
   },
   "outputs": [
    {
     "name": "stdout",
     "output_type": "stream",
     "text": [
      "Epoch 1/100\n",
      "363/363 [==============================] - 1s 1ms/step - loss: 1.2088 - val_loss: 7.5077\n",
      "Epoch 2/100\n",
      "363/363 [==============================] - 0s 1ms/step - loss: 0.7584 - val_loss: 0.5632\n",
      "Epoch 3/100\n",
      "363/363 [==============================] - 0s 1ms/step - loss: 0.4886 - val_loss: 0.4733\n",
      "Epoch 4/100\n",
      "363/363 [==============================] - 0s 1ms/step - loss: 0.4470 - val_loss: 0.4236\n",
      "Epoch 5/100\n",
      "363/363 [==============================] - 0s 1ms/step - loss: 0.4289 - val_loss: 0.4147\n",
      "Epoch 6/100\n",
      "363/363 [==============================] - 0s 1ms/step - loss: 0.4303 - val_loss: 0.4266\n",
      "Epoch 7/100\n",
      "363/363 [==============================] - 0s 1ms/step - loss: 0.4329 - val_loss: 0.4127\n",
      "Epoch 8/100\n",
      "363/363 [==============================] - 0s 1ms/step - loss: 0.4121 - val_loss: 0.4273\n",
      "Epoch 9/100\n",
      "363/363 [==============================] - 0s 1ms/step - loss: 0.4070 - val_loss: 0.4150\n",
      "Epoch 10/100\n",
      "363/363 [==============================] - 0s 1ms/step - loss: 0.4021 - val_loss: 0.3880\n",
      "Epoch 11/100\n",
      "363/363 [==============================] - 0s 1ms/step - loss: 0.3947 - val_loss: 0.3834\n",
      "Epoch 12/100\n",
      "363/363 [==============================] - 0s 1ms/step - loss: 0.3897 - val_loss: 0.3795\n",
      "Epoch 13/100\n",
      "363/363 [==============================] - 0s 1ms/step - loss: 0.4080 - val_loss: 0.3836\n",
      "Epoch 14/100\n",
      "363/363 [==============================] - 0s 1ms/step - loss: 0.3861 - val_loss: 0.3771\n",
      "Epoch 15/100\n",
      "363/363 [==============================] - 0s 1ms/step - loss: 0.3816 - val_loss: 0.3776\n",
      "Epoch 16/100\n",
      "363/363 [==============================] - 0s 1ms/step - loss: 0.3826 - val_loss: 0.3681\n",
      "Epoch 17/100\n",
      "363/363 [==============================] - 0s 1ms/step - loss: 0.3953 - val_loss: 0.3705\n",
      "Epoch 18/100\n",
      "363/363 [==============================] - 0s 1ms/step - loss: 0.3796 - val_loss: 0.3690\n",
      "Epoch 19/100\n",
      "363/363 [==============================] - 0s 1ms/step - loss: 0.3713 - val_loss: 0.3701\n",
      "Epoch 20/100\n",
      "363/363 [==============================] - 0s 1ms/step - loss: 0.3723 - val_loss: 0.3662\n",
      "Epoch 21/100\n",
      "363/363 [==============================] - 0s 1ms/step - loss: 0.3875 - val_loss: 0.3676\n",
      "Epoch 22/100\n",
      "363/363 [==============================] - 0s 1ms/step - loss: 0.3890 - val_loss: 0.3671\n",
      "Epoch 23/100\n",
      "363/363 [==============================] - 0s 1ms/step - loss: 0.3665 - val_loss: 0.3586\n",
      "Epoch 24/100\n",
      "363/363 [==============================] - 0s 1ms/step - loss: 0.3859 - val_loss: 0.3547\n",
      "Epoch 25/100\n",
      "363/363 [==============================] - 0s 1ms/step - loss: 0.3576 - val_loss: 0.3582\n",
      "Epoch 26/100\n",
      "363/363 [==============================] - 0s 1ms/step - loss: 0.3561 - val_loss: 0.3583\n",
      "Epoch 27/100\n",
      "363/363 [==============================] - 0s 1ms/step - loss: 0.3518 - val_loss: 0.3569\n",
      "Epoch 28/100\n",
      "363/363 [==============================] - 0s 1ms/step - loss: 0.3510 - val_loss: 0.3567\n",
      "Epoch 29/100\n",
      "363/363 [==============================] - 0s 1ms/step - loss: 0.3908 - val_loss: 0.3537\n",
      "Epoch 30/100\n",
      "363/363 [==============================] - 0s 1ms/step - loss: 0.3571 - val_loss: 0.3523\n",
      "Epoch 31/100\n",
      "363/363 [==============================] - 0s 1ms/step - loss: 0.3489 - val_loss: 0.3487\n",
      "Epoch 32/100\n",
      "363/363 [==============================] - 0s 1ms/step - loss: 0.3538 - val_loss: 0.3437\n",
      "Epoch 33/100\n",
      "363/363 [==============================] - 0s 1ms/step - loss: 0.3546 - val_loss: 0.3441\n",
      "Epoch 34/100\n",
      "363/363 [==============================] - 0s 1ms/step - loss: 0.3407 - val_loss: 0.3412\n",
      "Epoch 35/100\n",
      "363/363 [==============================] - 0s 1ms/step - loss: 0.3761 - val_loss: 0.3505\n",
      "Epoch 36/100\n",
      "363/363 [==============================] - 0s 1ms/step - loss: 0.3615 - val_loss: 0.3483\n",
      "Epoch 37/100\n",
      "363/363 [==============================] - 0s 1ms/step - loss: 0.3588 - val_loss: 0.3420\n",
      "Epoch 38/100\n",
      "363/363 [==============================] - 0s 1ms/step - loss: 0.3402 - val_loss: 0.3408\n",
      "Epoch 39/100\n",
      "363/363 [==============================] - 0s 1ms/step - loss: 0.3371 - val_loss: 0.3390\n",
      "Epoch 40/100\n",
      "363/363 [==============================] - 0s 1ms/step - loss: 0.3357 - val_loss: 0.3385\n",
      "Epoch 41/100\n",
      "363/363 [==============================] - 0s 1ms/step - loss: 0.3347 - val_loss: 0.3900\n",
      "Epoch 42/100\n",
      "363/363 [==============================] - 0s 1ms/step - loss: 0.3320 - val_loss: 0.3361\n",
      "Epoch 43/100\n",
      "363/363 [==============================] - 0s 1ms/step - loss: 0.3445 - val_loss: 0.3354\n",
      "Epoch 44/100\n",
      "363/363 [==============================] - 0s 1ms/step - loss: 0.3390 - val_loss: 0.3327\n",
      "Epoch 45/100\n",
      "363/363 [==============================] - 0s 1ms/step - loss: 0.3297 - val_loss: 0.3318\n",
      "Epoch 46/100\n",
      "363/363 [==============================] - 0s 1ms/step - loss: 0.3274 - val_loss: 0.3501\n",
      "Epoch 47/100\n",
      "363/363 [==============================] - 0s 1ms/step - loss: 0.3270 - val_loss: 0.3335\n",
      "Epoch 48/100\n",
      "363/363 [==============================] - 0s 1ms/step - loss: 0.3246 - val_loss: 0.3325\n",
      "Epoch 49/100\n",
      "363/363 [==============================] - 0s 1ms/step - loss: 0.3285 - val_loss: 0.3361\n",
      "Epoch 50/100\n",
      "363/363 [==============================] - 0s 1ms/step - loss: 0.3239 - val_loss: 0.3741\n",
      "Epoch 51/100\n",
      "363/363 [==============================] - 0s 1ms/step - loss: 0.3250 - val_loss: 0.3312\n",
      "Epoch 52/100\n",
      "363/363 [==============================] - 0s 1ms/step - loss: 0.3241 - val_loss: 0.3250\n",
      "Epoch 53/100\n",
      "363/363 [==============================] - 0s 1ms/step - loss: 0.3369 - val_loss: 0.4395\n",
      "Epoch 54/100\n",
      "363/363 [==============================] - 0s 1ms/step - loss: 0.3519 - val_loss: 0.3283\n",
      "Epoch 55/100\n",
      "363/363 [==============================] - 0s 1ms/step - loss: 0.3241 - val_loss: 0.3269\n",
      "Epoch 56/100\n",
      "363/363 [==============================] - 0s 1ms/step - loss: 0.3225 - val_loss: 0.3336\n",
      "Epoch 57/100\n",
      "363/363 [==============================] - 0s 1ms/step - loss: 0.3279 - val_loss: 0.3291\n",
      "Epoch 58/100\n",
      "363/363 [==============================] - 0s 1ms/step - loss: 0.3199 - val_loss: 0.3770\n",
      "Epoch 59/100\n",
      "363/363 [==============================] - 0s 1ms/step - loss: 0.3183 - val_loss: 0.3272\n",
      "Epoch 60/100\n",
      "363/363 [==============================] - 0s 1ms/step - loss: 0.3183 - val_loss: 0.3290\n",
      "Epoch 61/100\n",
      "363/363 [==============================] - 0s 1ms/step - loss: 0.3174 - val_loss: 0.3270\n",
      "Epoch 62/100\n",
      "363/363 [==============================] - 0s 1ms/step - loss: 0.3159 - val_loss: 0.3265\n"
     ]
    }
   ],
   "source": [
    "history = model.fit(\n",
    "    X_train, \n",
    "    y_train, \n",
    "    epochs=100,\n",
    "    validation_data=(X_valid, y_valid),\n",
    "    callbacks=[early_stopping_cb])"
   ]
  },
  {
   "cell_type": "code",
   "execution_count": 507,
   "id": "cc4c6138-b48e-467f-b3f1-b02f726baf96",
   "metadata": {},
   "outputs": [
    {
     "name": "stdout",
     "output_type": "stream",
     "text": [
      "162/162 [==============================] - 0s 764us/step - loss: 0.3466\n"
     ]
    },
    {
     "data": {
      "text/plain": [
       "0.34658145904541016"
      ]
     },
     "execution_count": 507,
     "metadata": {},
     "output_type": "execute_result"
    }
   ],
   "source": [
    "mse_test = model.evaluate(X_test, y_test)\n",
    "mse_test"
   ]
  },
  {
   "cell_type": "markdown",
   "id": "d72763e0-dfb9-4e5c-a5ed-79bb7f7d3d4d",
   "metadata": {
    "jp-MarkdownHeadingCollapsed": true,
    "tags": []
   },
   "source": [
    "## model with batch normalization layers and kernal initialization"
   ]
  },
  {
   "cell_type": "code",
   "execution_count": 25,
   "id": "61488ecc-aee4-4139-8cdf-fdd25f908da0",
   "metadata": {},
   "outputs": [],
   "source": [
    "X_train, y_train, X_valid, y_valid, X_test, y_test = handson.housing_data()"
   ]
  },
  {
   "cell_type": "code",
   "execution_count": 73,
   "id": "b1b810a4-2da7-4b23-9264-a1c7fcfc0c0b",
   "metadata": {},
   "outputs": [],
   "source": [
    "# batch normalization normalizes intermediate vectors between layers. The benefits are:\n",
    "# 1. Improved training speed \n",
    "# 2. Better generalization\n",
    "# 3. Less sensitivity to weight initialization\n",
    "# 4. High tolerance on higher learning rates\n",
    "# 5. Regularization\n",
    "\n",
    "model = keras.models.Sequential([\n",
    "    keras.layers.Flatten(input_shape=X_train.shape[1:]),\n",
    "    keras.layers.BatchNormalization(),\n",
    "    keras.layers.Dense(30, activation=\"elu\", kernel_initializer=\"he_normal\"),\n",
    "    keras.layers.BatchNormalization(),\n",
    "    keras.layers.Dense(15, activation=\"elu\", kernel_initializer=\"he_normal\"),\n",
    "    keras.layers.BatchNormalization(),\n",
    "    keras.layers.Dense(1)])"
   ]
  },
  {
   "cell_type": "code",
   "execution_count": 69,
   "id": "b79cd569-250e-4b41-bf7e-1fa1ef7c8bd0",
   "metadata": {},
   "outputs": [],
   "source": [
    "model.compile(loss=\"mean_squared_error\", optimizer=\"sgd\")"
   ]
  },
  {
   "cell_type": "code",
   "execution_count": 70,
   "id": "25aa0b53-6a2b-4c3a-b81a-ac091bb5bd54",
   "metadata": {
    "collapsed": true,
    "jupyter": {
     "outputs_hidden": true
    },
    "tags": []
   },
   "outputs": [
    {
     "name": "stdout",
     "output_type": "stream",
     "text": [
      "Epoch 1/20\n",
      "363/363 [==============================] - 1s 2ms/step - loss: 0.6945 - val_loss: 0.6429\n",
      "Epoch 2/20\n",
      "363/363 [==============================] - 1s 2ms/step - loss: 0.4921 - val_loss: 0.8938\n",
      "Epoch 3/20\n",
      "363/363 [==============================] - 1s 2ms/step - loss: 0.4671 - val_loss: 1.5521\n",
      "Epoch 4/20\n",
      "363/363 [==============================] - 1s 2ms/step - loss: 0.4693 - val_loss: 2.7702\n",
      "Epoch 5/20\n",
      "363/363 [==============================] - 1s 2ms/step - loss: 0.4555 - val_loss: 4.2075\n",
      "Epoch 6/20\n",
      "363/363 [==============================] - 1s 2ms/step - loss: 0.4456 - val_loss: 2.2570\n",
      "Epoch 7/20\n",
      "363/363 [==============================] - 1s 2ms/step - loss: 0.4547 - val_loss: 4.9916\n",
      "Epoch 8/20\n",
      "363/363 [==============================] - 1s 2ms/step - loss: 0.4462 - val_loss: 1.6127\n",
      "Epoch 9/20\n",
      "363/363 [==============================] - 1s 2ms/step - loss: 0.4442 - val_loss: 2.9564\n",
      "Epoch 10/20\n",
      "363/363 [==============================] - 1s 2ms/step - loss: 0.4424 - val_loss: 5.1739\n",
      "Epoch 11/20\n",
      "363/363 [==============================] - 1s 2ms/step - loss: 0.4385 - val_loss: 1.9035\n",
      "Epoch 12/20\n",
      "363/363 [==============================] - 1s 2ms/step - loss: 0.4303 - val_loss: 1.5764\n",
      "Epoch 13/20\n",
      "363/363 [==============================] - 1s 2ms/step - loss: 0.4346 - val_loss: 1.0910\n",
      "Epoch 14/20\n",
      "363/363 [==============================] - 1s 2ms/step - loss: 0.4278 - val_loss: 3.1749\n",
      "Epoch 15/20\n",
      "363/363 [==============================] - 1s 2ms/step - loss: 0.4241 - val_loss: 8.6971\n",
      "Epoch 16/20\n",
      "363/363 [==============================] - 1s 2ms/step - loss: 0.4243 - val_loss: 4.1409\n",
      "Epoch 17/20\n",
      "363/363 [==============================] - 1s 2ms/step - loss: 0.4341 - val_loss: 6.8884\n",
      "Epoch 18/20\n",
      "363/363 [==============================] - 1s 2ms/step - loss: 0.4293 - val_loss: 1.0653\n",
      "Epoch 19/20\n",
      "363/363 [==============================] - 1s 2ms/step - loss: 0.4250 - val_loss: 2.4973\n",
      "Epoch 20/20\n",
      "363/363 [==============================] - 1s 2ms/step - loss: 0.4305 - val_loss: 1.3900\n"
     ]
    }
   ],
   "source": [
    "history = model.fit(X_train, y_train, epochs=20, validation_data=(X_valid, y_valid))"
   ]
  },
  {
   "cell_type": "code",
   "execution_count": 71,
   "id": "38a387ab-0d3a-41c8-88ce-d5d56b47ba13",
   "metadata": {},
   "outputs": [
    {
     "name": "stdout",
     "output_type": "stream",
     "text": [
      "162/162 [==============================] - 0s 927us/step - loss: 0.5709\n"
     ]
    },
    {
     "data": {
      "text/plain": [
       "0.5708961486816406"
      ]
     },
     "execution_count": 71,
     "metadata": {},
     "output_type": "execute_result"
    }
   ],
   "source": [
    "mse_test = model.evaluate(X_test, y_test)\n",
    "mse_test"
   ]
  },
  {
   "cell_type": "markdown",
   "id": "0a4fbfad-0663-42f1-bd6c-cf6b6fe83f7b",
   "metadata": {
    "jp-MarkdownHeadingCollapsed": true,
    "tags": []
   },
   "source": [
    "## transfer learning (skipped)"
   ]
  },
  {
   "cell_type": "markdown",
   "id": "f2673d03-42fb-42c0-8427-02683ebbaced",
   "metadata": {
    "jp-MarkdownHeadingCollapsed": true,
    "tags": []
   },
   "source": [
    "## model with dropout layers and functools.partial application"
   ]
  },
  {
   "cell_type": "code",
   "execution_count": 26,
   "id": "decaf251-f309-4884-99e9-1463ae55864c",
   "metadata": {},
   "outputs": [],
   "source": [
    "X_train, y_train, X_valid, y_valid, X_test, y_test = handson.fashion_mnist_data()"
   ]
  },
  {
   "cell_type": "code",
   "execution_count": 86,
   "id": "949116ca-d4b4-4196-8ae8-008697de29f2",
   "metadata": {},
   "outputs": [],
   "source": [
    "# The dropout layer is a regularization layer that helps to prevent overfitting in deep \n",
    "# learning models. It works by randomly dropping out (i.e., setting to zero) a fraction of \n",
    "# the input units during training. This forces the network to learn more robust features and \n",
    "# reduces the likelihood of the network relying too heavily on any one input feature, which \n",
    "# can lead to overfitting. During inference or prediction, the dropout layer is typically \n",
    "# turned off, and the weights of the remaining neurons are scaled accordingly to ensure that \n",
    "# the expected output of the layer remains the same.\n",
    "\n",
    "from functools import partial"
   ]
  },
  {
   "cell_type": "code",
   "execution_count": 77,
   "id": "05f1652e-8392-416c-8173-1419ad3b085f",
   "metadata": {},
   "outputs": [],
   "source": [
    "Dense = partial(\n",
    "    keras.layers.Dense,\n",
    "    activation=\"elu\",\n",
    "    kernel_initializer=\"he_normal\")"
   ]
  },
  {
   "cell_type": "code",
   "execution_count": 78,
   "id": "882bc711-c668-4cd0-aad1-7555a44d1ebd",
   "metadata": {},
   "outputs": [],
   "source": [
    "model = keras.models.Sequential([\n",
    "    keras.layers.Flatten(input_shape=[28, 28]),\n",
    "    keras.layers.Dropout(rate=0.2),\n",
    "    Dense(300),\n",
    "    keras.layers.Dropout(rate=0.2),\n",
    "    Dense(100),\n",
    "    keras.layers.Dropout(rate=0.2),\n",
    "    keras.layers.Dense(10, activation=\"softmax\")])"
   ]
  },
  {
   "cell_type": "code",
   "execution_count": 79,
   "id": "2f601854-8d3c-459d-a117-d46415faadf9",
   "metadata": {},
   "outputs": [],
   "source": [
    "model.compile(\n",
    "    loss=\"sparse_categorical_crossentropy\",\n",
    "    optimizer=\"sgd\",\n",
    "    metrics=[\"accuracy\"])"
   ]
  },
  {
   "cell_type": "code",
   "execution_count": 82,
   "id": "db73bdd8-f111-4770-9aec-e4a43ea7ccc4",
   "metadata": {
    "collapsed": true,
    "jupyter": {
     "outputs_hidden": true
    },
    "tags": []
   },
   "outputs": [
    {
     "name": "stdout",
     "output_type": "stream",
     "text": [
      "Epoch 1/30\n",
      "1719/1719 [==============================] - 3s 1ms/step - loss: 0.7738 - accuracy: 0.7190 - val_loss: 0.5017 - val_accuracy: 0.8258\n",
      "Epoch 2/30\n",
      "1719/1719 [==============================] - 2s 1ms/step - loss: 0.5798 - accuracy: 0.7908 - val_loss: 0.4600 - val_accuracy: 0.8378\n",
      "Epoch 3/30\n",
      "1719/1719 [==============================] - 2s 1ms/step - loss: 0.5366 - accuracy: 0.8061 - val_loss: 0.4331 - val_accuracy: 0.8488\n",
      "Epoch 4/30\n",
      "1719/1719 [==============================] - 2s 1ms/step - loss: 0.5130 - accuracy: 0.8144 - val_loss: 0.4166 - val_accuracy: 0.8546\n",
      "Epoch 5/30\n",
      "1719/1719 [==============================] - 2s 1ms/step - loss: 0.4986 - accuracy: 0.8192 - val_loss: 0.4083 - val_accuracy: 0.8548\n",
      "Epoch 6/30\n",
      "1719/1719 [==============================] - 2s 1ms/step - loss: 0.4846 - accuracy: 0.8239 - val_loss: 0.4106 - val_accuracy: 0.8550\n",
      "Epoch 7/30\n",
      "1719/1719 [==============================] - 2s 1ms/step - loss: 0.4746 - accuracy: 0.8278 - val_loss: 0.3903 - val_accuracy: 0.8616\n",
      "Epoch 8/30\n",
      "1719/1719 [==============================] - 2s 1ms/step - loss: 0.4674 - accuracy: 0.8297 - val_loss: 0.3988 - val_accuracy: 0.8592\n",
      "Epoch 9/30\n",
      "1719/1719 [==============================] - 2s 1ms/step - loss: 0.4612 - accuracy: 0.8315 - val_loss: 0.3830 - val_accuracy: 0.8642\n",
      "Epoch 10/30\n",
      "1719/1719 [==============================] - 2s 1ms/step - loss: 0.4532 - accuracy: 0.8344 - val_loss: 0.3775 - val_accuracy: 0.8646\n",
      "Epoch 11/30\n",
      "1719/1719 [==============================] - 2s 1ms/step - loss: 0.4485 - accuracy: 0.8355 - val_loss: 0.3765 - val_accuracy: 0.8666\n",
      "Epoch 12/30\n",
      "1719/1719 [==============================] - 2s 1ms/step - loss: 0.4452 - accuracy: 0.8367 - val_loss: 0.3689 - val_accuracy: 0.8684\n",
      "Epoch 13/30\n",
      "1719/1719 [==============================] - 2s 1ms/step - loss: 0.4411 - accuracy: 0.8380 - val_loss: 0.3666 - val_accuracy: 0.8686\n",
      "Epoch 14/30\n",
      "1719/1719 [==============================] - 2s 1ms/step - loss: 0.4330 - accuracy: 0.8402 - val_loss: 0.3663 - val_accuracy: 0.8706\n",
      "Epoch 15/30\n",
      "1719/1719 [==============================] - 2s 1ms/step - loss: 0.4345 - accuracy: 0.8405 - val_loss: 0.3598 - val_accuracy: 0.8704\n",
      "Epoch 16/30\n",
      "1719/1719 [==============================] - 2s 1ms/step - loss: 0.4292 - accuracy: 0.8425 - val_loss: 0.3561 - val_accuracy: 0.8720\n",
      "Epoch 17/30\n",
      "1719/1719 [==============================] - 2s 1ms/step - loss: 0.4248 - accuracy: 0.8451 - val_loss: 0.3567 - val_accuracy: 0.8742\n",
      "Epoch 18/30\n",
      "1719/1719 [==============================] - 2s 1ms/step - loss: 0.4211 - accuracy: 0.8449 - val_loss: 0.3523 - val_accuracy: 0.8712\n",
      "Epoch 19/30\n",
      "1719/1719 [==============================] - 2s 1ms/step - loss: 0.4235 - accuracy: 0.8436 - val_loss: 0.3557 - val_accuracy: 0.8718\n",
      "Epoch 20/30\n",
      "1719/1719 [==============================] - 2s 1ms/step - loss: 0.4158 - accuracy: 0.8462 - val_loss: 0.3475 - val_accuracy: 0.8752\n",
      "Epoch 21/30\n",
      "1719/1719 [==============================] - 2s 1ms/step - loss: 0.4146 - accuracy: 0.8465 - val_loss: 0.3475 - val_accuracy: 0.8734\n",
      "Epoch 22/30\n",
      "1719/1719 [==============================] - 2s 1ms/step - loss: 0.4118 - accuracy: 0.8491 - val_loss: 0.3441 - val_accuracy: 0.8768\n",
      "Epoch 23/30\n",
      "1719/1719 [==============================] - 2s 1ms/step - loss: 0.4058 - accuracy: 0.8501 - val_loss: 0.3448 - val_accuracy: 0.8748\n",
      "Epoch 24/30\n",
      "1719/1719 [==============================] - 2s 1ms/step - loss: 0.4060 - accuracy: 0.8506 - val_loss: 0.3407 - val_accuracy: 0.8746\n",
      "Epoch 25/30\n",
      "1719/1719 [==============================] - 2s 1ms/step - loss: 0.4073 - accuracy: 0.8497 - val_loss: 0.3406 - val_accuracy: 0.8724\n",
      "Epoch 26/30\n",
      "1719/1719 [==============================] - 2s 1ms/step - loss: 0.4023 - accuracy: 0.8512 - val_loss: 0.3389 - val_accuracy: 0.8768\n",
      "Epoch 27/30\n",
      "1719/1719 [==============================] - 2s 1ms/step - loss: 0.3986 - accuracy: 0.8533 - val_loss: 0.3395 - val_accuracy: 0.8762\n",
      "Epoch 28/30\n",
      "1719/1719 [==============================] - 2s 1ms/step - loss: 0.3963 - accuracy: 0.8527 - val_loss: 0.3324 - val_accuracy: 0.8792\n",
      "Epoch 29/30\n",
      "1719/1719 [==============================] - 2s 1ms/step - loss: 0.3980 - accuracy: 0.8514 - val_loss: 0.3338 - val_accuracy: 0.8770\n",
      "Epoch 30/30\n",
      "1719/1719 [==============================] - 2s 1ms/step - loss: 0.3948 - accuracy: 0.8532 - val_loss: 0.3312 - val_accuracy: 0.8814\n"
     ]
    }
   ],
   "source": [
    "history = model.fit(\n",
    "    X_train,\n",
    "    y_train,\n",
    "    epochs=30,\n",
    "    validation_data=(X_valid, y_valid))"
   ]
  },
  {
   "cell_type": "code",
   "execution_count": 83,
   "id": "7b8d24db-8a58-4161-a127-c354b8cb1019",
   "metadata": {},
   "outputs": [
    {
     "name": "stdout",
     "output_type": "stream",
     "text": [
      "313/313 [==============================] - 0s 1ms/step - loss: 0.3700 - accuracy: 0.8640\n"
     ]
    },
    {
     "data": {
      "text/plain": [
       "[0.37001723051071167, 0.8640000224113464]"
      ]
     },
     "execution_count": 83,
     "metadata": {},
     "output_type": "execute_result"
    }
   ],
   "source": [
    "acc_test = model.evaluate(X_test, y_test)\n",
    "acc_test"
   ]
  },
  {
   "cell_type": "markdown",
   "id": "551d6a50-92c5-4db4-95e4-20129be03d40",
   "metadata": {
    "jp-MarkdownHeadingCollapsed": true,
    "tags": []
   },
   "source": [
    "## adding normalization layer to model"
   ]
  },
  {
   "cell_type": "code",
   "execution_count": 10,
   "id": "62b18d47-487a-444e-96bb-81dd4f52fee5",
   "metadata": {},
   "outputs": [
    {
     "name": "stdout",
     "output_type": "stream",
     "text": [
      "WARNING:tensorflow:From /home/sejinnam/.conda/envs/TF/lib/python3.10/site-packages/tensorflow/python/autograph/pyct/static_analysis/liveness.py:83: Analyzer.lamba_check (from tensorflow.python.autograph.pyct.static_analysis.liveness) is deprecated and will be removed after 2023-09-23.\n",
      "Instructions for updating:\n",
      "Lambda fuctions will be no more assumed to be used in the statement where they are used, or at least in the same block. https://github.com/tensorflow/tensorflow/issues/56089\n"
     ]
    }
   ],
   "source": [
    "X_train, y_train, X_valid, y_valid, X_test, y_test = handson.housing_data_norm()"
   ]
  },
  {
   "cell_type": "code",
   "execution_count": 6,
   "id": "ddfa046c-c7b8-4e21-8c0a-a70d073f523f",
   "metadata": {},
   "outputs": [],
   "source": [
    "# simple fully connected model with normalization layer\n",
    "model = keras.models.Sequential([\n",
    "    keras.layers.Dense(64, activation=\"relu\", kernel_initializer=\"he_normal\"),\n",
    "    tf.keras.layers.Normalization(mean=0.0, variance=1.0),\n",
    "    keras.layers.Dense(32, activation=\"elu\", kernel_initializer=\"he_normal\"),\n",
    "    keras.layers.Dense(1)])"
   ]
  },
  {
   "cell_type": "code",
   "execution_count": 7,
   "id": "d24f8317-7d8a-4792-8678-fbe482979eeb",
   "metadata": {},
   "outputs": [],
   "source": [
    "norm_layer = tf.keras.layers.Normalization() # create normalization layer\n",
    "norm_layer.adapt(X_train) # assign the layer mean and variance to those of the input data"
   ]
  },
  {
   "cell_type": "code",
   "execution_count": 8,
   "id": "2ce216f4-9cf1-485f-9f85-7249f7d4e389",
   "metadata": {},
   "outputs": [],
   "source": [
    "# creating final model that takes data that is not normalized\n",
    "final_model = tf.keras.Sequential([norm_layer, model])"
   ]
  },
  {
   "cell_type": "code",
   "execution_count": 9,
   "id": "0f44f21b-0529-477e-8332-3a8cab359d15",
   "metadata": {},
   "outputs": [],
   "source": [
    "final_model.compile(loss=\"mean_squared_error\", optimizer=\"sgd\")"
   ]
  },
  {
   "cell_type": "code",
   "execution_count": 10,
   "id": "c6be95b5-dd65-4960-a34e-048064de3329",
   "metadata": {
    "collapsed": true,
    "jupyter": {
     "outputs_hidden": true
    },
    "tags": []
   },
   "outputs": [
    {
     "name": "stdout",
     "output_type": "stream",
     "text": [
      "Epoch 1/20\n",
      "500/500 [==============================] - 2s 1ms/step - loss: 1.5499 - val_loss: 1.4351\n",
      "Epoch 2/20\n",
      "500/500 [==============================] - 1s 1ms/step - loss: 3.0645 - val_loss: 1.3190\n",
      "Epoch 3/20\n",
      "500/500 [==============================] - 1s 1ms/step - loss: 1.3854 - val_loss: 1.3231\n",
      "Epoch 4/20\n",
      "500/500 [==============================] - 1s 1ms/step - loss: 1.3701 - val_loss: 1.2854\n",
      "Epoch 5/20\n",
      "500/500 [==============================] - 1s 1ms/step - loss: 1.3680 - val_loss: 1.3853\n",
      "Epoch 6/20\n",
      "500/500 [==============================] - 1s 1ms/step - loss: 1.3608 - val_loss: 1.3142\n",
      "Epoch 7/20\n",
      "500/500 [==============================] - 1s 1ms/step - loss: 1.3589 - val_loss: 1.2936\n",
      "Epoch 8/20\n",
      "500/500 [==============================] - 1s 1ms/step - loss: 1.3588 - val_loss: 1.2879\n",
      "Epoch 9/20\n",
      "500/500 [==============================] - 1s 1ms/step - loss: 1.3584 - val_loss: 1.2817\n",
      "Epoch 10/20\n",
      "500/500 [==============================] - 1s 1ms/step - loss: 1.3583 - val_loss: 1.2988\n",
      "Epoch 11/20\n",
      "500/500 [==============================] - 1s 1ms/step - loss: 1.3566 - val_loss: 1.2791\n",
      "Epoch 12/20\n",
      "500/500 [==============================] - 1s 1ms/step - loss: 1.3540 - val_loss: 1.2850\n",
      "Epoch 13/20\n",
      "500/500 [==============================] - 1s 1ms/step - loss: 1.3550 - val_loss: 1.2888\n",
      "Epoch 14/20\n",
      "500/500 [==============================] - 1s 1ms/step - loss: 1.3555 - val_loss: 1.2970\n",
      "Epoch 15/20\n",
      "500/500 [==============================] - 1s 1ms/step - loss: 1.3535 - val_loss: 1.2852\n",
      "Epoch 16/20\n",
      "500/500 [==============================] - 1s 1ms/step - loss: 1.3530 - val_loss: 1.2865\n",
      "Epoch 17/20\n",
      "500/500 [==============================] - 1s 1ms/step - loss: 1.3508 - val_loss: 1.2877\n",
      "Epoch 18/20\n",
      "500/500 [==============================] - 1s 1ms/step - loss: 1.3508 - val_loss: 1.2795\n",
      "Epoch 19/20\n",
      "500/500 [==============================] - 1s 1ms/step - loss: 1.3518 - val_loss: 1.2900\n",
      "Epoch 20/20\n",
      "500/500 [==============================] - 1s 1ms/step - loss: 1.3528 - val_loss: 1.2949\n"
     ]
    }
   ],
   "source": [
    "history = final_model.fit(X_train, y_train, epochs=20, validation_data=(X_valid, y_valid))"
   ]
  },
  {
   "cell_type": "code",
   "execution_count": 11,
   "id": "24b709ea-aaa9-42d8-ae2b-b785e330c5d1",
   "metadata": {},
   "outputs": [
    {
     "name": "stdout",
     "output_type": "stream",
     "text": [
      "32/32 [==============================] - 0s 1ms/step - loss: 1.2976\n"
     ]
    },
    {
     "data": {
      "text/plain": [
       "1.2976197004318237"
      ]
     },
     "execution_count": 11,
     "metadata": {},
     "output_type": "execute_result"
    }
   ],
   "source": [
    "mse_test = final_model.evaluate(X_test, y_test)\n",
    "mse_test"
   ]
  },
  {
   "cell_type": "code",
   "execution_count": 12,
   "id": "a4792622-90a5-4612-ab9e-2c375c8b5e2d",
   "metadata": {},
   "outputs": [
    {
     "name": "stdout",
     "output_type": "stream",
     "text": [
      "Model: \"sequential_1\"\n",
      "_________________________________________________________________\n",
      " Layer (type)                Output Shape              Param #   \n",
      "=================================================================\n",
      " normalization_1 (Normalizat  (None, 8)                17        \n",
      " ion)                                                            \n",
      "                                                                 \n",
      " sequential (Sequential)     (None, 1)                 2689      \n",
      "                                                                 \n",
      "=================================================================\n",
      "Total params: 2,706\n",
      "Trainable params: 2,689\n",
      "Non-trainable params: 17\n",
      "_________________________________________________________________\n"
     ]
    }
   ],
   "source": [
    "final_model.summary()"
   ]
  },
  {
   "cell_type": "markdown",
   "id": "f42e210c-65e8-454a-a2ae-9761e9b7e348",
   "metadata": {
    "jp-MarkdownHeadingCollapsed": true,
    "tags": []
   },
   "source": [
    "## faster optimizers"
   ]
  },
  {
   "cell_type": "code",
   "execution_count": 11,
   "id": "cc2a9e72-ac9c-4e5e-bd43-e2e668a8966e",
   "metadata": {},
   "outputs": [],
   "source": [
    "X_train, y_train, X_valid, y_valid, X_test, y_test = handson.housing_data()"
   ]
  },
  {
   "cell_type": "code",
   "execution_count": 485,
   "id": "c120010b-259c-4006-93e8-d14461cad036",
   "metadata": {},
   "outputs": [],
   "source": [
    "# simple sequential model without specifying an optimizer (compile is needed)\n",
    "model = keras.models.Sequential([\n",
    "    keras.layers.Dense(30, activation=\"relu\", input_shape=X_train.shape[1:]),\n",
    "    keras.layers.Dense(1)])"
   ]
  },
  {
   "cell_type": "code",
   "execution_count": 486,
   "id": "e271ff94-6370-4725-8abb-e1eb8cfcc1a1",
   "metadata": {},
   "outputs": [
    {
     "data": {
      "text/plain": [
       "{'name': 'SGD',\n",
       " 'learning_rate': 0.01,\n",
       " 'decay': 0.0,\n",
       " 'momentum': 0.0,\n",
       " 'nesterov': False}"
      ]
     },
     "metadata": {},
     "output_type": "display_data"
    }
   ],
   "source": [
    "# SGD (Stochastic Gradient Descent)\n",
    "optimizer = keras.optimizers.SGD()\n",
    "\n",
    "# default configuration of SGD\n",
    "display(optimizer.get_config())"
   ]
  },
  {
   "cell_type": "code",
   "execution_count": 487,
   "id": "9347d2e2-0202-4412-a210-d0a7a4f23b63",
   "metadata": {},
   "outputs": [
    {
     "data": {
      "text/plain": [
       "{'name': 'SGD',\n",
       " 'learning_rate': 0.01,\n",
       " 'decay': 0.0,\n",
       " 'momentum': 0.0,\n",
       " 'nesterov': False}"
      ]
     },
     "execution_count": 487,
     "metadata": {},
     "output_type": "execute_result"
    }
   ],
   "source": [
    "# shorter way to execute the above code\n",
    "getattr(keras.optimizers, 'SGD')().get_config()"
   ]
  },
  {
   "cell_type": "code",
   "execution_count": 488,
   "id": "2c38533a-3aa4-4ad8-afc0-f644dafc3cda",
   "metadata": {},
   "outputs": [
    {
     "data": {
      "text/plain": [
       "{'name': 'Adagrad',\n",
       " 'learning_rate': 0.001,\n",
       " 'decay': 0.0,\n",
       " 'initial_accumulator_value': 0.1,\n",
       " 'epsilon': 1e-07}"
      ]
     },
     "execution_count": 488,
     "metadata": {},
     "output_type": "execute_result"
    }
   ],
   "source": [
    "# AdaGrad optimizer default configuration\n",
    "getattr(keras.optimizers, 'Adagrad')().get_config()"
   ]
  },
  {
   "cell_type": "code",
   "execution_count": 489,
   "id": "99cfd405-a92a-4017-9dff-b10c0474edb2",
   "metadata": {},
   "outputs": [
    {
     "data": {
      "text/plain": [
       "{'name': 'RMSprop',\n",
       " 'learning_rate': 0.001,\n",
       " 'decay': 0.0,\n",
       " 'rho': 0.9,\n",
       " 'momentum': 0.0,\n",
       " 'epsilon': 1e-07,\n",
       " 'centered': False}"
      ]
     },
     "execution_count": 489,
     "metadata": {},
     "output_type": "execute_result"
    }
   ],
   "source": [
    "# RMSprop optimizer default onfiguration\n",
    "getattr(keras.optimizers, 'RMSprop')().get_config()"
   ]
  },
  {
   "cell_type": "code",
   "execution_count": 490,
   "id": "dfb79de5-6f15-4443-b4ed-73ad8514d806",
   "metadata": {},
   "outputs": [
    {
     "data": {
      "text/plain": [
       "{'name': 'Adam',\n",
       " 'learning_rate': 0.001,\n",
       " 'decay': 0.0,\n",
       " 'beta_1': 0.9,\n",
       " 'beta_2': 0.999,\n",
       " 'epsilon': 1e-07,\n",
       " 'amsgrad': False}"
      ]
     },
     "execution_count": 490,
     "metadata": {},
     "output_type": "execute_result"
    }
   ],
   "source": [
    "# Adam optimizer default onfiguration\n",
    "getattr(keras.optimizers, 'Adam')().get_config()"
   ]
  },
  {
   "cell_type": "code",
   "execution_count": 491,
   "id": "edeb0d2b-f467-4d21-8c40-99f378c794a3",
   "metadata": {},
   "outputs": [
    {
     "data": {
      "text/plain": [
       "{'name': 'Adamax',\n",
       " 'learning_rate': 0.001,\n",
       " 'decay': 0.0,\n",
       " 'beta_1': 0.9,\n",
       " 'beta_2': 0.999,\n",
       " 'epsilon': 1e-07}"
      ]
     },
     "execution_count": 491,
     "metadata": {},
     "output_type": "execute_result"
    }
   ],
   "source": [
    "# Adamax optimizer default onfiguration\n",
    "getattr(keras.optimizers, 'Adamax')().get_config()"
   ]
  },
  {
   "cell_type": "code",
   "execution_count": 492,
   "id": "89d10d22-9449-4f12-a6c8-bf99c75046f2",
   "metadata": {},
   "outputs": [
    {
     "data": {
      "text/plain": [
       "{'name': 'Nadam',\n",
       " 'learning_rate': 0.001,\n",
       " 'decay': 0.004,\n",
       " 'beta_1': 0.9,\n",
       " 'beta_2': 0.999,\n",
       " 'epsilon': 1e-07}"
      ]
     },
     "execution_count": 492,
     "metadata": {},
     "output_type": "execute_result"
    }
   ],
   "source": [
    "# Nadam optimizer default onfiguration\n",
    "getattr(keras.optimizers, 'Nadam')().get_config()"
   ]
  },
  {
   "cell_type": "code",
   "execution_count": 495,
   "id": "567fcfdd-5ab9-4540-8cb9-44125ed92500",
   "metadata": {},
   "outputs": [
    {
     "name": "stdout",
     "output_type": "stream",
     "text": [
      "Adadelta                 Adagrad                  Adam                     Adamax                   Ftrl                     Nadam                    Optimizer                RMSprop                  SGD                      \n",
      "Adamax\n"
     ]
    },
    {
     "data": {
      "text/plain": [
       "'Adamax'"
      ]
     },
     "execution_count": 495,
     "metadata": {},
     "output_type": "execute_result"
    }
   ],
   "source": [
    "# list of optimizers in keras (ignore Optimizer method below)\n",
    "optimizers = mods.list_attr('optimizers')\n",
    "\n",
    "# randomly select an kernel initializer name\n",
    "rand_opt = random.choice(optimizers)\n",
    "print()\n",
    "print(rand_opt)\n",
    "\n",
    "# model compile with the chosen optimizer\n",
    "model.compile(loss='mse', optimizer=rand_opt)\n",
    "model.optimizer.__class__.__name__"
   ]
  },
  {
   "cell_type": "code",
   "execution_count": 508,
   "id": "7533383f-e97c-46a2-8ca9-08cc2af94995",
   "metadata": {
    "tags": []
   },
   "outputs": [
    {
     "name": "stdout",
     "output_type": "stream",
     "text": [
      "Epoch 1/15\n",
      "363/363 [==============================] - 0s 1ms/step - loss: 0.3244 - val_loss: 0.3300\n",
      "Epoch 2/15\n",
      "363/363 [==============================] - 0s 1ms/step - loss: 0.3237 - val_loss: 0.9098\n",
      "Epoch 3/15\n",
      "363/363 [==============================] - 0s 1ms/step - loss: 0.3579 - val_loss: 0.3651\n",
      "Epoch 4/15\n",
      "363/363 [==============================] - 0s 1ms/step - loss: 0.3331 - val_loss: 0.3376\n",
      "Epoch 5/15\n",
      "363/363 [==============================] - 0s 1ms/step - loss: 0.3357 - val_loss: 0.3503\n",
      "Epoch 6/15\n",
      "363/363 [==============================] - 0s 1ms/step - loss: 0.3413 - val_loss: 0.3351\n",
      "Epoch 7/15\n",
      "363/363 [==============================] - 0s 1ms/step - loss: 0.3220 - val_loss: 0.3337\n",
      "Epoch 8/15\n",
      "363/363 [==============================] - 0s 1ms/step - loss: 0.3194 - val_loss: 0.3336\n",
      "Epoch 9/15\n",
      "363/363 [==============================] - 0s 1ms/step - loss: 0.3192 - val_loss: 0.3304\n",
      "Epoch 10/15\n",
      "363/363 [==============================] - 0s 1ms/step - loss: 0.3156 - val_loss: 0.3281\n",
      "Epoch 11/15\n",
      "363/363 [==============================] - 0s 1ms/step - loss: 0.3129 - val_loss: 0.3396\n",
      "Epoch 12/15\n",
      "363/363 [==============================] - 0s 1ms/step - loss: 0.4246 - val_loss: 0.3308\n",
      "Epoch 13/15\n",
      "363/363 [==============================] - 0s 1ms/step - loss: 0.3209 - val_loss: 0.3300\n",
      "Epoch 14/15\n",
      "363/363 [==============================] - 0s 1ms/step - loss: 0.3174 - val_loss: 0.3351\n",
      "Epoch 15/15\n",
      "363/363 [==============================] - 0s 1ms/step - loss: 0.3174 - val_loss: 0.3228\n"
     ]
    },
    {
     "data": {
      "text/plain": [
       "<keras.callbacks.History at 0x2ba0f664b9d0>"
      ]
     },
     "execution_count": 508,
     "metadata": {},
     "output_type": "execute_result"
    }
   ],
   "source": [
    "# train the model\n",
    "model.fit(X_train, \n",
    "          y_train,\n",
    "          epochs=15,\n",
    "          validation_data=(X_valid, y_valid))"
   ]
  },
  {
   "cell_type": "markdown",
   "id": "c172197c-2858-4d99-beb1-2d91f447c975",
   "metadata": {
    "jp-MarkdownHeadingCollapsed": true,
    "tags": []
   },
   "source": [
    "## learning rate schedulers"
   ]
  },
  {
   "cell_type": "code",
   "execution_count": 12,
   "id": "c00844f1-c621-4e3e-8ff8-1b053c8361f8",
   "metadata": {},
   "outputs": [],
   "source": [
    "X_train, y_train, X_valid, y_valid, X_test, y_test = handson.housing_data()"
   ]
  },
  {
   "cell_type": "code",
   "execution_count": 530,
   "id": "3c750e25-4803-486e-a584-57e715fbdc2c",
   "metadata": {},
   "outputs": [],
   "source": [
    "# simple sequential model \n",
    "model = keras.models.Sequential([\n",
    "    keras.layers.Dense(30, activation=\"relu\", input_shape=X_train.shape[1:]),\n",
    "    keras.layers.Dense(1)])"
   ]
  },
  {
   "cell_type": "code",
   "execution_count": 531,
   "id": "e79c67dc-cb05-45d1-b21f-7b3d9dcf4f41",
   "metadata": {},
   "outputs": [
    {
     "name": "stdout",
     "output_type": "stream",
     "text": [
      "CosineDecay              CosineDecayRestarts      ExponentialDecay         InverseTimeDecay         PiecewiseConstantDecay   PolynomialDecay          "
     ]
    }
   ],
   "source": [
    "# A learning rate schedule is a way to adapt the learning rate during training\n",
    "# the below code lists keras builtin schedules \n",
    "schedules = []\n",
    "ignore = ['deserialize', 'LearningRateSchedule', 'serialize']\n",
    "\n",
    "for schedule in dir(keras.optimizers.schedules):\n",
    "    if not schedule.startswith('_') and schedule not in ignore:\n",
    "        schedules.append(schedule)\n",
    "        print(schedule.ljust(25), end='')"
   ]
  },
  {
   "cell_type": "code",
   "execution_count": 532,
   "id": "eafd7d47-34e6-483f-888b-0216f6c0db63",
   "metadata": {},
   "outputs": [],
   "source": [
    "# exponential decay learning rate scheduler\n",
    "lr_scheduler = keras.optimizers.schedules.ExponentialDecay(\n",
    "    initial_learning_rate=0.05,\n",
    "    decay_rate = 0.1,\n",
    "    decay_steps = 5000)\n",
    "\n",
    "# RMSprop optimizer with the above lr_scheduler\n",
    "optimizer = keras.optimizers.SGD(learning_rate=lr_scheduler)\n",
    "\n",
    "# model compile with mse loss and RMSprop optimizer\n",
    "model.compile(loss='mse', optimizer=optimizer)"
   ]
  },
  {
   "cell_type": "code",
   "execution_count": 533,
   "id": "7cd7dce0-d50c-4a83-80e0-b55d78f0490f",
   "metadata": {},
   "outputs": [
    {
     "name": "stdout",
     "output_type": "stream",
     "text": [
      "Epoch 1/30\n",
      "363/363 [==============================] - 1s 1ms/step - loss: 0.6544 - val_loss: 0.4351\n",
      "Epoch 2/30\n",
      "363/363 [==============================] - 0s 1ms/step - loss: 0.3930 - val_loss: 5.6052\n",
      "Epoch 3/30\n",
      "363/363 [==============================] - 0s 1ms/step - loss: 0.3922 - val_loss: 0.5103\n",
      "Epoch 4/30\n",
      "363/363 [==============================] - 0s 1ms/step - loss: 0.3963 - val_loss: 0.6161\n",
      "Epoch 5/30\n",
      "363/363 [==============================] - 0s 1ms/step - loss: 0.3835 - val_loss: 0.4282\n",
      "Epoch 6/30\n",
      "363/363 [==============================] - 0s 1ms/step - loss: 0.3667 - val_loss: 0.3988\n",
      "Epoch 7/30\n",
      "363/363 [==============================] - 0s 1ms/step - loss: 0.3500 - val_loss: 0.3761\n",
      "Epoch 8/30\n",
      "363/363 [==============================] - 0s 1ms/step - loss: 0.3458 - val_loss: 0.3722\n",
      "Epoch 9/30\n",
      "363/363 [==============================] - 0s 1ms/step - loss: 0.3460 - val_loss: 0.3676\n",
      "Epoch 10/30\n",
      "363/363 [==============================] - 0s 1ms/step - loss: 0.3409 - val_loss: 0.3665\n",
      "Epoch 11/30\n",
      "363/363 [==============================] - 0s 1ms/step - loss: 0.3401 - val_loss: 0.3664\n",
      "Epoch 12/30\n",
      "363/363 [==============================] - 0s 1ms/step - loss: 0.3387 - val_loss: 0.3644\n",
      "Epoch 13/30\n",
      "363/363 [==============================] - 0s 1ms/step - loss: 0.3372 - val_loss: 0.3656\n",
      "Epoch 14/30\n",
      "363/363 [==============================] - 0s 1ms/step - loss: 0.3364 - val_loss: 0.3645\n",
      "Epoch 15/30\n",
      "363/363 [==============================] - 0s 1ms/step - loss: 0.3348 - val_loss: 0.3638\n",
      "Epoch 16/30\n",
      "363/363 [==============================] - 0s 1ms/step - loss: 0.3344 - val_loss: 0.3623\n",
      "Epoch 17/30\n",
      "363/363 [==============================] - 0s 1ms/step - loss: 0.3336 - val_loss: 0.3629\n",
      "Epoch 18/30\n",
      "363/363 [==============================] - 0s 1ms/step - loss: 0.3332 - val_loss: 0.3621\n",
      "Epoch 19/30\n",
      "363/363 [==============================] - 0s 1ms/step - loss: 0.3327 - val_loss: 0.3621\n",
      "Epoch 20/30\n",
      "363/363 [==============================] - 0s 1ms/step - loss: 0.3320 - val_loss: 0.3632\n",
      "Epoch 21/30\n",
      "363/363 [==============================] - 0s 1ms/step - loss: 0.3319 - val_loss: 0.3618\n",
      "Epoch 22/30\n",
      "363/363 [==============================] - 0s 1ms/step - loss: 0.3315 - val_loss: 0.3620\n",
      "Epoch 23/30\n",
      "363/363 [==============================] - 0s 1ms/step - loss: 0.3315 - val_loss: 0.3618\n",
      "Epoch 24/30\n",
      "363/363 [==============================] - 0s 1ms/step - loss: 0.3312 - val_loss: 0.3614\n",
      "Epoch 25/30\n",
      "363/363 [==============================] - 0s 1ms/step - loss: 0.3310 - val_loss: 0.3614\n",
      "Epoch 26/30\n",
      "363/363 [==============================] - 0s 1ms/step - loss: 0.3308 - val_loss: 0.3611\n",
      "Epoch 27/30\n",
      "363/363 [==============================] - 0s 1ms/step - loss: 0.3308 - val_loss: 0.3612\n",
      "Epoch 28/30\n",
      "363/363 [==============================] - 0s 1ms/step - loss: 0.3307 - val_loss: 0.3612\n",
      "Epoch 29/30\n",
      "363/363 [==============================] - 0s 1ms/step - loss: 0.3306 - val_loss: 0.3613\n",
      "Epoch 30/30\n",
      "363/363 [==============================] - 0s 1ms/step - loss: 0.3305 - val_loss: 0.3613\n"
     ]
    },
    {
     "data": {
      "text/plain": [
       "<keras.callbacks.History at 0x2ba0c55a2b60>"
      ]
     },
     "execution_count": 533,
     "metadata": {},
     "output_type": "execute_result"
    }
   ],
   "source": [
    "# model training with expoential decay learning rate scheduler\n",
    "model.fit(\n",
    "    X_train,\n",
    "    y_train,\n",
    "    epochs=30,\n",
    "    validation_data=(X_valid, y_valid))"
   ]
  },
  {
   "cell_type": "markdown",
   "id": "f6fe1899-3d70-4e88-860e-e60ae2542e79",
   "metadata": {
    "jp-MarkdownHeadingCollapsed": true,
    "tags": []
   },
   "source": [
    "## simple convolution neural network model"
   ]
  },
  {
   "cell_type": "code",
   "execution_count": 13,
   "id": "259d47da-6d02-4163-b1a8-226ba645c6c2",
   "metadata": {},
   "outputs": [
    {
     "name": "stdout",
     "output_type": "stream",
     "text": [
      "[520. 564. 502. 510. 482. 436. 496. 516. 485. 489.]\n"
     ]
    }
   ],
   "source": [
    "X_train, y_train, X_valid, y_valid, X_test, y_test = handson.mnist_784()\n",
    "print(np.sum(y_test, axis=0)) # check the test set target (one-hot encoding) distribution"
   ]
  },
  {
   "cell_type": "code",
   "execution_count": 9,
   "id": "039b9d00-6dee-447c-ba2b-954a418270b7",
   "metadata": {
    "tags": []
   },
   "outputs": [
    {
     "name": "stdout",
     "output_type": "stream",
     "text": [
      "['data_format', 'kernel_size', 'groups', 'dilation_rate', 'padding', 'strides', 'filters']\n"
     ]
    }
   ],
   "source": [
    "# keras.layers.Conv2D arguments Dense layer does not have\n",
    "Conv2D_args = keras.layers.Conv2D(filters=4, kernel_size=5).get_config()\n",
    "Dense_args = keras.layers.Dense(units=4).get_config()\n",
    "Conv2D_args_only = list(set(Conv2D_args.keys()) - set(Dense_args.keys()))\n",
    "print(Conv2D_args_only)"
   ]
  },
  {
   "cell_type": "code",
   "execution_count": 5,
   "id": "cc867071-0aaf-498c-9fa7-f5a239a95176",
   "metadata": {
    "tags": []
   },
   "outputs": [],
   "source": [
    "# simple CNN model that will yield 10 CNN features at the last layer\n",
    "model = keras.Sequential([\n",
    "    keras.layers.Conv2D(filters=64, kernel_size=(8, 1), input_shape=[28, 28, 1]),\n",
    "    keras.layers.Activation('relu'),\n",
    "    keras.layers.Conv2D(filters=64, kernel_size=(1, 8), activation='relu'),\n",
    "    keras.layers.Conv2D(filters=128, kernel_size=3, strides=3, activation='relu'),\n",
    "    keras.layers.Conv2D(filters=10, kernel_size=7, groups=1, activation='relu'),\n",
    "    tf.keras.layers.Flatten(), # changes the shape from (None, 1, 1, 10) to 10\n",
    "    keras.layers.Dense(units=10, activation=\"softmax\") \n",
    "])"
   ]
  },
  {
   "cell_type": "code",
   "execution_count": 6,
   "id": "0185304e-8dfe-48a0-8abd-7d3c8d4df954",
   "metadata": {},
   "outputs": [],
   "source": [
    "optimizer = keras.optimizers.Adam(clipvalue=0.5, learning_rate=0.001)\n",
    "\n",
    "# categorical_crossentropy if the output is one-hot encoding\n",
    "# sparse_categorical_crossentropy if the output is integer\n",
    "model.compile(\n",
    "    loss=\"categorical_crossentropy\", \n",
    "    optimizer=optimizer,\n",
    "    metrics=['accuracy'])"
   ]
  },
  {
   "cell_type": "code",
   "execution_count": 10,
   "id": "028e91c6-db87-4cb5-90ff-a4c4573be93b",
   "metadata": {
    "collapsed": true,
    "jupyter": {
     "outputs_hidden": true
    },
    "tags": []
   },
   "outputs": [
    {
     "name": "stdout",
     "output_type": "stream",
     "text": [
      "Epoch 1/15\n",
      "1719/1719 [==============================] - 7s 2ms/step - loss: 0.2100 - accuracy: 0.9370 - val_loss: 0.0998 - val_accuracy: 0.9697\n",
      "Epoch 2/15\n",
      "1719/1719 [==============================] - 3s 2ms/step - loss: 0.0688 - accuracy: 0.9798 - val_loss: 0.0607 - val_accuracy: 0.9807\n",
      "Epoch 3/15\n",
      "1719/1719 [==============================] - 3s 2ms/step - loss: 0.0480 - accuracy: 0.9852 - val_loss: 0.0607 - val_accuracy: 0.9827\n",
      "Epoch 4/15\n",
      "1719/1719 [==============================] - 3s 2ms/step - loss: 0.0382 - accuracy: 0.9883 - val_loss: 0.0525 - val_accuracy: 0.9843\n",
      "Epoch 5/15\n",
      "1719/1719 [==============================] - 3s 2ms/step - loss: 0.0304 - accuracy: 0.9903 - val_loss: 0.0532 - val_accuracy: 0.9846\n",
      "Epoch 6/15\n",
      "1719/1719 [==============================] - 3s 2ms/step - loss: 0.0219 - accuracy: 0.9935 - val_loss: 0.0605 - val_accuracy: 0.9840\n",
      "Epoch 7/15\n",
      "1719/1719 [==============================] - 3s 2ms/step - loss: 0.0186 - accuracy: 0.9941 - val_loss: 0.0656 - val_accuracy: 0.9828\n",
      "Epoch 8/15\n",
      "1719/1719 [==============================] - 3s 2ms/step - loss: 0.0155 - accuracy: 0.9951 - val_loss: 0.0544 - val_accuracy: 0.9862\n",
      "Epoch 9/15\n",
      "1719/1719 [==============================] - 3s 2ms/step - loss: 0.0138 - accuracy: 0.9958 - val_loss: 0.0612 - val_accuracy: 0.9871\n",
      "Epoch 10/15\n",
      "1719/1719 [==============================] - 3s 2ms/step - loss: 0.0118 - accuracy: 0.9962 - val_loss: 0.0615 - val_accuracy: 0.9865\n",
      "Epoch 11/15\n",
      "1719/1719 [==============================] - 3s 2ms/step - loss: 0.0107 - accuracy: 0.9965 - val_loss: 0.0805 - val_accuracy: 0.9835\n",
      "Epoch 12/15\n",
      "1719/1719 [==============================] - 3s 2ms/step - loss: 0.0086 - accuracy: 0.9975 - val_loss: 0.0704 - val_accuracy: 0.9852\n",
      "Epoch 13/15\n",
      "1719/1719 [==============================] - 3s 2ms/step - loss: 0.0088 - accuracy: 0.9973 - val_loss: 0.0972 - val_accuracy: 0.9815\n",
      "Epoch 14/15\n",
      "1719/1719 [==============================] - 3s 2ms/step - loss: 0.0085 - accuracy: 0.9971 - val_loss: 0.0669 - val_accuracy: 0.9863\n",
      "Epoch 15/15\n",
      "1719/1719 [==============================] - 3s 2ms/step - loss: 0.0073 - accuracy: 0.9977 - val_loss: 0.0790 - val_accuracy: 0.9859\n"
     ]
    }
   ],
   "source": [
    "history = model.fit(\n",
    "    x = X_train, \n",
    "    y = y_train, \n",
    "    epochs=15,\n",
    "    validation_data=(X_valid, y_valid),\n",
    "    batch_size=32\n",
    ")"
   ]
  },
  {
   "cell_type": "code",
   "execution_count": 11,
   "id": "3fb5674b-b2c7-4df0-be4e-6369dd2bb927",
   "metadata": {},
   "outputs": [
    {
     "name": "stdout",
     "output_type": "stream",
     "text": [
      "157/157 [==============================] - 0s 2ms/step - loss: 0.0365 - accuracy: 0.9922\n"
     ]
    },
    {
     "data": {
      "text/plain": [
       "[0.03647341579198837, 0.9922000169754028]"
      ]
     },
     "execution_count": 11,
     "metadata": {},
     "output_type": "execute_result"
    }
   ],
   "source": [
    "acc_test = model.evaluate(X_test, y_test)\n",
    "acc_test"
   ]
  },
  {
   "cell_type": "markdown",
   "id": "44cfc972-dc62-46ec-b3e4-f6bb75a2d30c",
   "metadata": {
    "jp-MarkdownHeadingCollapsed": true,
    "tags": []
   },
   "source": [
    "## CNN model with pooling layers"
   ]
  },
  {
   "cell_type": "code",
   "execution_count": 14,
   "id": "33c6a20d-519f-4f3b-b6e2-c749250e6c6e",
   "metadata": {},
   "outputs": [
    {
     "name": "stdout",
     "output_type": "stream",
     "text": [
      "[520. 564. 502. 510. 482. 436. 496. 516. 485. 489.]\n"
     ]
    }
   ],
   "source": [
    "X_train, y_train, X_valid, y_valid, X_test, y_test = handson.mnist_784()\n",
    "print(np.sum(y_test, axis=0)) # check the test set target (one-hot encoding) distribution"
   ]
  },
  {
   "cell_type": "code",
   "execution_count": 16,
   "id": "fb99c006-3724-40c6-ad81-e2aa7a6064ce",
   "metadata": {},
   "outputs": [
    {
     "data": {
      "text/plain": [
       "{'name': 'max_pooling2d',\n",
       " 'trainable': True,\n",
       " 'dtype': 'float32',\n",
       " 'pool_size': (2, 2),\n",
       " 'padding': 'valid',\n",
       " 'strides': (2, 2),\n",
       " 'data_format': 'channels_last'}"
      ]
     },
     "execution_count": 16,
     "metadata": {},
     "output_type": "execute_result"
    }
   ],
   "source": [
    "keras.layers.MaxPool2D().get_config() # Pooling layer has no trainable weights and biases"
   ]
  },
  {
   "cell_type": "code",
   "execution_count": 17,
   "id": "cc60d426-8234-4ec1-adf2-d514a9989c07",
   "metadata": {
    "tags": []
   },
   "outputs": [],
   "source": [
    "# CNN model with pooling layers\n",
    "model = keras.Sequential([\n",
    "    keras.layers.Conv2D(filters=64, kernel_size=9, input_shape=[28, 28, 1]),\n",
    "    keras.layers.Activation('relu'),\n",
    "    tf.keras.layers.MaxPool2D(),\n",
    "    keras.layers.Conv2D(filters=128, kernel_size=3, padding='same', activation='relu'),\n",
    "    keras.layers.AveragePooling2D(),\n",
    "    keras.layers.Conv2D(filters=10, kernel_size=3, padding='same', activation='relu'), \n",
    "    keras.layers.GlobalAveragePooling2D(), # spatial dimensions collapse\n",
    "    tf.keras.layers.Flatten(), # changes the shape from (None, 10) to 10\n",
    "    keras.layers.Dense(units=10, activation=\"softmax\") \n",
    "])"
   ]
  },
  {
   "cell_type": "code",
   "execution_count": 18,
   "id": "ad0dfedb-a3a9-4266-8690-a14ff54f168c",
   "metadata": {},
   "outputs": [],
   "source": [
    "optimizer = keras.optimizers.Adam(clipvalue=0.5, learning_rate=0.001)\n",
    "\n",
    "# categorical_crossentropy if the output is one-hot encoding\n",
    "# sparse_categorical_crossentropy if the output is integer\n",
    "model.compile(\n",
    "    loss=\"categorical_crossentropy\", \n",
    "    optimizer=optimizer,\n",
    "    metrics=['accuracy'])"
   ]
  },
  {
   "cell_type": "code",
   "execution_count": 19,
   "id": "13f7681a-27a1-472e-93f7-793eca373d50",
   "metadata": {
    "collapsed": true,
    "jupyter": {
     "outputs_hidden": true
    },
    "tags": []
   },
   "outputs": [
    {
     "name": "stdout",
     "output_type": "stream",
     "text": [
      "Epoch 1/15\n",
      "1719/1719 [==============================] - 6s 3ms/step - loss: 0.4784 - accuracy: 0.8431 - val_loss: 0.1633 - val_accuracy: 0.9549\n",
      "Epoch 2/15\n",
      "1719/1719 [==============================] - 4s 3ms/step - loss: 0.1355 - accuracy: 0.9602 - val_loss: 0.1385 - val_accuracy: 0.9586\n",
      "Epoch 3/15\n",
      "1719/1719 [==============================] - 5s 3ms/step - loss: 0.0948 - accuracy: 0.9719 - val_loss: 0.0871 - val_accuracy: 0.9733\n",
      "Epoch 4/15\n",
      "1719/1719 [==============================] - 5s 3ms/step - loss: 0.0768 - accuracy: 0.9766 - val_loss: 0.0700 - val_accuracy: 0.9793\n",
      "Epoch 5/15\n",
      "1719/1719 [==============================] - 5s 3ms/step - loss: 0.0633 - accuracy: 0.9807 - val_loss: 0.0531 - val_accuracy: 0.9849\n",
      "Epoch 6/15\n",
      "1719/1719 [==============================] - 5s 3ms/step - loss: 0.0534 - accuracy: 0.9835 - val_loss: 0.0497 - val_accuracy: 0.9846\n",
      "Epoch 7/15\n",
      "1719/1719 [==============================] - 5s 3ms/step - loss: 0.0457 - accuracy: 0.9856 - val_loss: 0.0592 - val_accuracy: 0.9830\n",
      "Epoch 8/15\n",
      "1719/1719 [==============================] - 5s 3ms/step - loss: 0.0408 - accuracy: 0.9873 - val_loss: 0.0490 - val_accuracy: 0.9841\n",
      "Epoch 9/15\n",
      "1719/1719 [==============================] - 5s 3ms/step - loss: 0.0363 - accuracy: 0.9885 - val_loss: 0.0714 - val_accuracy: 0.9785\n",
      "Epoch 10/15\n",
      "1719/1719 [==============================] - 5s 3ms/step - loss: 0.0327 - accuracy: 0.9893 - val_loss: 0.0434 - val_accuracy: 0.9875\n",
      "Epoch 11/15\n",
      "1719/1719 [==============================] - 4s 2ms/step - loss: 0.0276 - accuracy: 0.9911 - val_loss: 0.0368 - val_accuracy: 0.9898\n",
      "Epoch 12/15\n",
      "1719/1719 [==============================] - 4s 2ms/step - loss: 0.0251 - accuracy: 0.9919 - val_loss: 0.0540 - val_accuracy: 0.9847\n",
      "Epoch 13/15\n",
      "1719/1719 [==============================] - 4s 3ms/step - loss: 0.0231 - accuracy: 0.9924 - val_loss: 0.0568 - val_accuracy: 0.9859\n",
      "Epoch 14/15\n",
      "1719/1719 [==============================] - 5s 3ms/step - loss: 0.0209 - accuracy: 0.9934 - val_loss: 0.0370 - val_accuracy: 0.9897\n",
      "Epoch 15/15\n",
      "1719/1719 [==============================] - 5s 3ms/step - loss: 0.0187 - accuracy: 0.9941 - val_loss: 0.0324 - val_accuracy: 0.9909\n"
     ]
    }
   ],
   "source": [
    "history = model.fit(\n",
    "    x = X_train, \n",
    "    y = y_train, \n",
    "    epochs=15,\n",
    "    validation_data=(X_valid, y_valid),\n",
    "    batch_size=32\n",
    ")"
   ]
  },
  {
   "cell_type": "code",
   "execution_count": 20,
   "id": "c0d52f81-0f27-427d-a429-af94a7efc6cc",
   "metadata": {},
   "outputs": [
    {
     "name": "stdout",
     "output_type": "stream",
     "text": [
      "157/157 [==============================] - 0s 2ms/step - loss: 0.0108 - accuracy: 0.9960\n"
     ]
    },
    {
     "data": {
      "text/plain": [
       "[0.01075205858796835, 0.9959999918937683]"
      ]
     },
     "execution_count": 20,
     "metadata": {},
     "output_type": "execute_result"
    }
   ],
   "source": [
    "acc_test = model.evaluate(X_test, y_test)\n",
    "acc_test"
   ]
  },
  {
   "cell_type": "markdown",
   "id": "12ee2c19-365a-483c-8e75-b71554750319",
   "metadata": {
    "jp-MarkdownHeadingCollapsed": true,
    "tags": []
   },
   "source": [
    "## CNN with RGB images (3 channels)"
   ]
  },
  {
   "cell_type": "code",
   "execution_count": 24,
   "id": "2068d1d6-9def-4ee6-a6a2-a531be188444",
   "metadata": {},
   "outputs": [],
   "source": [
    "X_train, y_train, X_valid, y_valid, X_test, y_test = handson.cifar_10()"
   ]
  },
  {
   "cell_type": "code",
   "execution_count": 25,
   "id": "8f5b55b6-d23c-4b85-b760-a323576b94ed",
   "metadata": {
    "tags": []
   },
   "outputs": [],
   "source": [
    "# CNN model that will yield 10 CNN features at the last layer\n",
    "model = keras.Sequential([\n",
    "    keras.layers.Conv2D(filters=64, kernel_size=3, input_shape=[32, 32, 3]),\n",
    "    keras.layers.Activation('elu'),\n",
    "    keras.layers.MaxPooling2D(pool_size=(2, 2)),\n",
    "    keras.layers.Conv2D(filters=128, kernel_size=4, activation='selu'),\n",
    "    keras.layers.MaxPooling2D(pool_size=(2, 2)),\n",
    "    tf.keras.layers.Flatten(), # changes the shape from (None, 1, 1, 64) to 64\n",
    "    keras.layers.Dense(units=128, activation=\"relu\"),\n",
    "    keras.layers.Dense(units=10, activation=\"softmax\") \n",
    "])"
   ]
  },
  {
   "cell_type": "code",
   "execution_count": 26,
   "id": "846cfdad-3fcd-455b-b711-73329d9ad097",
   "metadata": {},
   "outputs": [],
   "source": [
    "early_stopping_cb = tf.keras.callbacks.EarlyStopping(\n",
    "    monitor=\"val_accuracy\",\n",
    "    patience=10, \n",
    "    restore_best_weights=True)"
   ]
  },
  {
   "cell_type": "code",
   "execution_count": 27,
   "id": "3afc27ad-3b76-4864-a836-ae97e8d9516e",
   "metadata": {},
   "outputs": [],
   "source": [
    "optimizer = keras.optimizers.Adam(clipvalue=0.5, learning_rate=0.001)\n",
    "\n",
    "# categorical_crossentropy if the output is one-hot encoding\n",
    "# sparse_categorical_crossentropy if the output is integer\n",
    "model.compile(\n",
    "    loss=\"categorical_crossentropy\", \n",
    "    optimizer=optimizer,\n",
    "    metrics=['accuracy'])"
   ]
  },
  {
   "cell_type": "code",
   "execution_count": null,
   "id": "aeef213d-968c-41e1-9355-b1d0e76f4ace",
   "metadata": {
    "scrolled": true,
    "tags": []
   },
   "outputs": [],
   "source": [
    "history = model.fit(\n",
    "    x = X_train, \n",
    "    y = y_train, \n",
    "    epochs=10,\n",
    "    validation_data=(X_valid, y_valid),\n",
    "    batch_size=32,\n",
    "    callbacks=[early_stopping_cb]\n",
    ")"
   ]
  },
  {
   "cell_type": "code",
   "execution_count": 14,
   "id": "16829719-b4f5-459b-b64b-3da72766238b",
   "metadata": {},
   "outputs": [
    {
     "name": "stdout",
     "output_type": "stream",
     "text": [
      "157/157 [==============================] - 0s 2ms/step - loss: 1.1251 - accuracy: 0.6728\n"
     ]
    },
    {
     "data": {
      "text/plain": [
       "[1.1250826120376587, 0.6728000044822693]"
      ]
     },
     "execution_count": 14,
     "metadata": {},
     "output_type": "execute_result"
    }
   ],
   "source": [
    "acc_test = model.evaluate(X_test, y_test)\n",
    "acc_test # not as impressive as training accuracy"
   ]
  },
  {
   "cell_type": "markdown",
   "id": "fbec7f89-51e7-4f31-8f38-5907f0aa5e31",
   "metadata": {
    "jp-MarkdownHeadingCollapsed": true,
    "tags": []
   },
   "source": [
    "## simple recurrent neural network model"
   ]
  },
  {
   "cell_type": "code",
   "execution_count": 140,
   "id": "afbbc860-db78-4799-b3dd-45fc05faaede",
   "metadata": {},
   "outputs": [],
   "source": [
    "train_ds, valid_ds, test_ds = handson.rail_train_data()"
   ]
  },
  {
   "cell_type": "code",
   "execution_count": 141,
   "id": "20b174a7-6d61-466b-aad0-5c30645bd089",
   "metadata": {},
   "outputs": [
    {
     "data": {
      "text/plain": [
       "{'return_sequences': False,\n",
       " 'return_state': False,\n",
       " 'go_backwards': False,\n",
       " 'stateful': False,\n",
       " 'unroll': False,\n",
       " 'time_major': False,\n",
       " 'recurrent_initializer': {'class_name': 'Orthogonal',\n",
       "  'config': {'gain': 1.0, 'seed': None}},\n",
       " 'recurrent_regularizer': None,\n",
       " 'recurrent_constraint': None,\n",
       " 'dropout': 0.0,\n",
       " 'recurrent_dropout': 0.0}"
      ]
     },
     "execution_count": 141,
     "metadata": {},
     "output_type": "execute_result"
    }
   ],
   "source": [
    "# default keras.layers.SimpleRNN arguments Dense layer does not have\n",
    "SimpleRNN_args = keras.layers.SimpleRNN(units=32).get_config()\n",
    "Dense_keys = keras.layers.Dense(units=4).get_config().keys()\n",
    "SimpleRNN_args_only = {k: v for k, v in SimpleRNN_args.items() if k not in Dense_keys}\n",
    "SimpleRNN_args_only"
   ]
  },
  {
   "cell_type": "code",
   "execution_count": 142,
   "id": "00917c15-257e-4aaf-b207-560b7706b057",
   "metadata": {
    "tags": []
   },
   "outputs": [],
   "source": [
    "model = keras.Sequential([\n",
    "    keras.layers.SimpleRNN(32, input_shape=[None, 1]),\n",
    "    keras.layers.Dense(1) # no activation function by default\n",
    "])"
   ]
  },
  {
   "cell_type": "code",
   "execution_count": 150,
   "id": "3c03a393-4c91-44d5-9472-a9c11d34088f",
   "metadata": {},
   "outputs": [],
   "source": [
    "early_stopping_cb = keras.callbacks.EarlyStopping(\n",
    "    monitor=\"mae\",\n",
    "    patience=50, \n",
    "    restore_best_weights=True)\n",
    "\n",
    "opt = tf.keras.optimizers.SGD(learning_rate=0.02, momentum=0.9)"
   ]
  },
  {
   "cell_type": "code",
   "execution_count": 144,
   "id": "96f44bff-3cec-4cce-b730-0466d541cb0e",
   "metadata": {},
   "outputs": [],
   "source": [
    "model.compile(loss=tf.keras.losses.Huber(), optimizer=opt, metrics=[\"mae\"])"
   ]
  },
  {
   "cell_type": "code",
   "execution_count": 145,
   "id": "9d635aca-7f26-4e33-af36-d7ce32f71d59",
   "metadata": {
    "tags": []
   },
   "outputs": [
    {
     "name": "stdout",
     "output_type": "stream",
     "text": [
      "33/33 [==============================] - 2s 28ms/step - loss: 0.0196 - mae: 0.1538 - val_loss: 0.0037 - val_mae: 0.0631\n"
     ]
    }
   ],
   "source": [
    "log = model.fit(\n",
    "    train_ds, \n",
    "    validation_data=valid_ds, \n",
    "    epochs=1,\n",
    "    callbacks=[early_stopping_cb])"
   ]
  },
  {
   "cell_type": "code",
   "execution_count": 99,
   "id": "a66be1f4-d376-4eec-b569-8c3e435cf60c",
   "metadata": {},
   "outputs": [
    {
     "name": "stdout",
     "output_type": "stream",
     "text": [
      "3/3 [==============================] - 0s 5ms/step - loss: 0.0431 - mae: 0.2382\n"
     ]
    },
    {
     "data": {
      "text/plain": [
       "[0.043077584356069565, 0.23815713822841644]"
      ]
     },
     "execution_count": 99,
     "metadata": {},
     "output_type": "execute_result"
    }
   ],
   "source": [
    "evals = model.evaluate(test_ds)\n",
    "evals"
   ]
  },
  {
   "cell_type": "code",
   "execution_count": 12,
   "id": "9189b1f2-0556-4104-8075-0f4e3ed58c24",
   "metadata": {
    "tags": []
   },
   "outputs": [],
   "source": [
    "deep_model = tf.keras.Sequential([\n",
    "    tf.keras.layers.SimpleRNN(32, return_sequences=True, input_shape=[None, 1]),\n",
    "    tf.keras.layers.SimpleRNN(32, return_sequences=True),\n",
    "    tf.keras.layers.SimpleRNN(32),\n",
    "    tf.keras.layers.Dense(1)\n",
    "])"
   ]
  },
  {
   "cell_type": "code",
   "execution_count": 16,
   "id": "d267dd01-e29f-4482-8a1c-c1350a463fdd",
   "metadata": {},
   "outputs": [],
   "source": [
    "deep_model = keras.Sequential([\n",
    "    keras.layers.SimpleRNN(32, return_sequences=True, input_shape=[None, 1]),\n",
    "    keras.layers.SimpleRNN(32, return_sequences=True),\n",
    "    keras.layers.SimpleRNN(32),\n",
    "    keras.layers.Dense(1) # no activation function by default\n",
    "])"
   ]
  },
  {
   "cell_type": "code",
   "execution_count": 17,
   "id": "89a31834-8e5b-4d4d-8d64-2d3abdeb96fe",
   "metadata": {},
   "outputs": [],
   "source": [
    "deep_model.compile(loss=tf.keras.losses.Huber(), optimizer=opt, metrics=[\"mae\"])"
   ]
  },
  {
   "cell_type": "code",
   "execution_count": 14,
   "id": "cfe40980-6462-4831-bd38-c533121dbbbb",
   "metadata": {
    "collapsed": true,
    "jupyter": {
     "outputs_hidden": true
    },
    "tags": []
   },
   "outputs": [
    {
     "name": "stdout",
     "output_type": "stream",
     "text": [
      "Epoch 1/150\n",
      "33/33 [==============================] - 4s 74ms/step - loss: 0.0628 - mae: 0.2433 - val_loss: 0.0095 - val_mae: 0.1172\n",
      "Epoch 2/150\n",
      "33/33 [==============================] - 2s 68ms/step - loss: 0.0093 - mae: 0.1088 - val_loss: 0.0075 - val_mae: 0.1030\n",
      "Epoch 3/150\n",
      "33/33 [==============================] - 2s 68ms/step - loss: 0.0058 - mae: 0.0795 - val_loss: 0.0029 - val_mae: 0.0540\n",
      "Epoch 4/150\n",
      "33/33 [==============================] - 2s 68ms/step - loss: 0.0052 - mae: 0.0731 - val_loss: 0.0027 - val_mae: 0.0512\n",
      "Epoch 5/150\n",
      "33/33 [==============================] - 2s 67ms/step - loss: 0.0044 - mae: 0.0643 - val_loss: 0.0026 - val_mae: 0.0478\n",
      "Epoch 6/150\n",
      "33/33 [==============================] - 2s 68ms/step - loss: 0.0048 - mae: 0.0680 - val_loss: 0.0055 - val_mae: 0.0859\n",
      "Epoch 7/150\n",
      "33/33 [==============================] - 2s 67ms/step - loss: 0.0041 - mae: 0.0598 - val_loss: 0.0028 - val_mae: 0.0511\n",
      "Epoch 8/150\n",
      "33/33 [==============================] - 2s 67ms/step - loss: 0.0042 - mae: 0.0635 - val_loss: 0.0042 - val_mae: 0.0705\n",
      "Epoch 9/150\n",
      "33/33 [==============================] - 2s 68ms/step - loss: 0.0043 - mae: 0.0625 - val_loss: 0.0077 - val_mae: 0.1095\n",
      "Epoch 10/150\n",
      "33/33 [==============================] - 2s 68ms/step - loss: 0.0039 - mae: 0.0582 - val_loss: 0.0021 - val_mae: 0.0385\n",
      "Epoch 11/150\n",
      "33/33 [==============================] - 2s 67ms/step - loss: 0.0033 - mae: 0.0496 - val_loss: 0.0030 - val_mae: 0.0529\n",
      "Epoch 12/150\n",
      "33/33 [==============================] - 2s 68ms/step - loss: 0.0035 - mae: 0.0540 - val_loss: 0.0024 - val_mae: 0.0422\n",
      "Epoch 13/150\n",
      "33/33 [==============================] - 2s 68ms/step - loss: 0.0035 - mae: 0.0536 - val_loss: 0.0026 - val_mae: 0.0472\n",
      "Epoch 14/150\n",
      "33/33 [==============================] - 2s 67ms/step - loss: 0.0034 - mae: 0.0525 - val_loss: 0.0022 - val_mae: 0.0370\n",
      "Epoch 15/150\n",
      "33/33 [==============================] - 2s 68ms/step - loss: 0.0037 - mae: 0.0587 - val_loss: 0.0023 - val_mae: 0.0408\n",
      "Epoch 16/150\n",
      "33/33 [==============================] - 2s 67ms/step - loss: 0.0032 - mae: 0.0503 - val_loss: 0.0025 - val_mae: 0.0461\n",
      "Epoch 17/150\n",
      "33/33 [==============================] - 2s 69ms/step - loss: 0.0031 - mae: 0.0478 - val_loss: 0.0026 - val_mae: 0.0460\n",
      "Epoch 18/150\n",
      "33/33 [==============================] - 2s 67ms/step - loss: 0.0034 - mae: 0.0551 - val_loss: 0.0032 - val_mae: 0.0590\n",
      "Epoch 19/150\n",
      "33/33 [==============================] - 2s 66ms/step - loss: 0.0036 - mae: 0.0570 - val_loss: 0.0023 - val_mae: 0.0408\n",
      "Epoch 20/150\n",
      "33/33 [==============================] - 2s 67ms/step - loss: 0.0031 - mae: 0.0505 - val_loss: 0.0026 - val_mae: 0.0454\n",
      "Epoch 21/150\n",
      "33/33 [==============================] - 2s 68ms/step - loss: 0.0031 - mae: 0.0499 - val_loss: 0.0019 - val_mae: 0.0337\n",
      "Epoch 22/150\n",
      "33/33 [==============================] - 2s 67ms/step - loss: 0.0033 - mae: 0.0507 - val_loss: 0.0028 - val_mae: 0.0507\n",
      "Epoch 23/150\n",
      "33/33 [==============================] - 2s 67ms/step - loss: 0.0033 - mae: 0.0524 - val_loss: 0.0048 - val_mae: 0.0799\n",
      "Epoch 24/150\n",
      "33/33 [==============================] - 2s 67ms/step - loss: 0.0032 - mae: 0.0511 - val_loss: 0.0032 - val_mae: 0.0588\n",
      "Epoch 25/150\n",
      "33/33 [==============================] - 2s 67ms/step - loss: 0.0033 - mae: 0.0558 - val_loss: 0.0025 - val_mae: 0.0453\n",
      "Epoch 26/150\n",
      "33/33 [==============================] - 2s 67ms/step - loss: 0.0029 - mae: 0.0476 - val_loss: 0.0022 - val_mae: 0.0402\n",
      "Epoch 27/150\n",
      "33/33 [==============================] - 2s 67ms/step - loss: 0.0029 - mae: 0.0467 - val_loss: 0.0020 - val_mae: 0.0323\n",
      "Epoch 28/150\n",
      "33/33 [==============================] - 2s 68ms/step - loss: 0.0028 - mae: 0.0451 - val_loss: 0.0019 - val_mae: 0.0325\n",
      "Epoch 29/150\n",
      "33/33 [==============================] - 2s 67ms/step - loss: 0.0030 - mae: 0.0482 - val_loss: 0.0020 - val_mae: 0.0376\n",
      "Epoch 30/150\n",
      "33/33 [==============================] - 2s 68ms/step - loss: 0.0031 - mae: 0.0502 - val_loss: 0.0027 - val_mae: 0.0512\n",
      "Epoch 31/150\n",
      "33/33 [==============================] - 2s 67ms/step - loss: 0.0028 - mae: 0.0465 - val_loss: 0.0019 - val_mae: 0.0349\n",
      "Epoch 32/150\n",
      "33/33 [==============================] - 2s 67ms/step - loss: 0.0029 - mae: 0.0488 - val_loss: 0.0020 - val_mae: 0.0381\n",
      "Epoch 33/150\n",
      "33/33 [==============================] - 2s 68ms/step - loss: 0.0028 - mae: 0.0467 - val_loss: 0.0019 - val_mae: 0.0318\n",
      "Epoch 34/150\n",
      "33/33 [==============================] - 2s 68ms/step - loss: 0.0029 - mae: 0.0475 - val_loss: 0.0020 - val_mae: 0.0379\n",
      "Epoch 35/150\n",
      "33/33 [==============================] - 2s 67ms/step - loss: 0.0032 - mae: 0.0524 - val_loss: 0.0020 - val_mae: 0.0357\n",
      "Epoch 36/150\n",
      "33/33 [==============================] - 2s 68ms/step - loss: 0.0028 - mae: 0.0457 - val_loss: 0.0026 - val_mae: 0.0479\n",
      "Epoch 37/150\n",
      "33/33 [==============================] - 2s 69ms/step - loss: 0.0032 - mae: 0.0533 - val_loss: 0.0020 - val_mae: 0.0312\n",
      "Epoch 38/150\n",
      "33/33 [==============================] - 2s 67ms/step - loss: 0.0032 - mae: 0.0524 - val_loss: 0.0022 - val_mae: 0.0418\n",
      "Epoch 39/150\n",
      "33/33 [==============================] - 2s 68ms/step - loss: 0.0030 - mae: 0.0501 - val_loss: 0.0025 - val_mae: 0.0472\n",
      "Epoch 40/150\n",
      "33/33 [==============================] - 2s 68ms/step - loss: 0.0028 - mae: 0.0475 - val_loss: 0.0026 - val_mae: 0.0471\n",
      "Epoch 41/150\n",
      "33/33 [==============================] - 2s 68ms/step - loss: 0.0028 - mae: 0.0461 - val_loss: 0.0024 - val_mae: 0.0445\n",
      "Epoch 42/150\n",
      "33/33 [==============================] - 2s 68ms/step - loss: 0.0027 - mae: 0.0460 - val_loss: 0.0018 - val_mae: 0.0322\n",
      "Epoch 43/150\n",
      "33/33 [==============================] - 2s 68ms/step - loss: 0.0028 - mae: 0.0470 - val_loss: 0.0029 - val_mae: 0.0584\n",
      "Epoch 44/150\n",
      "33/33 [==============================] - 2s 68ms/step - loss: 0.0026 - mae: 0.0448 - val_loss: 0.0019 - val_mae: 0.0308\n",
      "Epoch 45/150\n",
      "33/33 [==============================] - 2s 68ms/step - loss: 0.0028 - mae: 0.0472 - val_loss: 0.0026 - val_mae: 0.0480\n",
      "Epoch 46/150\n",
      "33/33 [==============================] - 2s 69ms/step - loss: 0.0035 - mae: 0.0596 - val_loss: 0.0026 - val_mae: 0.0475\n",
      "Epoch 47/150\n",
      "33/33 [==============================] - 2s 66ms/step - loss: 0.0028 - mae: 0.0471 - val_loss: 0.0021 - val_mae: 0.0391\n",
      "Epoch 48/150\n",
      "33/33 [==============================] - 2s 68ms/step - loss: 0.0027 - mae: 0.0453 - val_loss: 0.0019 - val_mae: 0.0366\n",
      "Epoch 49/150\n",
      "33/33 [==============================] - 2s 67ms/step - loss: 0.0025 - mae: 0.0423 - val_loss: 0.0020 - val_mae: 0.0382\n",
      "Epoch 50/150\n",
      "33/33 [==============================] - 2s 68ms/step - loss: 0.0026 - mae: 0.0443 - val_loss: 0.0018 - val_mae: 0.0316\n",
      "Epoch 51/150\n",
      "33/33 [==============================] - 2s 67ms/step - loss: 0.0027 - mae: 0.0467 - val_loss: 0.0025 - val_mae: 0.0471\n",
      "Epoch 52/150\n",
      "33/33 [==============================] - 2s 68ms/step - loss: 0.0027 - mae: 0.0464 - val_loss: 0.0019 - val_mae: 0.0332\n",
      "Epoch 53/150\n",
      "33/33 [==============================] - 2s 67ms/step - loss: 0.0028 - mae: 0.0477 - val_loss: 0.0020 - val_mae: 0.0385\n",
      "Epoch 54/150\n",
      "33/33 [==============================] - 2s 67ms/step - loss: 0.0031 - mae: 0.0527 - val_loss: 0.0029 - val_mae: 0.0528\n",
      "Epoch 55/150\n",
      "33/33 [==============================] - 2s 67ms/step - loss: 0.0027 - mae: 0.0477 - val_loss: 0.0019 - val_mae: 0.0331\n",
      "Epoch 56/150\n",
      "33/33 [==============================] - 2s 67ms/step - loss: 0.0026 - mae: 0.0439 - val_loss: 0.0022 - val_mae: 0.0406\n",
      "Epoch 57/150\n",
      "33/33 [==============================] - 2s 69ms/step - loss: 0.0026 - mae: 0.0444 - val_loss: 0.0018 - val_mae: 0.0318\n",
      "Epoch 58/150\n",
      "33/33 [==============================] - 2s 68ms/step - loss: 0.0026 - mae: 0.0447 - val_loss: 0.0019 - val_mae: 0.0351\n",
      "Epoch 59/150\n",
      "33/33 [==============================] - 2s 67ms/step - loss: 0.0026 - mae: 0.0443 - val_loss: 0.0023 - val_mae: 0.0439\n",
      "Epoch 60/150\n",
      "33/33 [==============================] - 2s 67ms/step - loss: 0.0026 - mae: 0.0439 - val_loss: 0.0024 - val_mae: 0.0433\n",
      "Epoch 61/150\n",
      "33/33 [==============================] - 2s 68ms/step - loss: 0.0026 - mae: 0.0437 - val_loss: 0.0019 - val_mae: 0.0319\n",
      "Epoch 62/150\n",
      "33/33 [==============================] - 2s 68ms/step - loss: 0.0027 - mae: 0.0452 - val_loss: 0.0020 - val_mae: 0.0371\n",
      "Epoch 63/150\n",
      "33/33 [==============================] - 2s 68ms/step - loss: 0.0028 - mae: 0.0474 - val_loss: 0.0019 - val_mae: 0.0323\n",
      "Epoch 64/150\n",
      "33/33 [==============================] - 2s 67ms/step - loss: 0.0028 - mae: 0.0473 - val_loss: 0.0025 - val_mae: 0.0453\n",
      "Epoch 65/150\n",
      "33/33 [==============================] - 2s 68ms/step - loss: 0.0026 - mae: 0.0443 - val_loss: 0.0025 - val_mae: 0.0452\n",
      "Epoch 66/150\n",
      "33/33 [==============================] - 2s 68ms/step - loss: 0.0029 - mae: 0.0497 - val_loss: 0.0019 - val_mae: 0.0328\n",
      "Epoch 67/150\n",
      "33/33 [==============================] - 2s 67ms/step - loss: 0.0029 - mae: 0.0494 - val_loss: 0.0031 - val_mae: 0.0575\n",
      "Epoch 68/150\n",
      "33/33 [==============================] - 2s 68ms/step - loss: 0.0028 - mae: 0.0500 - val_loss: 0.0022 - val_mae: 0.0391\n",
      "Epoch 69/150\n",
      "33/33 [==============================] - 2s 67ms/step - loss: 0.0026 - mae: 0.0446 - val_loss: 0.0020 - val_mae: 0.0350\n",
      "Epoch 70/150\n",
      "33/33 [==============================] - 2s 67ms/step - loss: 0.0024 - mae: 0.0413 - val_loss: 0.0020 - val_mae: 0.0362\n",
      "Epoch 71/150\n",
      "33/33 [==============================] - 2s 66ms/step - loss: 0.0028 - mae: 0.0470 - val_loss: 0.0018 - val_mae: 0.0320\n",
      "Epoch 72/150\n",
      "33/33 [==============================] - 2s 69ms/step - loss: 0.0028 - mae: 0.0483 - val_loss: 0.0019 - val_mae: 0.0349\n",
      "Epoch 73/150\n",
      "33/33 [==============================] - 2s 67ms/step - loss: 0.0025 - mae: 0.0447 - val_loss: 0.0030 - val_mae: 0.0552\n",
      "Epoch 74/150\n",
      "33/33 [==============================] - 2s 67ms/step - loss: 0.0025 - mae: 0.0444 - val_loss: 0.0031 - val_mae: 0.0567\n",
      "Epoch 75/150\n",
      "33/33 [==============================] - 2s 67ms/step - loss: 0.0030 - mae: 0.0499 - val_loss: 0.0018 - val_mae: 0.0309\n",
      "Epoch 76/150\n",
      "33/33 [==============================] - 2s 67ms/step - loss: 0.0028 - mae: 0.0473 - val_loss: 0.0019 - val_mae: 0.0335\n",
      "Epoch 77/150\n",
      "33/33 [==============================] - 2s 68ms/step - loss: 0.0028 - mae: 0.0473 - val_loss: 0.0031 - val_mae: 0.0591\n",
      "Epoch 78/150\n",
      "33/33 [==============================] - 2s 67ms/step - loss: 0.0027 - mae: 0.0475 - val_loss: 0.0027 - val_mae: 0.0501\n",
      "Epoch 79/150\n",
      "33/33 [==============================] - 2s 68ms/step - loss: 0.0026 - mae: 0.0443 - val_loss: 0.0021 - val_mae: 0.0360\n",
      "Epoch 80/150\n",
      "33/33 [==============================] - 2s 67ms/step - loss: 0.0028 - mae: 0.0485 - val_loss: 0.0030 - val_mae: 0.0552\n",
      "Epoch 81/150\n",
      "33/33 [==============================] - 2s 67ms/step - loss: 0.0027 - mae: 0.0486 - val_loss: 0.0019 - val_mae: 0.0324\n",
      "Epoch 82/150\n",
      "33/33 [==============================] - 2s 68ms/step - loss: 0.0024 - mae: 0.0413 - val_loss: 0.0019 - val_mae: 0.0320\n",
      "Epoch 83/150\n",
      "33/33 [==============================] - 2s 67ms/step - loss: 0.0025 - mae: 0.0433 - val_loss: 0.0020 - val_mae: 0.0364\n",
      "Epoch 84/150\n",
      "33/33 [==============================] - 2s 67ms/step - loss: 0.0024 - mae: 0.0406 - val_loss: 0.0018 - val_mae: 0.0314\n",
      "Epoch 85/150\n",
      "33/33 [==============================] - 2s 68ms/step - loss: 0.0024 - mae: 0.0411 - val_loss: 0.0019 - val_mae: 0.0340\n",
      "Epoch 86/150\n",
      "33/33 [==============================] - 2s 68ms/step - loss: 0.0026 - mae: 0.0474 - val_loss: 0.0023 - val_mae: 0.0382\n",
      "Epoch 87/150\n",
      "33/33 [==============================] - 2s 68ms/step - loss: 0.0024 - mae: 0.0414 - val_loss: 0.0023 - val_mae: 0.0413\n",
      "Epoch 88/150\n",
      "33/33 [==============================] - 2s 67ms/step - loss: 0.0024 - mae: 0.0413 - val_loss: 0.0019 - val_mae: 0.0333\n",
      "Epoch 89/150\n",
      "33/33 [==============================] - 2s 67ms/step - loss: 0.0023 - mae: 0.0400 - val_loss: 0.0019 - val_mae: 0.0320\n",
      "Epoch 90/150\n",
      "33/33 [==============================] - 2s 68ms/step - loss: 0.0024 - mae: 0.0430 - val_loss: 0.0021 - val_mae: 0.0354\n",
      "Epoch 91/150\n",
      "33/33 [==============================] - 2s 68ms/step - loss: 0.0024 - mae: 0.0417 - val_loss: 0.0023 - val_mae: 0.0415\n",
      "Epoch 92/150\n",
      "33/33 [==============================] - 2s 68ms/step - loss: 0.0024 - mae: 0.0405 - val_loss: 0.0023 - val_mae: 0.0436\n",
      "Epoch 93/150\n",
      "33/33 [==============================] - 2s 68ms/step - loss: 0.0027 - mae: 0.0475 - val_loss: 0.0018 - val_mae: 0.0327\n",
      "Epoch 94/150\n",
      "33/33 [==============================] - 2s 68ms/step - loss: 0.0024 - mae: 0.0416 - val_loss: 0.0021 - val_mae: 0.0375\n"
     ]
    },
    {
     "data": {
      "text/plain": [
       "<keras.callbacks.History at 0x2ae3a7819d20>"
      ]
     },
     "execution_count": 14,
     "metadata": {},
     "output_type": "execute_result"
    }
   ],
   "source": [
    "deep_model.fit(\n",
    "    train_ds, \n",
    "    validation_data=valid_ds, \n",
    "    epochs=150,\n",
    "    callbacks=[early_stopping_cb])"
   ]
  },
  {
   "cell_type": "code",
   "execution_count": 15,
   "id": "f9e4e1d3-477c-4743-a4bb-b501bca8ce50",
   "metadata": {},
   "outputs": [
    {
     "name": "stdout",
     "output_type": "stream",
     "text": [
      "3/3 [==============================] - 0s 6ms/step - loss: 0.0441 - mae: 0.2419\n"
     ]
    },
    {
     "data": {
      "text/plain": [
       "[0.04409952089190483, 0.2418685108423233]"
      ]
     },
     "execution_count": 15,
     "metadata": {},
     "output_type": "execute_result"
    }
   ],
   "source": [
    "deep_evals = model.evaluate(test_ds)\n",
    "deep_evals"
   ]
  },
  {
   "cell_type": "markdown",
   "id": "dce46b19-1835-44f9-8f3e-40ee8ea89de6",
   "metadata": {
    "jp-MarkdownHeadingCollapsed": true,
    "tags": []
   },
   "source": [
    "## LSTM cells"
   ]
  },
  {
   "cell_type": "code",
   "execution_count": 19,
   "id": "a09c3cf4-8cfc-4998-b3b0-d2508c4c530d",
   "metadata": {
    "tags": []
   },
   "outputs": [],
   "source": [
    "seq2seq_train, seq2seq_valid, seq2seq_test = handson.seq2seq_dataset()"
   ]
  },
  {
   "cell_type": "code",
   "execution_count": 20,
   "id": "9c22beea-cf75-4ad0-85c5-e6c2542b376d",
   "metadata": {
    "tags": []
   },
   "outputs": [
    {
     "data": {
      "text/plain": [
       "{'recurrent_activation': 'sigmoid',\n",
       " 'unit_forget_bias': True,\n",
       " 'implementation': 2}"
      ]
     },
     "execution_count": 20,
     "metadata": {},
     "output_type": "execute_result"
    }
   ],
   "source": [
    "# default keras.layers.LSTM arguments SimpleRNN layer does not have\n",
    "LSTM_args = keras.layers.LSTM(units=32).get_config()\n",
    "SimpleRNN_keys = keras.layers.SimpleRNN(units=32).get_config().keys()\n",
    "LSTM_args_only = {k: v for k, v in LSTM_args.items() if k not in SimpleRNN_keys}\n",
    "LSTM_args_only"
   ]
  },
  {
   "cell_type": "code",
   "execution_count": 21,
   "id": "03f8ab93-d2b3-465f-af2b-b6c60e03c074",
   "metadata": {},
   "outputs": [],
   "source": [
    "model = tf.keras.Sequential([\n",
    "    keras.layers.LSTM(32, return_sequences=True, input_shape=[None, 5]),\n",
    "    keras.layers.Dense(14)\n",
    "])"
   ]
  },
  {
   "cell_type": "code",
   "execution_count": 22,
   "id": "4125f0bd-30a3-48ed-b5c9-701433322295",
   "metadata": {},
   "outputs": [],
   "source": [
    "early_stopping_cb = tf.keras.callbacks.EarlyStopping(\n",
    "    monitor=\"val_mae\",\n",
    "    patience=50, \n",
    "    restore_best_weights=True)\n",
    "opt = tf.keras.optimizers.SGD(learning_rate=0.02, momentum=0.9)\n",
    "\n",
    "model.compile(loss=tf.keras.losses.Huber(), optimizer=opt, metrics=[\"mae\"])"
   ]
  },
  {
   "cell_type": "code",
   "execution_count": 23,
   "id": "313015a6-e960-46d2-be99-1703f7aeb6b6",
   "metadata": {
    "tags": []
   },
   "outputs": [
    {
     "name": "stdout",
     "output_type": "stream",
     "text": [
      "Epoch 1/150\n",
      "33/33 [==============================] - 8s 139ms/step - loss: 0.0968 - mae: 0.3719 - val_loss: 0.0252 - val_mae: 0.1903\n",
      "Epoch 2/150\n",
      "33/33 [==============================] - 1s 29ms/step - loss: 0.0208 - mae: 0.1662 - val_loss: 0.0204 - val_mae: 0.1519\n",
      "Epoch 3/150\n",
      "33/33 [==============================] - 0s 6ms/step - loss: 0.0188 - mae: 0.1608 - val_loss: 0.0197 - val_mae: 0.1525\n",
      "Epoch 4/150\n",
      "33/33 [==============================] - 0s 6ms/step - loss: 0.0185 - mae: 0.1607 - val_loss: 0.0194 - val_mae: 0.1514\n",
      "Epoch 5/150\n",
      "33/33 [==============================] - 0s 6ms/step - loss: 0.0181 - mae: 0.1594 - val_loss: 0.0191 - val_mae: 0.1501\n",
      "Epoch 6/150\n",
      "33/33 [==============================] - 0s 6ms/step - loss: 0.0179 - mae: 0.1581 - val_loss: 0.0188 - val_mae: 0.1494\n",
      "Epoch 7/150\n",
      "33/33 [==============================] - 0s 6ms/step - loss: 0.0176 - mae: 0.1570 - val_loss: 0.0186 - val_mae: 0.1483\n",
      "Epoch 8/150\n",
      "33/33 [==============================] - 0s 6ms/step - loss: 0.0173 - mae: 0.1566 - val_loss: 0.0183 - val_mae: 0.1474\n",
      "Epoch 9/150\n",
      "33/33 [==============================] - 0s 6ms/step - loss: 0.0171 - mae: 0.1550 - val_loss: 0.0181 - val_mae: 0.1461\n",
      "Epoch 10/150\n",
      "33/33 [==============================] - 0s 6ms/step - loss: 0.0168 - mae: 0.1538 - val_loss: 0.0180 - val_mae: 0.1450\n",
      "Epoch 11/150\n",
      "33/33 [==============================] - 0s 6ms/step - loss: 0.0166 - mae: 0.1530 - val_loss: 0.0177 - val_mae: 0.1446\n",
      "Epoch 12/150\n",
      "33/33 [==============================] - 0s 6ms/step - loss: 0.0164 - mae: 0.1523 - val_loss: 0.0175 - val_mae: 0.1436\n",
      "Epoch 13/150\n",
      "33/33 [==============================] - 0s 6ms/step - loss: 0.0162 - mae: 0.1511 - val_loss: 0.0173 - val_mae: 0.1427\n",
      "Epoch 14/150\n",
      "33/33 [==============================] - 0s 6ms/step - loss: 0.0160 - mae: 0.1500 - val_loss: 0.0171 - val_mae: 0.1419\n",
      "Epoch 15/150\n",
      "33/33 [==============================] - 0s 7ms/step - loss: 0.0158 - mae: 0.1490 - val_loss: 0.0169 - val_mae: 0.1410\n",
      "Epoch 16/150\n",
      "33/33 [==============================] - 0s 6ms/step - loss: 0.0156 - mae: 0.1483 - val_loss: 0.0168 - val_mae: 0.1401\n",
      "Epoch 17/150\n",
      "33/33 [==============================] - 0s 7ms/step - loss: 0.0154 - mae: 0.1472 - val_loss: 0.0166 - val_mae: 0.1392\n",
      "Epoch 18/150\n",
      "33/33 [==============================] - 0s 6ms/step - loss: 0.0152 - mae: 0.1464 - val_loss: 0.0164 - val_mae: 0.1385\n",
      "Epoch 19/150\n",
      "33/33 [==============================] - 0s 6ms/step - loss: 0.0150 - mae: 0.1455 - val_loss: 0.0163 - val_mae: 0.1378\n",
      "Epoch 20/150\n",
      "33/33 [==============================] - 0s 7ms/step - loss: 0.0149 - mae: 0.1445 - val_loss: 0.0161 - val_mae: 0.1370\n",
      "Epoch 21/150\n",
      "33/33 [==============================] - 0s 6ms/step - loss: 0.0147 - mae: 0.1441 - val_loss: 0.0160 - val_mae: 0.1363\n",
      "Epoch 22/150\n",
      "33/33 [==============================] - 0s 6ms/step - loss: 0.0146 - mae: 0.1430 - val_loss: 0.0158 - val_mae: 0.1357\n",
      "Epoch 23/150\n",
      "33/33 [==============================] - 0s 6ms/step - loss: 0.0144 - mae: 0.1423 - val_loss: 0.0157 - val_mae: 0.1349\n",
      "Epoch 24/150\n",
      "33/33 [==============================] - 0s 6ms/step - loss: 0.0143 - mae: 0.1414 - val_loss: 0.0155 - val_mae: 0.1342\n",
      "Epoch 25/150\n",
      "33/33 [==============================] - 0s 6ms/step - loss: 0.0141 - mae: 0.1404 - val_loss: 0.0154 - val_mae: 0.1333\n",
      "Epoch 26/150\n",
      "33/33 [==============================] - 0s 7ms/step - loss: 0.0140 - mae: 0.1399 - val_loss: 0.0153 - val_mae: 0.1329\n",
      "Epoch 27/150\n",
      "33/33 [==============================] - 0s 7ms/step - loss: 0.0139 - mae: 0.1389 - val_loss: 0.0151 - val_mae: 0.1323\n",
      "Epoch 28/150\n",
      "33/33 [==============================] - 0s 6ms/step - loss: 0.0137 - mae: 0.1384 - val_loss: 0.0150 - val_mae: 0.1316\n",
      "Epoch 29/150\n",
      "33/33 [==============================] - 0s 6ms/step - loss: 0.0136 - mae: 0.1377 - val_loss: 0.0149 - val_mae: 0.1309\n",
      "Epoch 30/150\n",
      "33/33 [==============================] - 0s 6ms/step - loss: 0.0135 - mae: 0.1366 - val_loss: 0.0148 - val_mae: 0.1303\n",
      "Epoch 31/150\n",
      "33/33 [==============================] - 0s 6ms/step - loss: 0.0134 - mae: 0.1359 - val_loss: 0.0147 - val_mae: 0.1296\n",
      "Epoch 32/150\n",
      "33/33 [==============================] - 0s 6ms/step - loss: 0.0133 - mae: 0.1351 - val_loss: 0.0145 - val_mae: 0.1292\n",
      "Epoch 33/150\n",
      "33/33 [==============================] - 0s 6ms/step - loss: 0.0131 - mae: 0.1347 - val_loss: 0.0144 - val_mae: 0.1285\n",
      "Epoch 34/150\n",
      "33/33 [==============================] - 0s 6ms/step - loss: 0.0130 - mae: 0.1343 - val_loss: 0.0143 - val_mae: 0.1279\n",
      "Epoch 35/150\n",
      "33/33 [==============================] - 0s 6ms/step - loss: 0.0129 - mae: 0.1334 - val_loss: 0.0142 - val_mae: 0.1274\n",
      "Epoch 36/150\n",
      "33/33 [==============================] - 0s 7ms/step - loss: 0.0128 - mae: 0.1323 - val_loss: 0.0141 - val_mae: 0.1269\n",
      "Epoch 37/150\n",
      "33/33 [==============================] - 0s 6ms/step - loss: 0.0127 - mae: 0.1319 - val_loss: 0.0140 - val_mae: 0.1263\n",
      "Epoch 38/150\n",
      "33/33 [==============================] - 0s 6ms/step - loss: 0.0126 - mae: 0.1314 - val_loss: 0.0139 - val_mae: 0.1256\n",
      "Epoch 39/150\n",
      "33/33 [==============================] - 0s 7ms/step - loss: 0.0125 - mae: 0.1303 - val_loss: 0.0138 - val_mae: 0.1252\n",
      "Epoch 40/150\n",
      "33/33 [==============================] - 0s 7ms/step - loss: 0.0124 - mae: 0.1297 - val_loss: 0.0137 - val_mae: 0.1248\n",
      "Epoch 41/150\n",
      "33/33 [==============================] - 0s 7ms/step - loss: 0.0123 - mae: 0.1291 - val_loss: 0.0136 - val_mae: 0.1242\n",
      "Epoch 42/150\n",
      "33/33 [==============================] - 0s 7ms/step - loss: 0.0122 - mae: 0.1285 - val_loss: 0.0135 - val_mae: 0.1237\n",
      "Epoch 43/150\n",
      "33/33 [==============================] - 0s 6ms/step - loss: 0.0121 - mae: 0.1278 - val_loss: 0.0134 - val_mae: 0.1232\n",
      "Epoch 44/150\n",
      "33/33 [==============================] - 0s 6ms/step - loss: 0.0120 - mae: 0.1274 - val_loss: 0.0133 - val_mae: 0.1229\n",
      "Epoch 45/150\n",
      "33/33 [==============================] - 0s 6ms/step - loss: 0.0120 - mae: 0.1272 - val_loss: 0.0132 - val_mae: 0.1224\n",
      "Epoch 46/150\n",
      "33/33 [==============================] - 0s 7ms/step - loss: 0.0119 - mae: 0.1263 - val_loss: 0.0131 - val_mae: 0.1220\n",
      "Epoch 47/150\n",
      "33/33 [==============================] - 0s 6ms/step - loss: 0.0118 - mae: 0.1254 - val_loss: 0.0130 - val_mae: 0.1216\n",
      "Epoch 48/150\n",
      "33/33 [==============================] - 0s 6ms/step - loss: 0.0117 - mae: 0.1253 - val_loss: 0.0130 - val_mae: 0.1211\n",
      "Epoch 49/150\n",
      "33/33 [==============================] - 0s 6ms/step - loss: 0.0116 - mae: 0.1244 - val_loss: 0.0129 - val_mae: 0.1208\n",
      "Epoch 50/150\n",
      "33/33 [==============================] - 0s 7ms/step - loss: 0.0116 - mae: 0.1240 - val_loss: 0.0128 - val_mae: 0.1204\n",
      "Epoch 51/150\n",
      "33/33 [==============================] - 0s 7ms/step - loss: 0.0115 - mae: 0.1235 - val_loss: 0.0127 - val_mae: 0.1200\n",
      "Epoch 52/150\n",
      "33/33 [==============================] - 0s 6ms/step - loss: 0.0114 - mae: 0.1231 - val_loss: 0.0126 - val_mae: 0.1196\n",
      "Epoch 53/150\n",
      "33/33 [==============================] - 0s 6ms/step - loss: 0.0113 - mae: 0.1223 - val_loss: 0.0125 - val_mae: 0.1192\n",
      "Epoch 54/150\n",
      "33/33 [==============================] - 0s 6ms/step - loss: 0.0113 - mae: 0.1220 - val_loss: 0.0125 - val_mae: 0.1189\n",
      "Epoch 55/150\n",
      "33/33 [==============================] - 0s 7ms/step - loss: 0.0112 - mae: 0.1212 - val_loss: 0.0124 - val_mae: 0.1185\n",
      "Epoch 56/150\n",
      "33/33 [==============================] - 0s 7ms/step - loss: 0.0111 - mae: 0.1211 - val_loss: 0.0123 - val_mae: 0.1181\n",
      "Epoch 57/150\n",
      "33/33 [==============================] - 0s 6ms/step - loss: 0.0111 - mae: 0.1207 - val_loss: 0.0122 - val_mae: 0.1178\n",
      "Epoch 58/150\n",
      "33/33 [==============================] - 0s 6ms/step - loss: 0.0110 - mae: 0.1199 - val_loss: 0.0122 - val_mae: 0.1176\n",
      "Epoch 59/150\n",
      "33/33 [==============================] - 0s 6ms/step - loss: 0.0109 - mae: 0.1196 - val_loss: 0.0121 - val_mae: 0.1172\n",
      "Epoch 60/150\n",
      "33/33 [==============================] - 0s 6ms/step - loss: 0.0109 - mae: 0.1191 - val_loss: 0.0120 - val_mae: 0.1169\n",
      "Epoch 61/150\n",
      "33/33 [==============================] - 0s 6ms/step - loss: 0.0108 - mae: 0.1187 - val_loss: 0.0120 - val_mae: 0.1166\n",
      "Epoch 62/150\n",
      "33/33 [==============================] - 0s 6ms/step - loss: 0.0108 - mae: 0.1181 - val_loss: 0.0119 - val_mae: 0.1164\n",
      "Epoch 63/150\n",
      "33/33 [==============================] - 0s 6ms/step - loss: 0.0107 - mae: 0.1180 - val_loss: 0.0118 - val_mae: 0.1160\n",
      "Epoch 64/150\n",
      "33/33 [==============================] - 0s 7ms/step - loss: 0.0106 - mae: 0.1172 - val_loss: 0.0118 - val_mae: 0.1157\n",
      "Epoch 65/150\n",
      "33/33 [==============================] - 0s 6ms/step - loss: 0.0106 - mae: 0.1170 - val_loss: 0.0117 - val_mae: 0.1154\n",
      "Epoch 66/150\n",
      "33/33 [==============================] - 0s 6ms/step - loss: 0.0105 - mae: 0.1165 - val_loss: 0.0116 - val_mae: 0.1152\n",
      "Epoch 67/150\n",
      "33/33 [==============================] - 0s 6ms/step - loss: 0.0105 - mae: 0.1163 - val_loss: 0.0116 - val_mae: 0.1149\n",
      "Epoch 68/150\n",
      "33/33 [==============================] - 0s 6ms/step - loss: 0.0104 - mae: 0.1159 - val_loss: 0.0115 - val_mae: 0.1146\n",
      "Epoch 69/150\n",
      "33/33 [==============================] - 0s 6ms/step - loss: 0.0104 - mae: 0.1156 - val_loss: 0.0115 - val_mae: 0.1143\n",
      "Epoch 70/150\n",
      "33/33 [==============================] - 0s 6ms/step - loss: 0.0103 - mae: 0.1151 - val_loss: 0.0114 - val_mae: 0.1141\n",
      "Epoch 71/150\n",
      "33/33 [==============================] - 0s 6ms/step - loss: 0.0103 - mae: 0.1147 - val_loss: 0.0114 - val_mae: 0.1138\n",
      "Epoch 72/150\n",
      "33/33 [==============================] - 0s 6ms/step - loss: 0.0102 - mae: 0.1143 - val_loss: 0.0113 - val_mae: 0.1136\n",
      "Epoch 73/150\n",
      "33/33 [==============================] - 0s 6ms/step - loss: 0.0102 - mae: 0.1139 - val_loss: 0.0113 - val_mae: 0.1133\n",
      "Epoch 74/150\n",
      "33/33 [==============================] - 0s 6ms/step - loss: 0.0101 - mae: 0.1134 - val_loss: 0.0112 - val_mae: 0.1131\n",
      "Epoch 75/150\n",
      "33/33 [==============================] - 0s 7ms/step - loss: 0.0101 - mae: 0.1133 - val_loss: 0.0112 - val_mae: 0.1128\n",
      "Epoch 76/150\n",
      "33/33 [==============================] - 0s 6ms/step - loss: 0.0100 - mae: 0.1128 - val_loss: 0.0111 - val_mae: 0.1126\n",
      "Epoch 77/150\n",
      "33/33 [==============================] - 0s 6ms/step - loss: 0.0100 - mae: 0.1125 - val_loss: 0.0110 - val_mae: 0.1124\n",
      "Epoch 78/150\n",
      "33/33 [==============================] - 0s 6ms/step - loss: 0.0099 - mae: 0.1121 - val_loss: 0.0110 - val_mae: 0.1121\n",
      "Epoch 79/150\n",
      "33/33 [==============================] - 0s 6ms/step - loss: 0.0099 - mae: 0.1121 - val_loss: 0.0109 - val_mae: 0.1118\n",
      "Epoch 80/150\n",
      "33/33 [==============================] - 0s 6ms/step - loss: 0.0098 - mae: 0.1117 - val_loss: 0.0109 - val_mae: 0.1116\n",
      "Epoch 81/150\n",
      "33/33 [==============================] - 0s 6ms/step - loss: 0.0098 - mae: 0.1113 - val_loss: 0.0109 - val_mae: 0.1114\n",
      "Epoch 82/150\n",
      "33/33 [==============================] - 0s 6ms/step - loss: 0.0098 - mae: 0.1107 - val_loss: 0.0108 - val_mae: 0.1112\n",
      "Epoch 83/150\n",
      "33/33 [==============================] - 0s 6ms/step - loss: 0.0097 - mae: 0.1108 - val_loss: 0.0108 - val_mae: 0.1109\n",
      "Epoch 84/150\n",
      "33/33 [==============================] - 0s 6ms/step - loss: 0.0097 - mae: 0.1103 - val_loss: 0.0107 - val_mae: 0.1107\n",
      "Epoch 85/150\n",
      "33/33 [==============================] - 0s 6ms/step - loss: 0.0096 - mae: 0.1099 - val_loss: 0.0107 - val_mae: 0.1105\n",
      "Epoch 86/150\n",
      "33/33 [==============================] - 0s 6ms/step - loss: 0.0096 - mae: 0.1098 - val_loss: 0.0106 - val_mae: 0.1103\n",
      "Epoch 87/150\n",
      "33/33 [==============================] - 0s 6ms/step - loss: 0.0096 - mae: 0.1093 - val_loss: 0.0106 - val_mae: 0.1101\n",
      "Epoch 88/150\n",
      "33/33 [==============================] - 0s 6ms/step - loss: 0.0095 - mae: 0.1091 - val_loss: 0.0105 - val_mae: 0.1099\n",
      "Epoch 89/150\n",
      "33/33 [==============================] - 0s 7ms/step - loss: 0.0095 - mae: 0.1087 - val_loss: 0.0105 - val_mae: 0.1097\n",
      "Epoch 90/150\n",
      "33/33 [==============================] - 0s 6ms/step - loss: 0.0094 - mae: 0.1086 - val_loss: 0.0105 - val_mae: 0.1094\n",
      "Epoch 91/150\n",
      "33/33 [==============================] - 0s 6ms/step - loss: 0.0094 - mae: 0.1082 - val_loss: 0.0104 - val_mae: 0.1092\n",
      "Epoch 92/150\n",
      "33/33 [==============================] - 0s 6ms/step - loss: 0.0094 - mae: 0.1078 - val_loss: 0.0104 - val_mae: 0.1091\n",
      "Epoch 93/150\n",
      "33/33 [==============================] - 0s 6ms/step - loss: 0.0093 - mae: 0.1076 - val_loss: 0.0103 - val_mae: 0.1088\n",
      "Epoch 94/150\n",
      "33/33 [==============================] - 0s 6ms/step - loss: 0.0093 - mae: 0.1074 - val_loss: 0.0103 - val_mae: 0.1086\n",
      "Epoch 95/150\n",
      "33/33 [==============================] - 0s 6ms/step - loss: 0.0093 - mae: 0.1071 - val_loss: 0.0102 - val_mae: 0.1084\n",
      "Epoch 96/150\n",
      "33/33 [==============================] - 0s 7ms/step - loss: 0.0092 - mae: 0.1067 - val_loss: 0.0102 - val_mae: 0.1083\n",
      "Epoch 97/150\n",
      "33/33 [==============================] - 0s 6ms/step - loss: 0.0092 - mae: 0.1066 - val_loss: 0.0102 - val_mae: 0.1080\n",
      "Epoch 98/150\n",
      "33/33 [==============================] - 0s 6ms/step - loss: 0.0092 - mae: 0.1063 - val_loss: 0.0102 - val_mae: 0.1079\n",
      "Epoch 99/150\n",
      "33/33 [==============================] - 0s 6ms/step - loss: 0.0091 - mae: 0.1061 - val_loss: 0.0101 - val_mae: 0.1077\n",
      "Epoch 100/150\n",
      "33/33 [==============================] - 0s 6ms/step - loss: 0.0091 - mae: 0.1058 - val_loss: 0.0100 - val_mae: 0.1075\n",
      "Epoch 101/150\n",
      "33/33 [==============================] - 0s 6ms/step - loss: 0.0091 - mae: 0.1057 - val_loss: 0.0100 - val_mae: 0.1073\n",
      "Epoch 102/150\n",
      "33/33 [==============================] - 0s 6ms/step - loss: 0.0091 - mae: 0.1054 - val_loss: 0.0100 - val_mae: 0.1071\n",
      "Epoch 103/150\n",
      "33/33 [==============================] - 0s 6ms/step - loss: 0.0090 - mae: 0.1051 - val_loss: 0.0100 - val_mae: 0.1070\n",
      "Epoch 104/150\n",
      "33/33 [==============================] - 0s 6ms/step - loss: 0.0090 - mae: 0.1048 - val_loss: 0.0099 - val_mae: 0.1068\n",
      "Epoch 105/150\n",
      "33/33 [==============================] - 0s 6ms/step - loss: 0.0090 - mae: 0.1046 - val_loss: 0.0099 - val_mae: 0.1067\n",
      "Epoch 106/150\n",
      "33/33 [==============================] - 0s 6ms/step - loss: 0.0089 - mae: 0.1044 - val_loss: 0.0098 - val_mae: 0.1065\n",
      "Epoch 107/150\n",
      "33/33 [==============================] - 0s 6ms/step - loss: 0.0089 - mae: 0.1042 - val_loss: 0.0098 - val_mae: 0.1063\n",
      "Epoch 108/150\n",
      "33/33 [==============================] - 0s 6ms/step - loss: 0.0089 - mae: 0.1039 - val_loss: 0.0098 - val_mae: 0.1061\n",
      "Epoch 109/150\n",
      "33/33 [==============================] - 0s 6ms/step - loss: 0.0089 - mae: 0.1038 - val_loss: 0.0098 - val_mae: 0.1060\n",
      "Epoch 110/150\n",
      "33/33 [==============================] - 0s 6ms/step - loss: 0.0088 - mae: 0.1035 - val_loss: 0.0098 - val_mae: 0.1059\n",
      "Epoch 111/150\n",
      "33/33 [==============================] - 0s 7ms/step - loss: 0.0088 - mae: 0.1032 - val_loss: 0.0097 - val_mae: 0.1057\n",
      "Epoch 112/150\n",
      "33/33 [==============================] - 0s 6ms/step - loss: 0.0088 - mae: 0.1031 - val_loss: 0.0097 - val_mae: 0.1055\n",
      "Epoch 113/150\n",
      "33/33 [==============================] - 0s 6ms/step - loss: 0.0088 - mae: 0.1030 - val_loss: 0.0096 - val_mae: 0.1053\n",
      "Epoch 114/150\n",
      "33/33 [==============================] - 0s 6ms/step - loss: 0.0087 - mae: 0.1027 - val_loss: 0.0096 - val_mae: 0.1053\n",
      "Epoch 115/150\n",
      "33/33 [==============================] - 0s 6ms/step - loss: 0.0087 - mae: 0.1024 - val_loss: 0.0096 - val_mae: 0.1051\n",
      "Epoch 116/150\n",
      "33/33 [==============================] - 0s 6ms/step - loss: 0.0087 - mae: 0.1023 - val_loss: 0.0096 - val_mae: 0.1049\n",
      "Epoch 117/150\n",
      "33/33 [==============================] - 0s 6ms/step - loss: 0.0087 - mae: 0.1021 - val_loss: 0.0095 - val_mae: 0.1048\n",
      "Epoch 118/150\n",
      "33/33 [==============================] - 0s 6ms/step - loss: 0.0086 - mae: 0.1019 - val_loss: 0.0095 - val_mae: 0.1046\n",
      "Epoch 119/150\n",
      "33/33 [==============================] - 0s 6ms/step - loss: 0.0086 - mae: 0.1017 - val_loss: 0.0095 - val_mae: 0.1045\n",
      "Epoch 120/150\n",
      "33/33 [==============================] - 0s 6ms/step - loss: 0.0086 - mae: 0.1016 - val_loss: 0.0094 - val_mae: 0.1042\n",
      "Epoch 121/150\n",
      "33/33 [==============================] - 0s 6ms/step - loss: 0.0086 - mae: 0.1014 - val_loss: 0.0094 - val_mae: 0.1041\n",
      "Epoch 122/150\n",
      "33/33 [==============================] - 0s 6ms/step - loss: 0.0085 - mae: 0.1011 - val_loss: 0.0094 - val_mae: 0.1041\n",
      "Epoch 123/150\n",
      "33/33 [==============================] - 0s 6ms/step - loss: 0.0085 - mae: 0.1010 - val_loss: 0.0094 - val_mae: 0.1039\n",
      "Epoch 124/150\n",
      "33/33 [==============================] - 0s 6ms/step - loss: 0.0085 - mae: 0.1007 - val_loss: 0.0093 - val_mae: 0.1037\n",
      "Epoch 125/150\n",
      "33/33 [==============================] - 0s 6ms/step - loss: 0.0085 - mae: 0.1007 - val_loss: 0.0093 - val_mae: 0.1035\n",
      "Epoch 126/150\n",
      "33/33 [==============================] - 0s 6ms/step - loss: 0.0084 - mae: 0.1004 - val_loss: 0.0093 - val_mae: 0.1034\n",
      "Epoch 127/150\n",
      "33/33 [==============================] - 0s 6ms/step - loss: 0.0084 - mae: 0.1002 - val_loss: 0.0093 - val_mae: 0.1034\n",
      "Epoch 128/150\n",
      "33/33 [==============================] - 0s 6ms/step - loss: 0.0084 - mae: 0.1001 - val_loss: 0.0092 - val_mae: 0.1031\n",
      "Epoch 129/150\n",
      "33/33 [==============================] - 0s 6ms/step - loss: 0.0084 - mae: 0.0999 - val_loss: 0.0092 - val_mae: 0.1030\n",
      "Epoch 130/150\n",
      "33/33 [==============================] - 0s 6ms/step - loss: 0.0084 - mae: 0.0997 - val_loss: 0.0092 - val_mae: 0.1027\n",
      "Epoch 131/150\n",
      "33/33 [==============================] - 0s 6ms/step - loss: 0.0083 - mae: 0.0996 - val_loss: 0.0092 - val_mae: 0.1027\n",
      "Epoch 132/150\n",
      "33/33 [==============================] - 0s 6ms/step - loss: 0.0083 - mae: 0.0993 - val_loss: 0.0092 - val_mae: 0.1026\n",
      "Epoch 133/150\n",
      "33/33 [==============================] - 0s 6ms/step - loss: 0.0083 - mae: 0.0992 - val_loss: 0.0091 - val_mae: 0.1025\n",
      "Epoch 134/150\n",
      "33/33 [==============================] - 0s 6ms/step - loss: 0.0083 - mae: 0.0990 - val_loss: 0.0091 - val_mae: 0.1023\n",
      "Epoch 135/150\n",
      "33/33 [==============================] - 0s 6ms/step - loss: 0.0083 - mae: 0.0990 - val_loss: 0.0091 - val_mae: 0.1020\n",
      "Epoch 136/150\n",
      "33/33 [==============================] - 0s 6ms/step - loss: 0.0082 - mae: 0.0987 - val_loss: 0.0091 - val_mae: 0.1021\n",
      "Epoch 137/150\n",
      "33/33 [==============================] - 0s 6ms/step - loss: 0.0082 - mae: 0.0986 - val_loss: 0.0090 - val_mae: 0.1019\n",
      "Epoch 138/150\n",
      "33/33 [==============================] - 0s 6ms/step - loss: 0.0082 - mae: 0.0984 - val_loss: 0.0090 - val_mae: 0.1018\n",
      "Epoch 139/150\n",
      "33/33 [==============================] - 0s 6ms/step - loss: 0.0082 - mae: 0.0982 - val_loss: 0.0090 - val_mae: 0.1014\n",
      "Epoch 140/150\n",
      "33/33 [==============================] - 0s 6ms/step - loss: 0.0082 - mae: 0.0982 - val_loss: 0.0090 - val_mae: 0.1014\n",
      "Epoch 141/150\n",
      "33/33 [==============================] - 0s 6ms/step - loss: 0.0081 - mae: 0.0979 - val_loss: 0.0089 - val_mae: 0.1012\n",
      "Epoch 142/150\n",
      "33/33 [==============================] - 0s 6ms/step - loss: 0.0081 - mae: 0.0978 - val_loss: 0.0089 - val_mae: 0.1012\n",
      "Epoch 143/150\n",
      "33/33 [==============================] - 0s 6ms/step - loss: 0.0081 - mae: 0.0976 - val_loss: 0.0089 - val_mae: 0.1010\n",
      "Epoch 144/150\n",
      "33/33 [==============================] - 0s 6ms/step - loss: 0.0081 - mae: 0.0975 - val_loss: 0.0089 - val_mae: 0.1008\n",
      "Epoch 145/150\n",
      "33/33 [==============================] - 0s 6ms/step - loss: 0.0081 - mae: 0.0973 - val_loss: 0.0088 - val_mae: 0.1006\n",
      "Epoch 146/150\n",
      "33/33 [==============================] - 0s 6ms/step - loss: 0.0080 - mae: 0.0971 - val_loss: 0.0088 - val_mae: 0.1006\n",
      "Epoch 147/150\n",
      "33/33 [==============================] - 0s 6ms/step - loss: 0.0080 - mae: 0.0970 - val_loss: 0.0088 - val_mae: 0.1003\n",
      "Epoch 148/150\n",
      "33/33 [==============================] - 0s 6ms/step - loss: 0.0080 - mae: 0.0968 - val_loss: 0.0088 - val_mae: 0.1004\n",
      "Epoch 149/150\n",
      "33/33 [==============================] - 0s 6ms/step - loss: 0.0080 - mae: 0.0966 - val_loss: 0.0088 - val_mae: 0.1002\n",
      "Epoch 150/150\n",
      "33/33 [==============================] - 0s 6ms/step - loss: 0.0080 - mae: 0.0965 - val_loss: 0.0088 - val_mae: 0.1000\n"
     ]
    }
   ],
   "source": [
    "history = model.fit(\n",
    "    seq2seq_train, \n",
    "    validation_data=seq2seq_valid, \n",
    "    epochs=150,\n",
    "    callbacks=[early_stopping_cb])"
   ]
  },
  {
   "cell_type": "code",
   "execution_count": 21,
   "id": "1ab959ce-646a-4ed2-a73e-5c3690b8a1ef",
   "metadata": {
    "scrolled": true
   },
   "outputs": [
    {
     "name": "stdout",
     "output_type": "stream",
     "text": [
      "37/37 [==============================] - 0s 5ms/step - loss: 0.0498 - mae: 0.2746\n"
     ]
    },
    {
     "data": {
      "text/plain": [
       "[0.049832530319690704, 0.2745789587497711]"
      ]
     },
     "execution_count": 21,
     "metadata": {},
     "output_type": "execute_result"
    }
   ],
   "source": [
    "evals = model.evaluate(seq2seq_test)\n",
    "evals"
   ]
  },
  {
   "cell_type": "markdown",
   "id": "2266207b-4772-445d-bc67-c117a1e00684",
   "metadata": {
    "jp-MarkdownHeadingCollapsed": true,
    "tags": []
   },
   "source": [
    "## GRU"
   ]
  },
  {
   "cell_type": "code",
   "execution_count": 47,
   "id": "44a29647-9ea9-4300-b382-ffd018c0f166",
   "metadata": {},
   "outputs": [
    {
     "data": {
      "text/plain": [
       "{'recurrent_activation': 'sigmoid', 'implementation': 2, 'reset_after': True}"
      ]
     },
     "execution_count": 47,
     "metadata": {},
     "output_type": "execute_result"
    }
   ],
   "source": [
    "# default keras.layers.GRU arguments SimpleRNN layer does not have\n",
    "GRU_args = keras.layers.GRU(units=32).get_config()\n",
    "SimpleRNN_keys = keras.layers.SimpleRNN(units=32).get_config().keys()\n",
    "GRU_args_only = {k: v for k, v in GRU_args.items() if k not in SimpleRNN_keys}\n",
    "GRU_args_only"
   ]
  },
  {
   "cell_type": "code",
   "execution_count": 48,
   "id": "472de145-9484-4514-8f1d-dd4792583de7",
   "metadata": {
    "tags": []
   },
   "outputs": [],
   "source": [
    "seq2seq_train, seq2seq_valid, seq2seq_test = handson.seq2seq_dataset()"
   ]
  },
  {
   "cell_type": "code",
   "execution_count": 49,
   "id": "23862eac-5b84-47fc-944a-23118068c3d7",
   "metadata": {},
   "outputs": [],
   "source": [
    "model = tf.keras.Sequential([\n",
    "tf.keras.layers.GRU(32, return_sequences=True, input_shape=[None, 5]),\n",
    "tf.keras.layers.Dense(14)\n",
    "])"
   ]
  },
  {
   "cell_type": "code",
   "execution_count": 50,
   "id": "b9b5535c-ec9e-4e7c-918a-cf9d1b5e0c44",
   "metadata": {},
   "outputs": [],
   "source": [
    "early_stopping_cb = tf.keras.callbacks.EarlyStopping(\n",
    "    monitor=\"mae\",\n",
    "    patience=50, \n",
    "    restore_best_weights=True)\n",
    "opt = tf.keras.optimizers.SGD(learning_rate=0.02, momentum=0.9)\n",
    "\n",
    "model.compile(loss=tf.keras.losses.Huber(), optimizer=opt, metrics=[\"mae\"])"
   ]
  },
  {
   "cell_type": "code",
   "execution_count": 51,
   "id": "895677ad-0708-457c-bfc0-653719a74f1e",
   "metadata": {
    "tags": []
   },
   "outputs": [
    {
     "name": "stdout",
     "output_type": "stream",
     "text": [
      "Epoch 1/150\n",
      "33/33 [==============================] - 4s 60ms/step - loss: 0.1129 - mae: 0.3910 - val_loss: 0.0255 - val_mae: 0.1743\n",
      "Epoch 2/150\n",
      "33/33 [==============================] - 1s 22ms/step - loss: 0.0203 - mae: 0.1599 - val_loss: 0.0203 - val_mae: 0.1552\n",
      "Epoch 3/150\n",
      "33/33 [==============================] - 0s 4ms/step - loss: 0.0179 - mae: 0.1573 - val_loss: 0.0190 - val_mae: 0.1512\n",
      "Epoch 4/150\n",
      "33/33 [==============================] - 0s 4ms/step - loss: 0.0169 - mae: 0.1530 - val_loss: 0.0182 - val_mae: 0.1471\n",
      "Epoch 5/150\n",
      "33/33 [==============================] - 0s 4ms/step - loss: 0.0162 - mae: 0.1495 - val_loss: 0.0175 - val_mae: 0.1439\n",
      "Epoch 6/150\n",
      "33/33 [==============================] - 0s 4ms/step - loss: 0.0156 - mae: 0.1463 - val_loss: 0.0168 - val_mae: 0.1413\n",
      "Epoch 7/150\n",
      "33/33 [==============================] - 0s 4ms/step - loss: 0.0150 - mae: 0.1436 - val_loss: 0.0163 - val_mae: 0.1387\n",
      "Epoch 8/150\n",
      "33/33 [==============================] - 0s 4ms/step - loss: 0.0145 - mae: 0.1417 - val_loss: 0.0158 - val_mae: 0.1365\n",
      "Epoch 9/150\n",
      "33/33 [==============================] - 0s 4ms/step - loss: 0.0141 - mae: 0.1388 - val_loss: 0.0154 - val_mae: 0.1343\n",
      "Epoch 10/150\n",
      "33/33 [==============================] - 0s 4ms/step - loss: 0.0138 - mae: 0.1367 - val_loss: 0.0150 - val_mae: 0.1324\n",
      "Epoch 11/150\n",
      "33/33 [==============================] - 0s 4ms/step - loss: 0.0134 - mae: 0.1349 - val_loss: 0.0146 - val_mae: 0.1311\n",
      "Epoch 12/150\n",
      "33/33 [==============================] - 0s 4ms/step - loss: 0.0132 - mae: 0.1333 - val_loss: 0.0143 - val_mae: 0.1294\n",
      "Epoch 13/150\n",
      "33/33 [==============================] - 0s 4ms/step - loss: 0.0129 - mae: 0.1315 - val_loss: 0.0141 - val_mae: 0.1281\n",
      "Epoch 14/150\n",
      "33/33 [==============================] - 0s 4ms/step - loss: 0.0127 - mae: 0.1300 - val_loss: 0.0138 - val_mae: 0.1269\n",
      "Epoch 15/150\n",
      "33/33 [==============================] - 0s 4ms/step - loss: 0.0125 - mae: 0.1286 - val_loss: 0.0136 - val_mae: 0.1257\n",
      "Epoch 16/150\n",
      "33/33 [==============================] - 0s 4ms/step - loss: 0.0123 - mae: 0.1275 - val_loss: 0.0134 - val_mae: 0.1247\n",
      "Epoch 17/150\n",
      "33/33 [==============================] - 0s 4ms/step - loss: 0.0121 - mae: 0.1262 - val_loss: 0.0132 - val_mae: 0.1238\n",
      "Epoch 18/150\n",
      "33/33 [==============================] - 0s 4ms/step - loss: 0.0119 - mae: 0.1252 - val_loss: 0.0130 - val_mae: 0.1230\n",
      "Epoch 19/150\n",
      "33/33 [==============================] - 0s 4ms/step - loss: 0.0118 - mae: 0.1242 - val_loss: 0.0128 - val_mae: 0.1223\n",
      "Epoch 20/150\n",
      "33/33 [==============================] - 0s 4ms/step - loss: 0.0116 - mae: 0.1232 - val_loss: 0.0127 - val_mae: 0.1216\n",
      "Epoch 21/150\n",
      "33/33 [==============================] - 0s 4ms/step - loss: 0.0115 - mae: 0.1226 - val_loss: 0.0125 - val_mae: 0.1209\n",
      "Epoch 22/150\n",
      "33/33 [==============================] - 0s 4ms/step - loss: 0.0114 - mae: 0.1216 - val_loss: 0.0124 - val_mae: 0.1204\n",
      "Epoch 23/150\n",
      "33/33 [==============================] - 0s 4ms/step - loss: 0.0112 - mae: 0.1209 - val_loss: 0.0122 - val_mae: 0.1197\n",
      "Epoch 24/150\n",
      "33/33 [==============================] - 0s 4ms/step - loss: 0.0111 - mae: 0.1201 - val_loss: 0.0121 - val_mae: 0.1191\n",
      "Epoch 25/150\n",
      "33/33 [==============================] - 0s 4ms/step - loss: 0.0110 - mae: 0.1192 - val_loss: 0.0120 - val_mae: 0.1184\n",
      "Epoch 26/150\n",
      "33/33 [==============================] - 0s 4ms/step - loss: 0.0109 - mae: 0.1186 - val_loss: 0.0119 - val_mae: 0.1179\n",
      "Epoch 27/150\n",
      "33/33 [==============================] - 0s 4ms/step - loss: 0.0108 - mae: 0.1179 - val_loss: 0.0117 - val_mae: 0.1174\n",
      "Epoch 28/150\n",
      "33/33 [==============================] - 0s 4ms/step - loss: 0.0107 - mae: 0.1173 - val_loss: 0.0116 - val_mae: 0.1168\n",
      "Epoch 29/150\n",
      "33/33 [==============================] - 0s 4ms/step - loss: 0.0106 - mae: 0.1167 - val_loss: 0.0115 - val_mae: 0.1162\n",
      "Epoch 30/150\n",
      "33/33 [==============================] - 0s 4ms/step - loss: 0.0105 - mae: 0.1159 - val_loss: 0.0114 - val_mae: 0.1156\n",
      "Epoch 31/150\n",
      "33/33 [==============================] - 0s 4ms/step - loss: 0.0104 - mae: 0.1153 - val_loss: 0.0113 - val_mae: 0.1151\n",
      "Epoch 32/150\n",
      "33/33 [==============================] - 0s 4ms/step - loss: 0.0103 - mae: 0.1146 - val_loss: 0.0112 - val_mae: 0.1145\n",
      "Epoch 33/150\n",
      "33/33 [==============================] - 0s 4ms/step - loss: 0.0103 - mae: 0.1141 - val_loss: 0.0111 - val_mae: 0.1140\n",
      "Epoch 34/150\n",
      "33/33 [==============================] - 0s 4ms/step - loss: 0.0102 - mae: 0.1136 - val_loss: 0.0110 - val_mae: 0.1133\n",
      "Epoch 35/150\n",
      "33/33 [==============================] - 0s 4ms/step - loss: 0.0101 - mae: 0.1129 - val_loss: 0.0109 - val_mae: 0.1128\n",
      "Epoch 36/150\n",
      "33/33 [==============================] - 0s 4ms/step - loss: 0.0100 - mae: 0.1122 - val_loss: 0.0108 - val_mae: 0.1123\n",
      "Epoch 37/150\n",
      "33/33 [==============================] - 0s 4ms/step - loss: 0.0099 - mae: 0.1117 - val_loss: 0.0108 - val_mae: 0.1117\n",
      "Epoch 38/150\n",
      "33/33 [==============================] - 0s 4ms/step - loss: 0.0099 - mae: 0.1112 - val_loss: 0.0107 - val_mae: 0.1111\n",
      "Epoch 39/150\n",
      "33/33 [==============================] - 0s 4ms/step - loss: 0.0098 - mae: 0.1104 - val_loss: 0.0106 - val_mae: 0.1107\n",
      "Epoch 40/150\n",
      "33/33 [==============================] - 0s 4ms/step - loss: 0.0097 - mae: 0.1099 - val_loss: 0.0105 - val_mae: 0.1102\n",
      "Epoch 41/150\n",
      "33/33 [==============================] - 0s 4ms/step - loss: 0.0096 - mae: 0.1094 - val_loss: 0.0105 - val_mae: 0.1096\n",
      "Epoch 42/150\n",
      "33/33 [==============================] - 0s 4ms/step - loss: 0.0096 - mae: 0.1088 - val_loss: 0.0104 - val_mae: 0.1091\n",
      "Epoch 43/150\n",
      "33/33 [==============================] - 0s 4ms/step - loss: 0.0095 - mae: 0.1082 - val_loss: 0.0103 - val_mae: 0.1086\n",
      "Epoch 44/150\n",
      "33/33 [==============================] - 0s 4ms/step - loss: 0.0094 - mae: 0.1078 - val_loss: 0.0102 - val_mae: 0.1081\n",
      "Epoch 45/150\n",
      "33/33 [==============================] - 0s 4ms/step - loss: 0.0094 - mae: 0.1075 - val_loss: 0.0102 - val_mae: 0.1075\n",
      "Epoch 46/150\n",
      "33/33 [==============================] - 0s 4ms/step - loss: 0.0093 - mae: 0.1068 - val_loss: 0.0101 - val_mae: 0.1071\n",
      "Epoch 47/150\n",
      "33/33 [==============================] - 0s 4ms/step - loss: 0.0093 - mae: 0.1062 - val_loss: 0.0100 - val_mae: 0.1066\n",
      "Epoch 48/150\n",
      "33/33 [==============================] - 0s 4ms/step - loss: 0.0092 - mae: 0.1059 - val_loss: 0.0100 - val_mae: 0.1061\n",
      "Epoch 49/150\n",
      "33/33 [==============================] - 0s 4ms/step - loss: 0.0092 - mae: 0.1053 - val_loss: 0.0099 - val_mae: 0.1057\n",
      "Epoch 50/150\n",
      "33/33 [==============================] - 0s 4ms/step - loss: 0.0091 - mae: 0.1049 - val_loss: 0.0098 - val_mae: 0.1052\n",
      "Epoch 51/150\n",
      "33/33 [==============================] - 0s 4ms/step - loss: 0.0091 - mae: 0.1044 - val_loss: 0.0098 - val_mae: 0.1048\n",
      "Epoch 52/150\n",
      "33/33 [==============================] - 0s 4ms/step - loss: 0.0090 - mae: 0.1041 - val_loss: 0.0097 - val_mae: 0.1042\n",
      "Epoch 53/150\n",
      "33/33 [==============================] - 0s 4ms/step - loss: 0.0090 - mae: 0.1034 - val_loss: 0.0097 - val_mae: 0.1039\n",
      "Epoch 54/150\n",
      "33/33 [==============================] - 0s 4ms/step - loss: 0.0089 - mae: 0.1031 - val_loss: 0.0096 - val_mae: 0.1035\n",
      "Epoch 55/150\n",
      "33/33 [==============================] - 0s 4ms/step - loss: 0.0089 - mae: 0.1026 - val_loss: 0.0096 - val_mae: 0.1031\n",
      "Epoch 56/150\n",
      "33/33 [==============================] - 0s 4ms/step - loss: 0.0088 - mae: 0.1023 - val_loss: 0.0095 - val_mae: 0.1026\n",
      "Epoch 57/150\n",
      "33/33 [==============================] - 0s 4ms/step - loss: 0.0088 - mae: 0.1020 - val_loss: 0.0095 - val_mae: 0.1022\n",
      "Epoch 58/150\n",
      "33/33 [==============================] - 0s 4ms/step - loss: 0.0087 - mae: 0.1015 - val_loss: 0.0094 - val_mae: 0.1018\n",
      "Epoch 59/150\n",
      "33/33 [==============================] - 0s 4ms/step - loss: 0.0087 - mae: 0.1012 - val_loss: 0.0094 - val_mae: 0.1015\n",
      "Epoch 60/150\n",
      "33/33 [==============================] - 0s 4ms/step - loss: 0.0087 - mae: 0.1008 - val_loss: 0.0094 - val_mae: 0.1011\n",
      "Epoch 61/150\n",
      "33/33 [==============================] - 0s 4ms/step - loss: 0.0086 - mae: 0.1005 - val_loss: 0.0093 - val_mae: 0.1007\n",
      "Epoch 62/150\n",
      "33/33 [==============================] - 0s 4ms/step - loss: 0.0086 - mae: 0.1000 - val_loss: 0.0092 - val_mae: 0.1004\n",
      "Epoch 63/150\n",
      "33/33 [==============================] - 0s 4ms/step - loss: 0.0086 - mae: 0.0999 - val_loss: 0.0092 - val_mae: 0.1000\n",
      "Epoch 64/150\n",
      "33/33 [==============================] - 0s 4ms/step - loss: 0.0085 - mae: 0.0993 - val_loss: 0.0092 - val_mae: 0.0998\n",
      "Epoch 65/150\n",
      "33/33 [==============================] - 0s 4ms/step - loss: 0.0085 - mae: 0.0991 - val_loss: 0.0091 - val_mae: 0.0994\n",
      "Epoch 66/150\n",
      "33/33 [==============================] - 0s 4ms/step - loss: 0.0085 - mae: 0.0988 - val_loss: 0.0091 - val_mae: 0.0990\n",
      "Epoch 67/150\n",
      "33/33 [==============================] - 0s 4ms/step - loss: 0.0084 - mae: 0.0986 - val_loss: 0.0091 - val_mae: 0.0987\n",
      "Epoch 68/150\n",
      "33/33 [==============================] - 0s 4ms/step - loss: 0.0084 - mae: 0.0982 - val_loss: 0.0090 - val_mae: 0.0984\n",
      "Epoch 69/150\n",
      "33/33 [==============================] - 0s 4ms/step - loss: 0.0084 - mae: 0.0980 - val_loss: 0.0090 - val_mae: 0.0981\n",
      "Epoch 70/150\n",
      "33/33 [==============================] - 0s 4ms/step - loss: 0.0083 - mae: 0.0977 - val_loss: 0.0090 - val_mae: 0.0978\n",
      "Epoch 71/150\n",
      "33/33 [==============================] - 0s 4ms/step - loss: 0.0083 - mae: 0.0974 - val_loss: 0.0089 - val_mae: 0.0976\n",
      "Epoch 72/150\n",
      "33/33 [==============================] - 0s 4ms/step - loss: 0.0083 - mae: 0.0971 - val_loss: 0.0089 - val_mae: 0.0974\n",
      "Epoch 73/150\n",
      "33/33 [==============================] - 0s 4ms/step - loss: 0.0082 - mae: 0.0968 - val_loss: 0.0089 - val_mae: 0.0971\n",
      "Epoch 74/150\n",
      "33/33 [==============================] - 0s 4ms/step - loss: 0.0082 - mae: 0.0965 - val_loss: 0.0088 - val_mae: 0.0967\n",
      "Epoch 75/150\n",
      "33/33 [==============================] - 0s 4ms/step - loss: 0.0082 - mae: 0.0964 - val_loss: 0.0088 - val_mae: 0.0966\n",
      "Epoch 76/150\n",
      "33/33 [==============================] - 0s 4ms/step - loss: 0.0082 - mae: 0.0960 - val_loss: 0.0088 - val_mae: 0.0963\n",
      "Epoch 77/150\n",
      "33/33 [==============================] - 0s 4ms/step - loss: 0.0081 - mae: 0.0959 - val_loss: 0.0087 - val_mae: 0.0960\n",
      "Epoch 78/150\n",
      "33/33 [==============================] - 0s 4ms/step - loss: 0.0081 - mae: 0.0956 - val_loss: 0.0087 - val_mae: 0.0958\n",
      "Epoch 79/150\n",
      "33/33 [==============================] - 0s 4ms/step - loss: 0.0081 - mae: 0.0955 - val_loss: 0.0087 - val_mae: 0.0955\n",
      "Epoch 80/150\n",
      "33/33 [==============================] - 0s 4ms/step - loss: 0.0081 - mae: 0.0952 - val_loss: 0.0086 - val_mae: 0.0953\n",
      "Epoch 81/150\n",
      "33/33 [==============================] - 0s 4ms/step - loss: 0.0080 - mae: 0.0950 - val_loss: 0.0086 - val_mae: 0.0951\n",
      "Epoch 82/150\n",
      "33/33 [==============================] - 0s 4ms/step - loss: 0.0080 - mae: 0.0946 - val_loss: 0.0086 - val_mae: 0.0949\n",
      "Epoch 83/150\n",
      "33/33 [==============================] - 0s 4ms/step - loss: 0.0080 - mae: 0.0947 - val_loss: 0.0086 - val_mae: 0.0947\n",
      "Epoch 84/150\n",
      "33/33 [==============================] - 0s 4ms/step - loss: 0.0080 - mae: 0.0943 - val_loss: 0.0085 - val_mae: 0.0944\n",
      "Epoch 85/150\n",
      "33/33 [==============================] - 0s 4ms/step - loss: 0.0079 - mae: 0.0940 - val_loss: 0.0085 - val_mae: 0.0943\n",
      "Epoch 86/150\n",
      "33/33 [==============================] - 0s 4ms/step - loss: 0.0079 - mae: 0.0939 - val_loss: 0.0085 - val_mae: 0.0941\n",
      "Epoch 87/150\n",
      "33/33 [==============================] - 0s 4ms/step - loss: 0.0079 - mae: 0.0936 - val_loss: 0.0085 - val_mae: 0.0939\n",
      "Epoch 88/150\n",
      "33/33 [==============================] - 0s 4ms/step - loss: 0.0079 - mae: 0.0935 - val_loss: 0.0084 - val_mae: 0.0936\n",
      "Epoch 89/150\n",
      "33/33 [==============================] - 0s 4ms/step - loss: 0.0078 - mae: 0.0933 - val_loss: 0.0084 - val_mae: 0.0934\n",
      "Epoch 90/150\n",
      "33/33 [==============================] - 0s 4ms/step - loss: 0.0078 - mae: 0.0932 - val_loss: 0.0084 - val_mae: 0.0932\n",
      "Epoch 91/150\n",
      "33/33 [==============================] - 0s 4ms/step - loss: 0.0078 - mae: 0.0929 - val_loss: 0.0084 - val_mae: 0.0931\n",
      "Epoch 92/150\n",
      "33/33 [==============================] - 0s 4ms/step - loss: 0.0078 - mae: 0.0927 - val_loss: 0.0083 - val_mae: 0.0929\n",
      "Epoch 93/150\n",
      "33/33 [==============================] - 0s 4ms/step - loss: 0.0078 - mae: 0.0925 - val_loss: 0.0083 - val_mae: 0.0927\n",
      "Epoch 94/150\n",
      "33/33 [==============================] - 0s 4ms/step - loss: 0.0077 - mae: 0.0924 - val_loss: 0.0083 - val_mae: 0.0924\n",
      "Epoch 95/150\n",
      "33/33 [==============================] - 0s 4ms/step - loss: 0.0077 - mae: 0.0922 - val_loss: 0.0082 - val_mae: 0.0923\n",
      "Epoch 96/150\n",
      "33/33 [==============================] - 0s 4ms/step - loss: 0.0077 - mae: 0.0919 - val_loss: 0.0082 - val_mae: 0.0923\n",
      "Epoch 97/150\n",
      "33/33 [==============================] - 0s 4ms/step - loss: 0.0077 - mae: 0.0918 - val_loss: 0.0082 - val_mae: 0.0919\n",
      "Epoch 98/150\n",
      "33/33 [==============================] - 0s 4ms/step - loss: 0.0076 - mae: 0.0916 - val_loss: 0.0082 - val_mae: 0.0918\n",
      "Epoch 99/150\n",
      "33/33 [==============================] - 0s 4ms/step - loss: 0.0076 - mae: 0.0915 - val_loss: 0.0082 - val_mae: 0.0916\n",
      "Epoch 100/150\n",
      "33/33 [==============================] - 0s 4ms/step - loss: 0.0076 - mae: 0.0913 - val_loss: 0.0081 - val_mae: 0.0913\n",
      "Epoch 101/150\n",
      "33/33 [==============================] - 0s 4ms/step - loss: 0.0076 - mae: 0.0912 - val_loss: 0.0081 - val_mae: 0.0913\n",
      "Epoch 102/150\n",
      "33/33 [==============================] - 0s 4ms/step - loss: 0.0076 - mae: 0.0910 - val_loss: 0.0081 - val_mae: 0.0910\n",
      "Epoch 103/150\n",
      "33/33 [==============================] - 0s 4ms/step - loss: 0.0076 - mae: 0.0908 - val_loss: 0.0081 - val_mae: 0.0910\n",
      "Epoch 104/150\n",
      "33/33 [==============================] - 0s 4ms/step - loss: 0.0075 - mae: 0.0906 - val_loss: 0.0080 - val_mae: 0.0908\n",
      "Epoch 105/150\n",
      "33/33 [==============================] - 0s 4ms/step - loss: 0.0075 - mae: 0.0904 - val_loss: 0.0080 - val_mae: 0.0907\n",
      "Epoch 106/150\n",
      "33/33 [==============================] - 0s 4ms/step - loss: 0.0075 - mae: 0.0902 - val_loss: 0.0080 - val_mae: 0.0905\n",
      "Epoch 107/150\n",
      "33/33 [==============================] - 0s 4ms/step - loss: 0.0075 - mae: 0.0901 - val_loss: 0.0080 - val_mae: 0.0904\n",
      "Epoch 108/150\n",
      "33/33 [==============================] - 0s 4ms/step - loss: 0.0075 - mae: 0.0899 - val_loss: 0.0080 - val_mae: 0.0901\n",
      "Epoch 109/150\n",
      "33/33 [==============================] - 0s 4ms/step - loss: 0.0074 - mae: 0.0898 - val_loss: 0.0079 - val_mae: 0.0901\n",
      "Epoch 110/150\n",
      "33/33 [==============================] - 0s 4ms/step - loss: 0.0074 - mae: 0.0896 - val_loss: 0.0079 - val_mae: 0.0900\n",
      "Epoch 111/150\n",
      "33/33 [==============================] - 0s 4ms/step - loss: 0.0074 - mae: 0.0894 - val_loss: 0.0079 - val_mae: 0.0898\n",
      "Epoch 112/150\n",
      "33/33 [==============================] - 0s 4ms/step - loss: 0.0074 - mae: 0.0893 - val_loss: 0.0079 - val_mae: 0.0895\n",
      "Epoch 113/150\n",
      "33/33 [==============================] - 0s 4ms/step - loss: 0.0074 - mae: 0.0892 - val_loss: 0.0079 - val_mae: 0.0894\n",
      "Epoch 114/150\n",
      "33/33 [==============================] - 0s 4ms/step - loss: 0.0073 - mae: 0.0890 - val_loss: 0.0079 - val_mae: 0.0894\n",
      "Epoch 115/150\n",
      "33/33 [==============================] - 0s 4ms/step - loss: 0.0073 - mae: 0.0888 - val_loss: 0.0078 - val_mae: 0.0891\n",
      "Epoch 116/150\n",
      "33/33 [==============================] - 0s 4ms/step - loss: 0.0073 - mae: 0.0887 - val_loss: 0.0078 - val_mae: 0.0890\n",
      "Epoch 117/150\n",
      "33/33 [==============================] - 0s 4ms/step - loss: 0.0073 - mae: 0.0885 - val_loss: 0.0078 - val_mae: 0.0889\n",
      "Epoch 118/150\n",
      "33/33 [==============================] - 0s 4ms/step - loss: 0.0073 - mae: 0.0884 - val_loss: 0.0078 - val_mae: 0.0887\n",
      "Epoch 119/150\n",
      "33/33 [==============================] - 0s 4ms/step - loss: 0.0072 - mae: 0.0882 - val_loss: 0.0078 - val_mae: 0.0887\n",
      "Epoch 120/150\n",
      "33/33 [==============================] - 0s 4ms/step - loss: 0.0072 - mae: 0.0881 - val_loss: 0.0077 - val_mae: 0.0884\n",
      "Epoch 121/150\n",
      "33/33 [==============================] - 0s 4ms/step - loss: 0.0072 - mae: 0.0880 - val_loss: 0.0077 - val_mae: 0.0883\n",
      "Epoch 122/150\n",
      "33/33 [==============================] - 0s 4ms/step - loss: 0.0072 - mae: 0.0877 - val_loss: 0.0077 - val_mae: 0.0883\n",
      "Epoch 123/150\n",
      "33/33 [==============================] - 0s 4ms/step - loss: 0.0072 - mae: 0.0877 - val_loss: 0.0077 - val_mae: 0.0881\n",
      "Epoch 124/150\n",
      "33/33 [==============================] - 0s 4ms/step - loss: 0.0072 - mae: 0.0874 - val_loss: 0.0076 - val_mae: 0.0879\n",
      "Epoch 125/150\n",
      "33/33 [==============================] - 0s 4ms/step - loss: 0.0071 - mae: 0.0874 - val_loss: 0.0076 - val_mae: 0.0877\n",
      "Epoch 126/150\n",
      "33/33 [==============================] - 0s 4ms/step - loss: 0.0071 - mae: 0.0872 - val_loss: 0.0076 - val_mae: 0.0877\n",
      "Epoch 127/150\n",
      "33/33 [==============================] - 0s 4ms/step - loss: 0.0071 - mae: 0.0870 - val_loss: 0.0076 - val_mae: 0.0877\n",
      "Epoch 128/150\n",
      "33/33 [==============================] - 0s 4ms/step - loss: 0.0071 - mae: 0.0869 - val_loss: 0.0076 - val_mae: 0.0874\n",
      "Epoch 129/150\n",
      "33/33 [==============================] - 0s 4ms/step - loss: 0.0071 - mae: 0.0867 - val_loss: 0.0076 - val_mae: 0.0873\n",
      "Epoch 130/150\n",
      "33/33 [==============================] - 0s 4ms/step - loss: 0.0071 - mae: 0.0866 - val_loss: 0.0075 - val_mae: 0.0871\n",
      "Epoch 131/150\n",
      "33/33 [==============================] - 0s 4ms/step - loss: 0.0070 - mae: 0.0866 - val_loss: 0.0075 - val_mae: 0.0870\n",
      "Epoch 132/150\n",
      "33/33 [==============================] - 0s 4ms/step - loss: 0.0070 - mae: 0.0862 - val_loss: 0.0075 - val_mae: 0.0870\n",
      "Epoch 133/150\n",
      "33/33 [==============================] - 0s 4ms/step - loss: 0.0070 - mae: 0.0862 - val_loss: 0.0075 - val_mae: 0.0869\n",
      "Epoch 134/150\n",
      "33/33 [==============================] - 0s 4ms/step - loss: 0.0070 - mae: 0.0860 - val_loss: 0.0075 - val_mae: 0.0867\n",
      "Epoch 135/150\n",
      "33/33 [==============================] - 0s 4ms/step - loss: 0.0070 - mae: 0.0860 - val_loss: 0.0074 - val_mae: 0.0864\n",
      "Epoch 136/150\n",
      "33/33 [==============================] - 0s 4ms/step - loss: 0.0070 - mae: 0.0857 - val_loss: 0.0075 - val_mae: 0.0865\n",
      "Epoch 137/150\n",
      "33/33 [==============================] - 0s 4ms/step - loss: 0.0069 - mae: 0.0856 - val_loss: 0.0074 - val_mae: 0.0864\n",
      "Epoch 138/150\n",
      "33/33 [==============================] - 0s 4ms/step - loss: 0.0069 - mae: 0.0854 - val_loss: 0.0074 - val_mae: 0.0863\n",
      "Epoch 139/150\n",
      "33/33 [==============================] - 0s 4ms/step - loss: 0.0069 - mae: 0.0853 - val_loss: 0.0074 - val_mae: 0.0859\n",
      "Epoch 140/150\n",
      "33/33 [==============================] - 0s 4ms/step - loss: 0.0069 - mae: 0.0853 - val_loss: 0.0074 - val_mae: 0.0859\n",
      "Epoch 141/150\n",
      "33/33 [==============================] - 0s 4ms/step - loss: 0.0069 - mae: 0.0851 - val_loss: 0.0073 - val_mae: 0.0857\n",
      "Epoch 142/150\n",
      "33/33 [==============================] - 0s 4ms/step - loss: 0.0069 - mae: 0.0849 - val_loss: 0.0073 - val_mae: 0.0857\n",
      "Epoch 143/150\n",
      "33/33 [==============================] - 0s 4ms/step - loss: 0.0068 - mae: 0.0848 - val_loss: 0.0073 - val_mae: 0.0855\n",
      "Epoch 144/150\n",
      "33/33 [==============================] - 0s 4ms/step - loss: 0.0068 - mae: 0.0847 - val_loss: 0.0073 - val_mae: 0.0854\n",
      "Epoch 145/150\n",
      "33/33 [==============================] - 0s 4ms/step - loss: 0.0068 - mae: 0.0846 - val_loss: 0.0073 - val_mae: 0.0853\n",
      "Epoch 146/150\n",
      "33/33 [==============================] - 0s 4ms/step - loss: 0.0068 - mae: 0.0844 - val_loss: 0.0073 - val_mae: 0.0853\n",
      "Epoch 147/150\n",
      "33/33 [==============================] - 0s 4ms/step - loss: 0.0068 - mae: 0.0842 - val_loss: 0.0072 - val_mae: 0.0850\n",
      "Epoch 148/150\n",
      "33/33 [==============================] - 0s 4ms/step - loss: 0.0068 - mae: 0.0841 - val_loss: 0.0072 - val_mae: 0.0851\n",
      "Epoch 149/150\n",
      "33/33 [==============================] - 0s 4ms/step - loss: 0.0067 - mae: 0.0839 - val_loss: 0.0072 - val_mae: 0.0849\n",
      "Epoch 150/150\n",
      "33/33 [==============================] - 0s 4ms/step - loss: 0.0067 - mae: 0.0838 - val_loss: 0.0072 - val_mae: 0.0848\n"
     ]
    }
   ],
   "source": [
    "history = model.fit(\n",
    "    seq2seq_train, \n",
    "    validation_data=seq2seq_valid, \n",
    "    epochs=150,\n",
    "    callbacks=[early_stopping_cb])"
   ]
  },
  {
   "cell_type": "code",
   "execution_count": 16,
   "id": "66a8dd90-ea05-4f56-926b-93b48abfbce5",
   "metadata": {},
   "outputs": [
    {
     "name": "stdout",
     "output_type": "stream",
     "text": [
      "37/37 [==============================] - 0s 4ms/step - loss: 0.0451 - mae: 0.2583\n"
     ]
    },
    {
     "data": {
      "text/plain": [
       "[0.04511779546737671, 0.2582501173019409]"
      ]
     },
     "execution_count": 16,
     "metadata": {},
     "output_type": "execute_result"
    }
   ],
   "source": [
    "evals = model.evaluate(seq2seq_test)\n",
    "evals"
   ]
  },
  {
   "cell_type": "markdown",
   "id": "89bacfb8-a471-4f14-b118-75ae53255c13",
   "metadata": {
    "jp-MarkdownHeadingCollapsed": true,
    "tags": []
   },
   "source": [
    "## ModelCheckpoint, Logging, and Early Stopping on accuracy difference"
   ]
  },
  {
   "cell_type": "code",
   "execution_count": 20,
   "id": "14829b5c-3e7f-4fe4-906f-8b74e9b311f0",
   "metadata": {},
   "outputs": [],
   "source": [
    "X_train, y_train, X_valid, y_valid, X_test, y_test = handson.cifar_10()"
   ]
  },
  {
   "cell_type": "code",
   "execution_count": 51,
   "id": "025a867b-dfbc-40a1-92af-aef6d026a699",
   "metadata": {},
   "outputs": [],
   "source": [
    "# CNN model that will yield 10 CNN features at the last layer\n",
    "model = keras.Sequential([\n",
    "    keras.layers.Conv2D(filters=64, kernel_size=3, input_shape=[32, 32, 3]),\n",
    "    keras.layers.Activation('elu'),\n",
    "    keras.layers.MaxPooling2D(pool_size=(2, 2)),\n",
    "    keras.layers.Conv2D(filters=128, kernel_size=4, activation='selu'),\n",
    "    keras.layers.MaxPooling2D(pool_size=(2, 2)),\n",
    "    tf.keras.layers.Flatten(), # changes the shape from (None, 1, 1, 64) to 64\n",
    "    keras.layers.Dense(units=128, activation=\"relu\"),\n",
    "    keras.layers.Dense(units=10, activation=\"softmax\") \n",
    "])\n",
    "\n",
    "optimizer = keras.optimizers.Adam(clipvalue=0.5, learning_rate=0.001)\n",
    "\n",
    "# categorical_crossentropy if the output is one-hot encoding\n",
    "# sparse_categorical_crossentropy if the output is integer\n",
    "model.compile(\n",
    "    loss=\"categorical_crossentropy\", \n",
    "    optimizer=optimizer,\n",
    "    metrics=['accuracy'])"
   ]
  },
  {
   "cell_type": "code",
   "execution_count": 65,
   "id": "eb432ee9-0c8f-46c2-85f7-0e6aa1f06fae",
   "metadata": {},
   "outputs": [],
   "source": [
    "# callback function for CSV log file\n",
    "\n",
    "hours = 14 # hours to delay timestamp for log info (remote system might have different time)\n",
    "timestamp = (datetime.datetime.now() + datetime.timedelta(hours=hours))\n",
    "timestamp = timestamp.strftime('%Y-%m-%d~%I:%M:%S%p')\n",
    "\n",
    "# create log file directory path and file name\n",
    "log_dir = Path('./models.CSV.log')\n",
    "log_dir.mkdir()\n",
    "file_name = 'LOG.'+timestamp+'.csv'\n",
    "\n",
    "# save log file of training output\n",
    "csv_logger = keras.callbacks.CSVLogger(log_dir / file_name)"
   ]
  },
  {
   "cell_type": "code",
   "execution_count": 53,
   "id": "6bc13183-f1e1-4445-9dfa-32970b219e0d",
   "metadata": {},
   "outputs": [],
   "source": [
    "# save the model whenever there is an improvement in accuracy over the previous best accuracy\n",
    "checkpoint_callback = keras.callbacks.ModelCheckpoint(\n",
    "    filepath='./cifar_10_model.hdf5',\n",
    "    monitor=\"val_accuracy\", # it could be any other monitoring metrics. Make sure put val_\n",
    "    save_best_only=True,\n",
    "    save_weights_only=False, # it should be false. See below comments\n",
    "    verbose=1 # 0, 1, or 2. It just specifies how much information is output during training\n",
    ")\n",
    "\n",
    "# save_weights_only=False saves the entire architecture of the neural network, including \n",
    "# the model's layers, their configuration, the optimizer used during training, and the weights \n",
    "# learned during training. save_weights_only=True saves only the learned weights of the model, \n",
    "# without any information about the model's architecture or the optimizer used during training."
   ]
  },
  {
   "cell_type": "code",
   "execution_count": 54,
   "id": "44c4e07f-cf25-4931-924f-84488162d8a0",
   "metadata": {},
   "outputs": [],
   "source": [
    "# stops training when training accuracy is greater than validation accuracy by 0.1\n",
    "class StopOnAccuracyDiff(keras.callbacks.Callback):\n",
    "    def __init__(self, threshold=0.1):\n",
    "        super(StopOnAccuracyDiff, self).__init__()\n",
    "        self.threshold = threshold\n",
    "    \n",
    "    def on_epoch_end(self, epoch, logs=None):\n",
    "        if logs is None:\n",
    "            logs = {}\n",
    "        train_acc = logs.get('accuracy')\n",
    "        val_acc = logs.get('val_accuracy')\n",
    "        if train_acc is not None and val_acc is not None:\n",
    "            acc_diff = abs(train_acc - val_acc)\n",
    "            if acc_diff > self.threshold:\n",
    "                print(f'Training stopped because of accuracy difference ({acc_diff:.3f})')\n",
    "                self.model.stop_training = True\n",
    "\n",
    "early_stopping_cb = StopOnAccuracyDiff(threshold=0.1)"
   ]
  },
  {
   "cell_type": "code",
   "execution_count": 66,
   "id": "588057ec-b8e7-42c8-baf0-09be5c6d755f",
   "metadata": {
    "tags": []
   },
   "outputs": [
    {
     "name": "stdout",
     "output_type": "stream",
     "text": [
      "Epoch 1/150\n",
      "1557/1563 [============================>.] - ETA: 0s - loss: 0.8264 - accuracy: 0.7154\n",
      "Epoch 1: val_accuracy improved from 0.66560 to 0.67220, saving model to ./cifar_10_model.hdf5\n",
      "1563/1563 [==============================] - 4s 3ms/step - loss: 0.8262 - accuracy: 0.7155 - val_loss: 0.9706 - val_accuracy: 0.6722\n",
      "Epoch 2/150\n",
      "1545/1563 [============================>.] - ETA: 0s - loss: 0.6916 - accuracy: 0.7594\n",
      "Epoch 2: val_accuracy improved from 0.67220 to 0.69120, saving model to ./cifar_10_model.hdf5\n",
      "1563/1563 [==============================] - 4s 3ms/step - loss: 0.6913 - accuracy: 0.7594 - val_loss: 1.0048 - val_accuracy: 0.6912\n",
      "Epoch 3/150\n",
      "1545/1563 [============================>.] - ETA: 0s - loss: 0.5620 - accuracy: 0.8043\n",
      "Epoch 3: val_accuracy did not improve from 0.69120\n",
      "Training stopped because of accuracy difference (0.119)\n",
      "1563/1563 [==============================] - 4s 3ms/step - loss: 0.5622 - accuracy: 0.8043 - val_loss: 1.0752 - val_accuracy: 0.6856\n"
     ]
    }
   ],
   "source": [
    "history = model.fit(\n",
    "    x = X_train, \n",
    "    y = y_train, \n",
    "    epochs=150,\n",
    "    validation_data=(X_valid, y_valid),\n",
    "    batch_size=32,\n",
    "    callbacks=[\n",
    "        checkpoint_callback, \n",
    "        csv_logger,\n",
    "        early_stopping_cb] # called after every epoch\n",
    ")"
   ]
  },
  {
   "cell_type": "code",
   "execution_count": 67,
   "id": "a9d4c75c-f51c-4337-919a-332900b95f97",
   "metadata": {},
   "outputs": [
    {
     "name": "stdout",
     "output_type": "stream",
     "text": [
      "157/157 [==============================] - 0s 1ms/step\n",
      "157/157 [==============================] - 0s 2ms/step - loss: 1.0246 - accuracy: 0.6784\n"
     ]
    },
    {
     "data": {
      "text/plain": [
       "[1.0245752334594727, 0.6783999800682068]"
      ]
     },
     "execution_count": 67,
     "metadata": {},
     "output_type": "execute_result"
    }
   ],
   "source": [
    "loaded_model = keras.models.load_model('cifar_10_model.hdf5')\n",
    "predictions = loaded_model.predict(X_test)\n",
    "acc_test = loaded_model.evaluate(X_test, y_test)\n",
    "acc_test # not as impressive as training accuracy"
   ]
  },
  {
   "cell_type": "markdown",
   "id": "22a3a779-a58d-43b4-bbd0-be7b9d14b138",
   "metadata": {
    "jp-MarkdownHeadingCollapsed": true,
    "tags": []
   },
   "source": [
    "## tensorboard"
   ]
  },
  {
   "cell_type": "code",
   "execution_count": 9,
   "id": "dcaba1b3-dd88-4817-a146-99b334076a5c",
   "metadata": {},
   "outputs": [],
   "source": [
    "from tensorflow.python.eager import profiler"
   ]
  },
  {
   "cell_type": "code",
   "execution_count": 10,
   "id": "fc663c30-54d8-45c4-a590-019ce9555c1f",
   "metadata": {},
   "outputs": [],
   "source": [
    "X_train, y_train, X_valid, y_valid, X_test, y_test = mods.cifar_10()"
   ]
  },
  {
   "cell_type": "code",
   "execution_count": 17,
   "id": "bc4bb57b-49c7-4d29-9f23-eb4bd11862c8",
   "metadata": {},
   "outputs": [],
   "source": [
    "tf.profiler.experimental.start(logdir='profiler.log')"
   ]
  },
  {
   "cell_type": "code",
   "execution_count": 18,
   "id": "067b2774-ebd8-451b-9abe-17d3be4746d3",
   "metadata": {},
   "outputs": [],
   "source": [
    "# CNN model that will yield 10 CNN features at the last layer\n",
    "model = keras.Sequential([\n",
    "    keras.layers.Conv2D(filters=64, kernel_size=3, input_shape=[32, 32, 3]),\n",
    "    keras.layers.Activation('elu'),\n",
    "    keras.layers.MaxPooling2D(pool_size=(2, 2)),\n",
    "    keras.layers.Conv2D(filters=128, kernel_size=4, activation='selu'),\n",
    "    keras.layers.MaxPooling2D(pool_size=(2, 2)),\n",
    "    tf.keras.layers.Flatten(), # changes the shape from (None, 1, 1, 64) to 64\n",
    "    keras.layers.Dense(units=128, activation=\"relu\"),\n",
    "    keras.layers.Dense(units=10, activation=\"softmax\") \n",
    "])\n",
    "\n",
    "early_stopping_cb = tf.keras.callbacks.EarlyStopping(\n",
    "    monitor=\"val_accuracy\",\n",
    "    patience=10, \n",
    "    restore_best_weights=True)\n",
    "\n",
    "optimizer = keras.optimizers.Adam(clipvalue=0.5, learning_rate=0.001)\n",
    "\n",
    "# categorical_crossentropy if the output is one-hot encoding\n",
    "# sparse_categorical_crossentropy if the output is integer\n",
    "model.compile(\n",
    "    loss=\"categorical_crossentropy\", \n",
    "    optimizer=optimizer,\n",
    "    metrics=['accuracy'])"
   ]
  },
  {
   "cell_type": "code",
   "execution_count": 19,
   "id": "eaf86ff7-5250-4a25-aa3a-82ae417da715",
   "metadata": {},
   "outputs": [],
   "source": [
    "# create directories in which to save logs\n",
    "\n",
    "hours = 14 # hours to delay timestamp for log info (remote system might have different time)\n",
    "timestamp = (datetime.datetime.now() + datetime.timedelta(hours=hours))\n",
    "timestamp = timestamp.strftime('%Y-%m-%d~%I:%M:%S%p')\n",
    "\n",
    "# create directory\n",
    "parent_dir = Path('./models.tensorboard.log')\n",
    "sub_dir = parent_dir / timestamp\n",
    "sub_dir.mkdir(parents=True, exist_ok=True)"
   ]
  },
  {
   "cell_type": "code",
   "execution_count": 20,
   "id": "f2fa530b-436f-4d0c-96ec-ae13fead93b0",
   "metadata": {},
   "outputs": [],
   "source": [
    "# create a TensorBoard callback\n",
    "tensorboard_callback = tf.keras.callbacks.TensorBoard(log_dir=str(sub_dir), histogram_freq=1)"
   ]
  },
  {
   "cell_type": "code",
   "execution_count": 21,
   "id": "d19dbcc0-0cde-44d8-8777-15a7bb63fb18",
   "metadata": {
    "collapsed": true,
    "jupyter": {
     "outputs_hidden": true
    },
    "tags": []
   },
   "outputs": [
    {
     "name": "stdout",
     "output_type": "stream",
     "text": [
      "Epoch 1/100\n",
      "1563/1563 [==============================] - 10s 4ms/step - loss: 1.3406 - accuracy: 0.5282 - val_loss: 1.0838 - val_accuracy: 0.6254\n",
      "Epoch 2/100\n",
      "1563/1563 [==============================] - 5s 3ms/step - loss: 0.9814 - accuracy: 0.6610 - val_loss: 0.9691 - val_accuracy: 0.6696\n",
      "Epoch 3/100\n",
      "1563/1563 [==============================] - 5s 3ms/step - loss: 0.8255 - accuracy: 0.7139 - val_loss: 0.9792 - val_accuracy: 0.6788\n",
      "Epoch 4/100\n",
      "1563/1563 [==============================] - 5s 3ms/step - loss: 0.6770 - accuracy: 0.7655 - val_loss: 1.0280 - val_accuracy: 0.6768\n",
      "Epoch 5/100\n",
      "1563/1563 [==============================] - 5s 3ms/step - loss: 0.5449 - accuracy: 0.8111 - val_loss: 1.0733 - val_accuracy: 0.6808\n",
      "Epoch 6/100\n",
      "1563/1563 [==============================] - 6s 4ms/step - loss: 0.4255 - accuracy: 0.8516 - val_loss: 1.2229 - val_accuracy: 0.6690\n",
      "Epoch 7/100\n",
      "1563/1563 [==============================] - 5s 3ms/step - loss: 0.3386 - accuracy: 0.8818 - val_loss: 1.3908 - val_accuracy: 0.6758\n",
      "Epoch 8/100\n",
      "1563/1563 [==============================] - 6s 4ms/step - loss: 0.2749 - accuracy: 0.9030 - val_loss: 1.5739 - val_accuracy: 0.6772\n",
      "Epoch 9/100\n",
      "1563/1563 [==============================] - 5s 3ms/step - loss: 0.2322 - accuracy: 0.9197 - val_loss: 1.8920 - val_accuracy: 0.6612\n",
      "Epoch 10/100\n",
      "1563/1563 [==============================] - 5s 3ms/step - loss: 0.1982 - accuracy: 0.9326 - val_loss: 1.9243 - val_accuracy: 0.6660\n",
      "Epoch 11/100\n",
      "1563/1563 [==============================] - 5s 3ms/step - loss: 0.1799 - accuracy: 0.9398 - val_loss: 2.1036 - val_accuracy: 0.6676\n",
      "Epoch 12/100\n",
      "1563/1563 [==============================] - 5s 3ms/step - loss: 0.1615 - accuracy: 0.9467 - val_loss: 2.3060 - val_accuracy: 0.6624\n",
      "Epoch 13/100\n",
      "1563/1563 [==============================] - 5s 3ms/step - loss: 0.1681 - accuracy: 0.9456 - val_loss: 2.4544 - val_accuracy: 0.6656\n",
      "Epoch 14/100\n",
      "1563/1563 [==============================] - 5s 3ms/step - loss: 0.1541 - accuracy: 0.9508 - val_loss: 2.4042 - val_accuracy: 0.6586\n",
      "Epoch 15/100\n",
      "1563/1563 [==============================] - 5s 3ms/step - loss: 0.1483 - accuracy: 0.9535 - val_loss: 2.7331 - val_accuracy: 0.6572\n"
     ]
    }
   ],
   "source": [
    "history = model.fit(\n",
    "    x = X_train, \n",
    "    y = y_train, \n",
    "    epochs=100,\n",
    "    validation_data=(X_valid, y_valid),\n",
    "    batch_size=32,\n",
    "    callbacks=[early_stopping_cb, tensorboard_callback] # called after every epoch\n",
    ")"
   ]
  },
  {
   "cell_type": "code",
   "execution_count": null,
   "id": "11007f6f-9913-4dc2-8119-fde5a617c4e0",
   "metadata": {},
   "outputs": [],
   "source": [
    "tf.profiler.experimental.stop()"
   ]
  },
  {
   "cell_type": "code",
   "execution_count": 16,
   "id": "f161d985-11e7-4c4f-bfc2-af7436c13f2b",
   "metadata": {},
   "outputs": [
    {
     "data": {
      "text/plain": [
       "(TensorSpec(shape=(None, 28, 28, 1), dtype=tf.float32, name=None),\n",
       " TensorSpec(shape=(None,), dtype=tf.int64, name=None))"
      ]
     },
     "execution_count": 16,
     "metadata": {},
     "output_type": "execute_result"
    }
   ],
   "source": [
    "ds_train.element_spec"
   ]
  },
  {
   "cell_type": "code",
   "execution_count": null,
   "id": "00dc130d-2f28-4f57-b320-92d00310a7d7",
   "metadata": {},
   "outputs": [],
   "source": []
  },
  {
   "cell_type": "code",
   "execution_count": null,
   "id": "01a10b24-fb45-4e12-b99b-a5baa40fffd6",
   "metadata": {},
   "outputs": [],
   "source": []
  },
  {
   "cell_type": "markdown",
   "id": "41985182-48b2-4188-8ec3-f70922c256a3",
   "metadata": {
    "jp-MarkdownHeadingCollapsed": true,
    "tags": []
   },
   "source": [
    "## Data Generator"
   ]
  },
  {
   "cell_type": "code",
   "execution_count": 50,
   "id": "20cc54f3-4f5f-43d0-8b54-d58047800fdc",
   "metadata": {},
   "outputs": [],
   "source": [
    "# data generator and its implementation in tf.data.Dataset\n",
    "def data_generator(size, std):\n",
    "    t = np.linspace(-2*np.pi, 2*np.pi, size)\n",
    "    \n",
    "    while True:\n",
    "        A, B, C = np.random.uniform(0.5, 2*np.pi, size=3)\n",
    "        y = A*np.sin(B*t + C)\n",
    "        x = y + np.random.normal(0, std, size)\n",
    "        yield x, y"
   ]
  },
  {
   "cell_type": "code",
   "execution_count": 51,
   "id": "975b6aeb-e112-4dd1-91e5-dc3a91e817d7",
   "metadata": {
    "tags": []
   },
   "outputs": [
    {
     "data": {
      "text/plain": [
       "(<tf.Tensor: shape=(), dtype=int32, numpy=254>,\n",
       " <tf.Tensor: shape=(), dtype=float32, numpy=0.5>)"
      ]
     },
     "execution_count": 51,
     "metadata": {},
     "output_type": "execute_result"
    }
   ],
   "source": [
    "# data generator arguments as tf.Tensors that are fed into tf.data.Dataset.from_generator\n",
    "size = 254\n",
    "batch_size = 32\n",
    "std = 0.5\n",
    "args = [size, std]\n",
    "args = tuple(tf.constant(x) for x in args)\n",
    "args"
   ]
  },
  {
   "cell_type": "code",
   "execution_count": 53,
   "id": "32d23d5e-c949-4836-955f-6f0caacdb5d1",
   "metadata": {
    "tags": []
   },
   "outputs": [],
   "source": [
    "# dataset from generator\n",
    "dataset = tf.data.Dataset.from_generator(\n",
    "    data_generator,\n",
    "    args=args,\n",
    "    output_signature=(\n",
    "        tf.TensorSpec(shape=(size,), dtype=tf.float32),\n",
    "        tf.TensorSpec(shape=(size,), dtype=tf.float32)))\n",
    "\n",
    "dataset = dataset.batch(batch_size).prefetch(tf.data.AUTOTUNE)\n",
    "\n",
    "validation_dataset = tf.data.Dataset.from_generator(\n",
    "    data_generator,\n",
    "    args=args,\n",
    "    output_signature=(\n",
    "        tf.TensorSpec(shape=(size,), dtype=tf.float32),\n",
    "        tf.TensorSpec(shape=(size,), dtype=tf.float32)))\n",
    "\n",
    "validation_dataset = validation_dataset.batch(batch_size).prefetch(tf.data.AUTOTUNE)"
   ]
  },
  {
   "cell_type": "code",
   "execution_count": 21,
   "id": "c8c11964-cd7a-40ce-9e1c-d4ee90c14dc5",
   "metadata": {
    "tags": []
   },
   "outputs": [],
   "source": [
    "model = keras.models.Sequential([\n",
    "    keras.layers.Dense(\n",
    "        64, \n",
    "        activation=\"selu\", \n",
    "        name='hidden_layer_1', \n",
    "        input_shape=(size, )),\n",
    "    keras.layers.Dense(64, activation=\"selu\", name='hidden_layer_2'),\n",
    "    keras.layers.Dense(size, name='output_layer', activation=\"linear\")],\n",
    "    name='sequential_model')"
   ]
  },
  {
   "cell_type": "code",
   "execution_count": 22,
   "id": "6e11c5fa-4ab6-46ae-ae54-21b42eb29354",
   "metadata": {
    "tags": []
   },
   "outputs": [],
   "source": [
    "early_stopping_cb = tf.keras.callbacks.EarlyStopping(\n",
    "    monitor=\"mae\",\n",
    "    patience=30, \n",
    "    restore_best_weights=True)\n",
    "\n",
    "opt = tf.keras.optimizers.SGD(learning_rate=0.02, momentum=0.9)"
   ]
  },
  {
   "cell_type": "code",
   "execution_count": 23,
   "id": "25ddd7f6-ae06-4e07-8fa5-c550ac55ef7e",
   "metadata": {
    "tags": []
   },
   "outputs": [],
   "source": [
    "model.compile(loss=tf.keras.losses.Huber(), optimizer=opt, metrics=[\"mae\"])"
   ]
  },
  {
   "cell_type": "code",
   "execution_count": 24,
   "id": "16c4ab70-7b6d-4a98-be11-4954394cf6f1",
   "metadata": {
    "scrolled": true
   },
   "outputs": [
    {
     "name": "stdout",
     "output_type": "stream",
     "text": [
      "Epoch 1/100\n",
      "512/512 [==============================] - 3s 4ms/step - loss: 0.7930 - mae: 1.1683 - val_loss: 0.2067 - val_mae: 0.5079\n",
      "Epoch 2/100\n",
      "512/512 [==============================] - 2s 3ms/step - loss: 0.1520 - mae: 0.4302 - val_loss: 0.1163 - val_mae: 0.3771\n",
      "Epoch 3/100\n",
      "512/512 [==============================] - 2s 3ms/step - loss: 0.1002 - mae: 0.3502 - val_loss: 0.0893 - val_mae: 0.3302\n",
      "Epoch 4/100\n",
      "512/512 [==============================] - 2s 3ms/step - loss: 0.0837 - mae: 0.3194 - val_loss: 0.0773 - val_mae: 0.3073\n",
      "Epoch 5/100\n",
      "512/512 [==============================] - 2s 3ms/step - loss: 0.0741 - mae: 0.3003 - val_loss: 0.0707 - val_mae: 0.2930\n",
      "Epoch 6/100\n",
      "512/512 [==============================] - 2s 4ms/step - loss: 0.0686 - mae: 0.2884 - val_loss: 0.0666 - val_mae: 0.2845\n",
      "Epoch 7/100\n",
      "512/512 [==============================] - 2s 4ms/step - loss: 0.0639 - mae: 0.2781 - val_loss: 0.0646 - val_mae: 0.2784\n",
      "Epoch 8/100\n",
      "512/512 [==============================] - 2s 3ms/step - loss: 0.0606 - mae: 0.2703 - val_loss: 0.0605 - val_mae: 0.2690\n",
      "Epoch 9/100\n",
      "512/512 [==============================] - 2s 3ms/step - loss: 0.0576 - mae: 0.2633 - val_loss: 0.0567 - val_mae: 0.2612\n",
      "Epoch 10/100\n",
      "512/512 [==============================] - 2s 3ms/step - loss: 0.0551 - mae: 0.2575 - val_loss: 0.0529 - val_mae: 0.2516\n",
      "Epoch 11/100\n",
      "512/512 [==============================] - 2s 3ms/step - loss: 0.0535 - mae: 0.2533 - val_loss: 0.0521 - val_mae: 0.2504\n",
      "Epoch 12/100\n",
      "512/512 [==============================] - 2s 3ms/step - loss: 0.0511 - mae: 0.2479 - val_loss: 0.0499 - val_mae: 0.2445\n",
      "Epoch 13/100\n",
      "512/512 [==============================] - 2s 3ms/step - loss: 0.0498 - mae: 0.2448 - val_loss: 0.0494 - val_mae: 0.2442\n",
      "Epoch 14/100\n",
      "512/512 [==============================] - 2s 3ms/step - loss: 0.0479 - mae: 0.2400 - val_loss: 0.0471 - val_mae: 0.2390\n",
      "Epoch 15/100\n",
      "512/512 [==============================] - 2s 3ms/step - loss: 0.0467 - mae: 0.2374 - val_loss: 0.0458 - val_mae: 0.2352\n",
      "Epoch 16/100\n",
      "512/512 [==============================] - 2s 3ms/step - loss: 0.0452 - mae: 0.2335 - val_loss: 0.0448 - val_mae: 0.2333\n",
      "Epoch 17/100\n",
      "512/512 [==============================] - 2s 3ms/step - loss: 0.0441 - mae: 0.2312 - val_loss: 0.0442 - val_mae: 0.2307\n",
      "Epoch 18/100\n",
      "512/512 [==============================] - 2s 3ms/step - loss: 0.0428 - mae: 0.2278 - val_loss: 0.0416 - val_mae: 0.2247\n",
      "Epoch 19/100\n",
      "512/512 [==============================] - 2s 3ms/step - loss: 0.0419 - mae: 0.2254 - val_loss: 0.0408 - val_mae: 0.2228\n",
      "Epoch 20/100\n",
      "512/512 [==============================] - 2s 3ms/step - loss: 0.0411 - mae: 0.2231 - val_loss: 0.0405 - val_mae: 0.2219\n",
      "Epoch 21/100\n",
      "512/512 [==============================] - 2s 3ms/step - loss: 0.0405 - mae: 0.2216 - val_loss: 0.0405 - val_mae: 0.2210\n",
      "Epoch 22/100\n",
      "512/512 [==============================] - 2s 3ms/step - loss: 0.0393 - mae: 0.2183 - val_loss: 0.0386 - val_mae: 0.2164\n",
      "Epoch 23/100\n",
      "512/512 [==============================] - 2s 3ms/step - loss: 0.0390 - mae: 0.2175 - val_loss: 0.0380 - val_mae: 0.2148\n",
      "Epoch 24/100\n",
      "512/512 [==============================] - 2s 3ms/step - loss: 0.0383 - mae: 0.2156 - val_loss: 0.0378 - val_mae: 0.2142\n",
      "Epoch 25/100\n",
      "512/512 [==============================] - 2s 3ms/step - loss: 0.0374 - mae: 0.2132 - val_loss: 0.0382 - val_mae: 0.2154\n",
      "Epoch 26/100\n",
      "512/512 [==============================] - 2s 3ms/step - loss: 0.0372 - mae: 0.2124 - val_loss: 0.0374 - val_mae: 0.2131\n",
      "Epoch 27/100\n",
      "512/512 [==============================] - 2s 3ms/step - loss: 0.0366 - mae: 0.2109 - val_loss: 0.0361 - val_mae: 0.2096\n",
      "Epoch 28/100\n",
      "512/512 [==============================] - 2s 3ms/step - loss: 0.0360 - mae: 0.2092 - val_loss: 0.0349 - val_mae: 0.2059\n",
      "Epoch 29/100\n",
      "512/512 [==============================] - 2s 3ms/step - loss: 0.0361 - mae: 0.2092 - val_loss: 0.0351 - val_mae: 0.2065\n",
      "Epoch 30/100\n",
      "512/512 [==============================] - 2s 3ms/step - loss: 0.0354 - mae: 0.2073 - val_loss: 0.0351 - val_mae: 0.2067\n",
      "Epoch 31/100\n",
      "512/512 [==============================] - 2s 3ms/step - loss: 0.0348 - mae: 0.2054 - val_loss: 0.0345 - val_mae: 0.2049\n",
      "Epoch 32/100\n",
      "512/512 [==============================] - 2s 3ms/step - loss: 0.0345 - mae: 0.2047 - val_loss: 0.0346 - val_mae: 0.2052\n",
      "Epoch 33/100\n",
      "512/512 [==============================] - 2s 3ms/step - loss: 0.0338 - mae: 0.2028 - val_loss: 0.0336 - val_mae: 0.2026\n",
      "Epoch 34/100\n",
      "512/512 [==============================] - 2s 3ms/step - loss: 0.0335 - mae: 0.2017 - val_loss: 0.0350 - val_mae: 0.2060\n",
      "Epoch 35/100\n",
      "512/512 [==============================] - 2s 3ms/step - loss: 0.0332 - mae: 0.2008 - val_loss: 0.0332 - val_mae: 0.2010\n",
      "Epoch 36/100\n",
      "512/512 [==============================] - 2s 3ms/step - loss: 0.0329 - mae: 0.2000 - val_loss: 0.0326 - val_mae: 0.1989\n",
      "Epoch 37/100\n",
      "512/512 [==============================] - 2s 3ms/step - loss: 0.0325 - mae: 0.1987 - val_loss: 0.0325 - val_mae: 0.1989\n",
      "Epoch 38/100\n",
      "512/512 [==============================] - 2s 3ms/step - loss: 0.0320 - mae: 0.1974 - val_loss: 0.0312 - val_mae: 0.1951\n",
      "Epoch 39/100\n",
      "512/512 [==============================] - 2s 3ms/step - loss: 0.0319 - mae: 0.1971 - val_loss: 0.0312 - val_mae: 0.1950\n",
      "Epoch 40/100\n",
      "512/512 [==============================] - 2s 3ms/step - loss: 0.0313 - mae: 0.1952 - val_loss: 0.0311 - val_mae: 0.1943\n",
      "Epoch 41/100\n",
      "512/512 [==============================] - 2s 3ms/step - loss: 0.0312 - mae: 0.1948 - val_loss: 0.0307 - val_mae: 0.1934\n",
      "Epoch 42/100\n",
      "512/512 [==============================] - 2s 3ms/step - loss: 0.0311 - mae: 0.1944 - val_loss: 0.0305 - val_mae: 0.1928\n",
      "Epoch 43/100\n",
      "512/512 [==============================] - 2s 3ms/step - loss: 0.0307 - mae: 0.1932 - val_loss: 0.0303 - val_mae: 0.1924\n",
      "Epoch 44/100\n",
      "512/512 [==============================] - 2s 3ms/step - loss: 0.0302 - mae: 0.1919 - val_loss: 0.0303 - val_mae: 0.1918\n",
      "Epoch 45/100\n",
      "512/512 [==============================] - 2s 3ms/step - loss: 0.0299 - mae: 0.1909 - val_loss: 0.0296 - val_mae: 0.1899\n",
      "Epoch 46/100\n",
      "512/512 [==============================] - 2s 3ms/step - loss: 0.0295 - mae: 0.1897 - val_loss: 0.0303 - val_mae: 0.1918\n",
      "Epoch 47/100\n",
      "512/512 [==============================] - 2s 3ms/step - loss: 0.0295 - mae: 0.1895 - val_loss: 0.0287 - val_mae: 0.1872\n",
      "Epoch 48/100\n",
      "512/512 [==============================] - 2s 3ms/step - loss: 0.0289 - mae: 0.1877 - val_loss: 0.0293 - val_mae: 0.1885\n",
      "Epoch 49/100\n",
      "512/512 [==============================] - 2s 3ms/step - loss: 0.0289 - mae: 0.1876 - val_loss: 0.0280 - val_mae: 0.1851\n",
      "Epoch 50/100\n",
      "512/512 [==============================] - 2s 3ms/step - loss: 0.0285 - mae: 0.1863 - val_loss: 0.0288 - val_mae: 0.1876\n",
      "Epoch 51/100\n",
      "512/512 [==============================] - 2s 3ms/step - loss: 0.0284 - mae: 0.1860 - val_loss: 0.0278 - val_mae: 0.1841\n",
      "Epoch 52/100\n",
      "512/512 [==============================] - 2s 3ms/step - loss: 0.0278 - mae: 0.1842 - val_loss: 0.0286 - val_mae: 0.1867\n",
      "Epoch 53/100\n",
      "512/512 [==============================] - 2s 3ms/step - loss: 0.0280 - mae: 0.1848 - val_loss: 0.0278 - val_mae: 0.1840\n",
      "Epoch 54/100\n",
      "512/512 [==============================] - 2s 3ms/step - loss: 0.0275 - mae: 0.1832 - val_loss: 0.0265 - val_mae: 0.1801\n",
      "Epoch 55/100\n",
      "512/512 [==============================] - 2s 3ms/step - loss: 0.0274 - mae: 0.1826 - val_loss: 0.0275 - val_mae: 0.1833\n",
      "Epoch 56/100\n",
      "512/512 [==============================] - 2s 3ms/step - loss: 0.0271 - mae: 0.1821 - val_loss: 0.0273 - val_mae: 0.1823\n",
      "Epoch 57/100\n",
      "512/512 [==============================] - 2s 3ms/step - loss: 0.0268 - mae: 0.1809 - val_loss: 0.0269 - val_mae: 0.1817\n",
      "Epoch 58/100\n",
      "512/512 [==============================] - 2s 3ms/step - loss: 0.0267 - mae: 0.1807 - val_loss: 0.0265 - val_mae: 0.1800\n",
      "Epoch 59/100\n",
      "512/512 [==============================] - 2s 3ms/step - loss: 0.0265 - mae: 0.1801 - val_loss: 0.0258 - val_mae: 0.1778\n",
      "Epoch 60/100\n",
      "512/512 [==============================] - 2s 3ms/step - loss: 0.0264 - mae: 0.1796 - val_loss: 0.0261 - val_mae: 0.1783\n",
      "Epoch 61/100\n",
      "512/512 [==============================] - 2s 3ms/step - loss: 0.0262 - mae: 0.1788 - val_loss: 0.0266 - val_mae: 0.1801\n",
      "Epoch 62/100\n",
      "512/512 [==============================] - 2s 3ms/step - loss: 0.0258 - mae: 0.1776 - val_loss: 0.0259 - val_mae: 0.1781\n",
      "Epoch 63/100\n",
      "512/512 [==============================] - 2s 3ms/step - loss: 0.0257 - mae: 0.1774 - val_loss: 0.0253 - val_mae: 0.1759\n",
      "Epoch 64/100\n",
      "512/512 [==============================] - 2s 3ms/step - loss: 0.0258 - mae: 0.1775 - val_loss: 0.0250 - val_mae: 0.1747\n",
      "Epoch 65/100\n",
      "512/512 [==============================] - 2s 3ms/step - loss: 0.0254 - mae: 0.1763 - val_loss: 0.0250 - val_mae: 0.1745\n",
      "Epoch 66/100\n",
      "512/512 [==============================] - 2s 3ms/step - loss: 0.0254 - mae: 0.1763 - val_loss: 0.0253 - val_mae: 0.1754\n",
      "Epoch 67/100\n",
      "512/512 [==============================] - 2s 3ms/step - loss: 0.0250 - mae: 0.1748 - val_loss: 0.0257 - val_mae: 0.1768\n",
      "Epoch 68/100\n",
      "512/512 [==============================] - 2s 3ms/step - loss: 0.0247 - mae: 0.1738 - val_loss: 0.0243 - val_mae: 0.1725\n",
      "Epoch 69/100\n",
      "512/512 [==============================] - 2s 3ms/step - loss: 0.0248 - mae: 0.1740 - val_loss: 0.0244 - val_mae: 0.1727\n",
      "Epoch 70/100\n",
      "512/512 [==============================] - 2s 3ms/step - loss: 0.0246 - mae: 0.1734 - val_loss: 0.0247 - val_mae: 0.1737\n",
      "Epoch 71/100\n",
      "512/512 [==============================] - 2s 3ms/step - loss: 0.0244 - mae: 0.1726 - val_loss: 0.0243 - val_mae: 0.1727\n",
      "Epoch 72/100\n",
      "512/512 [==============================] - 2s 3ms/step - loss: 0.0242 - mae: 0.1722 - val_loss: 0.0238 - val_mae: 0.1711\n",
      "Epoch 73/100\n",
      "512/512 [==============================] - 2s 3ms/step - loss: 0.0242 - mae: 0.1721 - val_loss: 0.0236 - val_mae: 0.1702\n",
      "Epoch 74/100\n",
      "512/512 [==============================] - 2s 3ms/step - loss: 0.0238 - mae: 0.1706 - val_loss: 0.0232 - val_mae: 0.1687\n",
      "Epoch 75/100\n",
      "512/512 [==============================] - 2s 3ms/step - loss: 0.0237 - mae: 0.1704 - val_loss: 0.0242 - val_mae: 0.1716\n",
      "Epoch 76/100\n",
      "512/512 [==============================] - 2s 3ms/step - loss: 0.0237 - mae: 0.1704 - val_loss: 0.0235 - val_mae: 0.1694\n",
      "Epoch 77/100\n",
      "512/512 [==============================] - 2s 3ms/step - loss: 0.0233 - mae: 0.1691 - val_loss: 0.0234 - val_mae: 0.1693\n",
      "Epoch 78/100\n",
      "512/512 [==============================] - 2s 3ms/step - loss: 0.0232 - mae: 0.1686 - val_loss: 0.0231 - val_mae: 0.1682\n",
      "Epoch 79/100\n",
      "512/512 [==============================] - 2s 3ms/step - loss: 0.0233 - mae: 0.1691 - val_loss: 0.0229 - val_mae: 0.1680\n",
      "Epoch 80/100\n",
      "512/512 [==============================] - 2s 3ms/step - loss: 0.0229 - mae: 0.1677 - val_loss: 0.0229 - val_mae: 0.1678\n",
      "Epoch 81/100\n",
      "512/512 [==============================] - 2s 3ms/step - loss: 0.0228 - mae: 0.1673 - val_loss: 0.0228 - val_mae: 0.1670\n",
      "Epoch 82/100\n",
      "512/512 [==============================] - 2s 3ms/step - loss: 0.0229 - mae: 0.1675 - val_loss: 0.0224 - val_mae: 0.1658\n",
      "Epoch 83/100\n",
      "512/512 [==============================] - 2s 3ms/step - loss: 0.0225 - mae: 0.1663 - val_loss: 0.0225 - val_mae: 0.1662\n",
      "Epoch 84/100\n",
      "512/512 [==============================] - 2s 3ms/step - loss: 0.0225 - mae: 0.1661 - val_loss: 0.0225 - val_mae: 0.1662\n",
      "Epoch 85/100\n",
      "512/512 [==============================] - 2s 3ms/step - loss: 0.0224 - mae: 0.1657 - val_loss: 0.0222 - val_mae: 0.1653\n",
      "Epoch 86/100\n",
      "512/512 [==============================] - 2s 3ms/step - loss: 0.0224 - mae: 0.1655 - val_loss: 0.0220 - val_mae: 0.1645\n",
      "Epoch 87/100\n",
      "512/512 [==============================] - 2s 3ms/step - loss: 0.0220 - mae: 0.1643 - val_loss: 0.0221 - val_mae: 0.1644\n",
      "Epoch 88/100\n",
      "512/512 [==============================] - 2s 3ms/step - loss: 0.0221 - mae: 0.1645 - val_loss: 0.0220 - val_mae: 0.1643\n",
      "Epoch 89/100\n",
      "512/512 [==============================] - 2s 3ms/step - loss: 0.0218 - mae: 0.1638 - val_loss: 0.0219 - val_mae: 0.1640\n",
      "Epoch 90/100\n",
      "512/512 [==============================] - 2s 3ms/step - loss: 0.0218 - mae: 0.1635 - val_loss: 0.0222 - val_mae: 0.1649\n",
      "Epoch 91/100\n",
      "512/512 [==============================] - 2s 3ms/step - loss: 0.0217 - mae: 0.1634 - val_loss: 0.0217 - val_mae: 0.1630\n",
      "Epoch 92/100\n",
      "512/512 [==============================] - 2s 3ms/step - loss: 0.0216 - mae: 0.1628 - val_loss: 0.0211 - val_mae: 0.1611\n",
      "Epoch 93/100\n",
      "512/512 [==============================] - 2s 3ms/step - loss: 0.0216 - mae: 0.1629 - val_loss: 0.0212 - val_mae: 0.1612\n",
      "Epoch 94/100\n",
      "512/512 [==============================] - 2s 3ms/step - loss: 0.0212 - mae: 0.1615 - val_loss: 0.0211 - val_mae: 0.1613\n",
      "Epoch 95/100\n",
      "512/512 [==============================] - 2s 3ms/step - loss: 0.0212 - mae: 0.1616 - val_loss: 0.0214 - val_mae: 0.1625\n",
      "Epoch 96/100\n",
      "512/512 [==============================] - 2s 3ms/step - loss: 0.0210 - mae: 0.1607 - val_loss: 0.0217 - val_mae: 0.1633\n",
      "Epoch 97/100\n",
      "512/512 [==============================] - 2s 3ms/step - loss: 0.0212 - mae: 0.1613 - val_loss: 0.0210 - val_mae: 0.1606\n",
      "Epoch 98/100\n",
      "512/512 [==============================] - 2s 3ms/step - loss: 0.0211 - mae: 0.1612 - val_loss: 0.0207 - val_mae: 0.1598\n",
      "Epoch 99/100\n",
      "512/512 [==============================] - 2s 3ms/step - loss: 0.0209 - mae: 0.1603 - val_loss: 0.0209 - val_mae: 0.1606\n",
      "Epoch 100/100\n",
      "512/512 [==============================] - 2s 3ms/step - loss: 0.0209 - mae: 0.1606 - val_loss: 0.0206 - val_mae: 0.1595\n"
     ]
    },
    {
     "data": {
      "text/plain": [
       "<keras.callbacks.History at 0x1487f8130160>"
      ]
     },
     "execution_count": 24,
     "metadata": {},
     "output_type": "execute_result"
    }
   ],
   "source": [
    "model.fit(\n",
    "    dataset, \n",
    "    validation_data=validation_dataset, \n",
    "    epochs=100,\n",
    "    callbacks=[early_stopping_cb],\n",
    "    steps_per_epoch=512,\n",
    "    validation_steps=64)"
   ]
  },
  {
   "cell_type": "code",
   "execution_count": 29,
   "id": "6cc3ea2d-df4f-4062-8ac7-65de29289453",
   "metadata": {},
   "outputs": [
    {
     "data": {
      "image/png": "[encoded data removed]",
      "text/plain": [
       "<Figure size 640x480 with 1 Axes>"
      ]
     },
     "metadata": {},
     "output_type": "display_data"
    }
   ],
   "source": [
    "t = np.linspace(-2*np.pi, 2*np.pi, size)\n",
    "A, B, C = np.random.uniform(0.5, 2*np.pi, size=3)\n",
    "y = A*np.sin(B*t + C)\n",
    "x = y + np.random.normal(0, std, size)\n",
    "\n",
    "plt.scatter(t, x, s=5.0)\n",
    "plt.show()"
   ]
  },
  {
   "cell_type": "code",
   "execution_count": 30,
   "id": "ab8bc76b-75b8-434a-9746-d66fd6dabb36",
   "metadata": {},
   "outputs": [
    {
     "data": {
      "image/png": "[encoded data removed]",
      "text/plain": [
       "<Figure size 640x480 with 1 Axes>"
      ]
     },
     "metadata": {},
     "output_type": "display_data"
    }
   ],
   "source": [
    "plt.scatter(t, y, s=5.0)\n",
    "plt.show()"
   ]
  },
  {
   "cell_type": "code",
   "execution_count": 31,
   "id": "546afbe9-5108-4755-94f6-14ed2bda079b",
   "metadata": {},
   "outputs": [
    {
     "name": "stdout",
     "output_type": "stream",
     "text": [
      "1/1 [==============================] - 0s 246ms/step\n"
     ]
    },
    {
     "data": {
      "image/png": "[encoded data removed]",
      "text/plain": [
       "<Figure size 640x480 with 1 Axes>"
      ]
     },
     "metadata": {},
     "output_type": "display_data"
    }
   ],
   "source": [
    "x_tensor = tf.reshape(tf.constant(x), (1, -1)) # to change the shape from (254,) to (1, 254)\n",
    "# the first dimension is always the batch dimension even if there is only one data!\n",
    "\n",
    "y_pred = model.predict(x_tensor)\n",
    "plt.scatter(t, y_pred[0], s=5.0)\n",
    "plt.show()"
   ]
  },
  {
   "cell_type": "markdown",
   "id": "671aca48-ed38-43f5-9b15-8eb1919d5b30",
   "metadata": {
    "jp-MarkdownHeadingCollapsed": true
   },
   "source": [
    "## Custom Training Loop"
   ]
  },
  {
   "cell_type": "code",
   "execution_count": 17,
   "id": "36358c7a-0a30-4448-908b-8bc8c3e856fe",
   "metadata": {},
   "outputs": [],
   "source": [
    "ds_train, ds_test = handson.mnist_TF(batch_size=32)"
   ]
  },
  {
   "cell_type": "code",
   "execution_count": 18,
   "id": "455eae85-cdc8-47df-a370-aae0fc478b19",
   "metadata": {},
   "outputs": [],
   "source": [
    "# simple sequential model\n",
    "model = keras.Sequential([\n",
    "    keras.Input((28, 28, 1)),\n",
    "    keras.layers.Conv2D(32, 3, activation=\"relu\"),\n",
    "    keras.layers.Flatten(),\n",
    "    keras.layers.Dense(10, activation=\"softmax\"),])"
   ]
  },
  {
   "cell_type": "code",
   "execution_count": 19,
   "id": "f22ca14b-3ab0-4bc0-afaf-60feda628182",
   "metadata": {},
   "outputs": [],
   "source": [
    "num_epochs = 3\n",
    "optimizer = keras.optimizers.Adam()\n",
    "loss_fn = keras.losses.SparseCategoricalCrossentropy(from_logits=False)\n",
    "loss_metric = keras.metrics.SparseCategoricalCrossentropy(from_logits=False)\n",
    "acc_metric = keras.metrics.SparseCategoricalAccuracy()\n",
    "\n",
    "def update_acc(model, ds_test, acc):\n",
    "    acc.reset_state() # to make sure acc is reset\n",
    "    for x_batch, y_batch in ds_test:\n",
    "        y_pred = model(x_batch, training=True)\n",
    "        acc.update_state(y_batch, y_pred)\n",
    "\n",
    "    return f\"{acc.result().numpy():.3f}\""
   ]
  },
  {
   "cell_type": "code",
   "execution_count": 20,
   "id": "ee8ddad2-bff1-49dc-810d-ace25d3ff0d5",
   "metadata": {
    "scrolled": true
   },
   "outputs": [
    {
     "name": "stderr",
     "output_type": "stream",
     "text": [
      "Epoch [1/3]: █████████████████████████████ :1024/1024 [ET=00:18, acc=0.933, loss=237.6m, test=0.970]\n",
      "Epoch [2/3]: █████████████████████████████ :1024/1024 [ET=00:15, acc=0.974, loss=089.8m, test=0.978]\n",
      "Epoch [3/3]: █████████████████████████████ :1024/1024 [ET=00:15, acc=0.980, loss=068.6m, test=0.978]\n"
     ]
    }
   ],
   "source": [
    "# tqdm module to wrap train data to show progress bar with custom inputs\n",
    "num_batches = ds_train.cardinality().numpy()\n",
    "custom_bar_format = \"{desc}{bar} :{n_fmt}/{total_fmt} [ET={elapsed}{postfix}]\"\n",
    "fixed_width = 100 # size of the output (progress bar size will be adjusted accordingly)\n",
    "z_num = len(str(num_epochs)) # for proper description text sizing\n",
    "\n",
    "# training loop\n",
    "for epoch in range(num_epochs):\n",
    "    # train dataset iterable with progress bar\n",
    "    train_iterator = tqdm(\n",
    "        ds_train, \n",
    "        bar_format=custom_bar_format,\n",
    "        ncols=fixed_width,\n",
    "        total = num_batches,\n",
    "        leave=True)\n",
    "\n",
    "    # message before progress bar \n",
    "    epoch = str(epoch+1).zfill(z_num)\n",
    "    train_iterator.set_description(\"Epoch [\" + epoch + f\"/{num_epochs}]\")\n",
    "    acc_test = \".....\"\n",
    "\n",
    "    # batch training for loop\n",
    "    for ind, (x_batch, y_batch) in enumerate(train_iterator):\n",
    "        with tf.GradientTape() as tape:\n",
    "            y_pred = model(x_batch, training=True)\n",
    "            loss = loss_fn(y_batch, y_pred)\n",
    "\n",
    "        # get gradients and optimize the loss with respect to weights\n",
    "        gradients = tape.gradient(loss, model.trainable_weights)\n",
    "        optimizer.apply_gradients(zip(gradients, model.trainable_weights))\n",
    "\n",
    "        # obtain loss and accuracy numerals to show after progress bar\n",
    "        loss_metric.update_state(y_batch, y_pred)\n",
    "        loss=mods.float2SI(loss_metric.result().numpy())\n",
    "        acc_metric.update_state(y_batch, y_pred)\n",
    "        acc=f\"{acc_metric.result().numpy():.3f}\"\n",
    "        if ind+1 == num_batches: acc_test = update_acc(model, ds_test, acc_metric)\n",
    "\n",
    "        # add loss, acc, and test accuracy script after progress bar\n",
    "        train_iterator.set_postfix(loss=loss, acc=acc, test=acc_test)\n",
    "\n",
    "    # end of epoch training: reset metrics for later epoch loops\n",
    "    loss_metric.reset_state()\n",
    "    acc_metric.reset_state()\n",
    "\n",
    "acc_metric.reset_states() # alias of reset_state() for backward compatibility"
   ]
  },
  {
   "cell_type": "code",
   "execution_count": 22,
   "id": "7fae868c-9fdb-4c6d-8845-6a719276cbba",
   "metadata": {},
   "outputs": [
    {
     "name": "stdout",
     "output_type": "stream",
     "text": [
      "(3, 3, 1, 32)\n",
      "(3, 3, 1, 32)\n",
      "conv2d/kernel:0\n",
      "\n",
      "(32,)\n",
      "(32,)\n",
      "conv2d/bias:0\n",
      "\n",
      "(21632, 10)\n",
      "(21632, 10)\n",
      "dense/kernel:0\n",
      "\n",
      "(10,)\n",
      "(10,)\n",
      "dense/bias:0\n",
      "\n"
     ]
    }
   ],
   "source": [
    "for index, weight in enumerate(model.weights):\n",
    "    print(gradients[index].shape)\n",
    "    print(weight.shape)\n",
    "    print(weight.name)\n",
    "    print()"
   ]
  },
  {
   "cell_type": "markdown",
   "id": "75e49cf1-ac4a-4d70-bee1-f1a723c33194",
   "metadata": {
    "jp-MarkdownHeadingCollapsed": true
   },
   "source": [
    "## Gradient Accumulation "
   ]
  },
  {
   "cell_type": "code",
   "execution_count": 73,
   "id": "2bca2972-888a-47e7-bfa1-97241087fdea",
   "metadata": {},
   "outputs": [],
   "source": [
    "batch_size=32\n",
    "ds_train, ds_test = handson.mnist_TF(batch_size=batch_size)"
   ]
  },
  {
   "cell_type": "code",
   "execution_count": 74,
   "id": "17df226b-68e8-49e2-b56e-b9df82cc81e4",
   "metadata": {},
   "outputs": [],
   "source": [
    "# simple sequential model\n",
    "model = keras.Sequential([\n",
    "    keras.Input((28, 28, 1)),\n",
    "    keras.layers.Conv2D(32, 3, activation=\"relu\"),\n",
    "    keras.layers.Flatten(),\n",
    "    keras.layers.Dense(10, activation=\"softmax\"),])"
   ]
  },
  {
   "cell_type": "code",
   "execution_count": 79,
   "id": "6a404842-32a3-4697-b836-161467d3e50d",
   "metadata": {},
   "outputs": [],
   "source": [
    "num_epochs = 3\n",
    "loss_fn = keras.losses.SparseCategoricalCrossentropy(from_logits=False)\n",
    "loss_metric = keras.metrics.SparseCategoricalCrossentropy(from_logits=False)\n",
    "acc_metric = keras.metrics.SparseCategoricalAccuracy()\n",
    "\n",
    "# optimizer has smaller learning rate since gradients will be combined\n",
    "optimizer = keras.optimizers.Adam(learning_rate=0.001) \n",
    "\n",
    "def update_acc(model, ds_test, acc):\n",
    "    acc.reset_state() # to make sure acc is reset\n",
    "    for x_batch, y_batch in ds_test:\n",
    "        y_pred = model(x_batch, training=True)\n",
    "        acc.update_state(y_batch, y_pred)\n",
    "\n",
    "    return f\"{acc.result().numpy():.3f}\"\n",
    "\n",
    "def grad_shape_dtype(model):\n",
    "    for weight in model.trainable_weights:\n",
    "        yield weight.shape, weight.dtype"
   ]
  },
  {
   "cell_type": "code",
   "execution_count": 81,
   "id": "a11a6bd3-b0d7-4b4a-b384-ce3e4b132f6b",
   "metadata": {},
   "outputs": [
    {
     "name": "stderr",
     "output_type": "stream",
     "text": [
      "Epoch [1/3]: █████████████████████████████ :1024/1024 [ET=01:03, acc=0.971, loss=106.4m, test=0.974]\n",
      "Epoch [2/3]: █████████████████████████████ :1024/1024 [ET=01:03, acc=0.981, loss=068.8m, test=0.975]\n",
      "Epoch [3/3]: █████████████████████████████ :1024/1024 [ET=01:03, acc=0.986, loss=051.6m, test=0.980]\n"
     ]
    }
   ],
   "source": [
    "# training parameters\n",
    "num_batches = ds_train.cardinality().numpy() # total number of batches per epoch\n",
    "mini_batch_size = 4 # size of mini batch of epoch batches\n",
    "custom_bar_format = \"{desc}{bar} :{n_fmt}/{total_fmt} [ET={elapsed}{postfix}]\"\n",
    "fixed_width = 100 # size of the output (progress bar size will be adjusted accordingly)\n",
    "z_num = len(str(num_epochs)) # for proper description text sizing\n",
    "\n",
    "# zero gradients to initialize gradients for grad accumulation\n",
    "grad_zeros = [tf.zeros(shape, dtype=dtype) for shape, dtype in grad_shape_dtype(model)]\n",
    "\n",
    "# training loop\n",
    "for epoch in range(num_epochs):\n",
    "    # train dataset iterable with progress bar\n",
    "    train_iterator = tqdm(\n",
    "        ds_train, \n",
    "        bar_format=custom_bar_format,\n",
    "        ncols=fixed_width,\n",
    "        total = num_batches,\n",
    "        leave=True)\n",
    "\n",
    "    # message before progress bar \n",
    "    epoch = str(epoch+1).zfill(z_num)\n",
    "    train_iterator.set_description(\"Epoch [\" + epoch + f\"/{num_epochs}]\")\n",
    "    acc_test = \".....\"\n",
    "\n",
    "    # batch training for loop\n",
    "    for ind, (x_batch, y_batch) in enumerate(train_iterator):\n",
    "        # number of mini batches of epoch batch\n",
    "        num_mini_batches = x_batch.shape[0] // mini_batch_size\n",
    "\n",
    "        # reshape the dataset batch for inner mini batch for loop\n",
    "        x_batch_reshaped = tf.reshape(x_batch, \n",
    "            (num_mini_batches, mini_batch_size, *x_batch.shape[1:]))\n",
    "        y_batch_reshaped = tf.reshape(y_batch, \n",
    "            (num_mini_batches, mini_batch_size, *y_batch.shape[1:]))\n",
    "\n",
    "        # initialize gradients to zero\n",
    "        gradients = deepcopy(grad_zeros)\n",
    "        \n",
    "        # obtain gradients of mini batches for gradients accumulation\n",
    "        for x_data, y_data in zip(x_batch_reshaped, y_batch_reshaped):\n",
    "            with tf.GradientTape() as tape:\n",
    "                y_pred = model(x_data, training=True)\n",
    "                loss = loss_fn(y_data, y_pred)\n",
    "    \n",
    "            # get smaller gradients and add them to accumulated gradients\n",
    "            mini_grads = tape.gradient(loss, model.trainable_weights)\n",
    "            gradients = [g1 + g2 for g1, g2 in zip(gradients, mini_grads)]\n",
    "\n",
    "        # optimize the weights from accumulated gradients\n",
    "        optimizer.apply_gradients(zip(gradients, model.trainable_weights))\n",
    "\n",
    "        # obtain loss and accuracy numerals to show after progress bar\n",
    "        y_pred = model(x_batch)\n",
    "        loss_metric.update_state(y_batch, y_pred)\n",
    "        loss=mods.float2SI(loss_metric.result().numpy())\n",
    "        acc_metric.update_state(y_batch, y_pred)\n",
    "        acc=f\"{acc_metric.result().numpy():.3f}\"\n",
    "        if ind+1 == num_batches: acc_test = update_acc(model, ds_test, acc_metric)\n",
    "\n",
    "        # add loss, acc, and test accuracy script after progress bar\n",
    "        train_iterator.set_postfix(loss=loss, acc=acc, test=acc_test)\n",
    "\n",
    "    # end of epoch training: reset metrics for later epoch loops\n",
    "    loss_metric.reset_state()\n",
    "    acc_metric.reset_state()\n",
    "\n",
    "acc_metric.reset_states() # alias of reset_state() for backward compatibility"
   ]
  },
  {
   "cell_type": "code",
   "execution_count": 82,
   "id": "d4e3bd82-7603-4f88-ab56-f8487e821481",
   "metadata": {},
   "outputs": [
    {
     "name": "stdout",
     "output_type": "stream",
     "text": [
      "256/256 [==============================] - 1s 2ms/step - loss: 0.0645 - accuracy: 0.9805\n"
     ]
    },
    {
     "data": {
      "text/plain": [
       "[0.06453507393598557, 0.98046875]"
      ]
     },
     "execution_count": 82,
     "metadata": {},
     "output_type": "execute_result"
    }
   ],
   "source": [
    "model.compile(optimizer='adam', loss='sparse_categorical_crossentropy', metrics=['accuracy'])\n",
    "model.evaluate(ds_test)"
   ]
  },
  {
   "cell_type": "code",
   "execution_count": null,
   "id": "6ddc77ac-4d72-4248-8227-ad4107e6982a",
   "metadata": {},
   "outputs": [],
   "source": []
  },
  {
   "cell_type": "markdown",
   "id": "b91492a7-66cc-48b5-9cf8-c564ecca13a8",
   "metadata": {
    "jp-MarkdownHeadingCollapsed": true
   },
   "source": [
    "## end"
   ]
  },
  {
   "cell_type": "code",
   "execution_count": null,
   "id": "c360373d-8b92-4621-9003-b3317d1d699b",
   "metadata": {},
   "outputs": [],
   "source": []
  }
 ],
 "metadata": {
  "kernelspec": {
   "display_name": "Python 3 (ipykernel)",
   "language": "python",
   "name": "python3"
  },
  "language_info": {
   "codemirror_mode": {
    "name": "ipython",
    "version": 3
   },
   "file_extension": ".py",
   "mimetype": "text/x-python",
   "name": "python",
   "nbconvert_exporter": "python",
   "pygments_lexer": "ipython3",
   "version": "3.10.12"
  }
 },
 "nbformat": 4,
 "nbformat_minor": 5
}
