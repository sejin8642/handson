{
 "cells": [
  {
   "cell_type": "markdown",
   "metadata": {},
   "source": [
    "a *binary classifier* distinguishes between just two classes."
   ]
  },
  {
   "cell_type": "markdown",
   "metadata": {},
   "source": [
    "*skewed datasets* contain some classes are much more frequent than others."
   ]
  },
  {
   "cell_type": "markdown",
   "metadata": {},
   "source": [
    "a *confusion matrix* is a specific table layout that allows visualization of the performance of an algorithm, typically a supervised learning one."
   ]
  },
  {
   "cell_type": "markdown",
   "metadata": {},
   "source": [
    "Each row in a confusion matrix represents an *actual class*, while each column represents a *predicted class*"
   ]
  },
  {
   "cell_type": "markdown",
   "metadata": {},
   "source": [
    "For binary classifiers, confusion matrix contains *true negative (TN), false negative (FN)* in the first row, and *false positive (FP), true positive (TP)* in the second row. "
   ]
  },
  {
   "cell_type": "markdown",
   "metadata": {},
   "source": [
    "$\\text{precision} = \\frac{TP}{TP + FP}$"
   ]
  },
  {
   "cell_type": "markdown",
   "metadata": {},
   "source": [
    "$\\text{recall} = \\frac{TP}{TP + FN}$ (Recall is also called *sensitivity* or *true positive rate*)"
   ]
  },
  {
   "cell_type": "markdown",
   "metadata": {},
   "source": [
    "$F_{1} = \\frac{2}{\\frac{1}{\\text{precision}} + \\frac{1}{\\text{recall}}}$\n",
    "\n",
    "$F_{1}$ is called *harmonic mean* of precision and recall."
   ]
  },
  {
   "cell_type": "markdown",
   "metadata": {},
   "source": [
    "Increasing precision reduces recall, and vice versa. This is called the *precision/recall trade-off*."
   ]
  },
  {
   "cell_type": "markdown",
   "metadata": {},
   "source": [
    "*decision function* assigns an instance to the positive class If the score is greater than the *decision threshold*; otherwise it assigns it to the negative class."
   ]
  },
  {
   "cell_type": "markdown",
   "metadata": {},
   "source": [
    "The *receiver operating characteristic* (ROC) curve plots the true positive rate (another name for recall) against the false positive rate (FPR)."
   ]
  },
  {
   "cell_type": "markdown",
   "metadata": {},
   "source": [
    "$\\text{FPR} = \\frac{FP}{FP + TN}$"
   ]
  },
  {
   "cell_type": "markdown",
   "metadata": {},
   "source": [
    "$\\text{TNR} = \\frac{TN}{FP + TN}$ (TNR is an acronym for *true negative rate* and also called *specificity*)"
   ]
  },
  {
   "cell_type": "markdown",
   "metadata": {},
   "source": [
    "*multiclass classifiers* (also called *multinomial classifiers*) can distinguish between more than two classes."
   ]
  },
  {
   "cell_type": "markdown",
   "metadata": {},
   "source": [
    "*One-vs-rest* (OvR for short, also referred to as One-vs-All or OvA) is a heuristic method for using binary classification algorithms for multiclass classification. One binary clasisfication is used to select one class over all the other classes. "
   ]
  },
  {
   "cell_type": "markdown",
   "metadata": {},
   "source": [
    "In *one-versus-one* (OvO) strategy, each binary classifier compares two classes"
   ]
  },
  {
   "cell_type": "markdown",
   "metadata": {},
   "source": [
    "*multioutput multiclass classification* (or simply multioutput classification) is simply a generalization of multilabel classification where each label can be multiclass."
   ]
  },
  {
   "cell_type": "code",
   "execution_count": null,
   "metadata": {},
   "outputs": [],
   "source": []
  }
 ],
 "metadata": {
  "kernelspec": {
   "display_name": "Python 3",
   "language": "python",
   "name": "python3"
  },
  "language_info": {
   "codemirror_mode": {
    "name": "ipython",
    "version": 3
   },
   "file_extension": ".py",
   "mimetype": "text/x-python",
   "name": "python",
   "nbconvert_exporter": "python",
   "pygments_lexer": "ipython3",
   "version": "3.8.3"
  }
 },
 "nbformat": 4,
 "nbformat_minor": 4
}
