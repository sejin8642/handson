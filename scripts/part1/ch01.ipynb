{
 "cells": [
  {
   "cell_type": "markdown",
   "metadata": {},
   "source": [
    "In *supervised learning*, the training set you feed to the algorithm includes the desired solutions, called *labels*."
   ]
  },
  {
   "cell_type": "markdown",
   "metadata": {},
   "source": [
    "An *attribute* is a data type, while a *feature* generally means an attribute plus its value. But often times they are used interchangeably."
   ]
  },
  {
   "cell_type": "markdown",
   "metadata": {},
   "source": [
    "Typical supervised learning task, called *regression* is to predict a *target*  numeric value, such as the price of a car, given a set of *features* (mileage, age, brand, etc) called *predictors*. "
   ]
  },
  {
   "cell_type": "markdown",
   "metadata": {},
   "source": [
    "In *unsupervised  learning*, the training data is unlabeled."
   ]
  },
  {
   "cell_type": "markdown",
   "metadata": {},
   "source": [
    "*Dimensionality reduction* is a task to simplify the data without losing too much information. One way to achieve this is selecting a subset of the original features (*feature selection*) while discarding the rest. Another way is to build a new set of simpler features from the original features (*feature extraction*)."
   ]
  },
  {
   "cell_type": "markdown",
   "metadata": {},
   "source": [
    "*Association rule learning* is an unsupervised learning task to dig into large amounts of data and discover interesting relations between attributes."
   ]
  },
  {
   "cell_type": "markdown",
   "metadata": {},
   "source": [
    "In *reinforcement learning*, the learning system, called an *agent*, can observe the environment, select and perform actions, and get *rewards* in return (or *penalties* in the form of negative rewards). It must then learn by itself what is the best strategy, called a *policy*, to get the most reward over time."
   ]
  },
  {
   "cell_type": "markdown",
   "metadata": {},
   "source": [
    "In *batch learning*, the system must be trained using all the available data."
   ]
  },
  {
   "cell_type": "markdown",
   "metadata": {},
   "source": [
    "In *online learning*, you train the system incrementally by feeding it dta instances sequentially, either individually or in small groups called *mini-batches*."
   ]
  },
  {
   "cell_type": "markdown",
   "metadata": {},
   "source": [
    "Online learning algorithms can also be used to train systems on huge datasets that cannot fit in one machine's main memory (this is called *out-of-core learning*)."
   ]
  },
  {
   "cell_type": "markdown",
   "metadata": {},
   "source": [
    "One important parameter of online learning systems is how fast they should adopt to changing data: this is called the *learning rate*."
   ]
  },
  {
   "cell_type": "markdown",
   "metadata": {},
   "source": [
    "A *utility function* (or *fitness function*) measures how good your model is, and a *cost function* measures how bad it is."
   ]
  },
  {
   "cell_type": "markdown",
   "metadata": {},
   "source": [
    "*Training* a model means finding *model parameters* from training data for a better performance measure."
   ]
  },
  {
   "cell_type": "markdown",
   "metadata": {},
   "source": [
    "If the sample size is too small, you will have *sampling noise*. If the sampling method is flawed, you will have *sampling bias*."
   ]
  },
  {
   "cell_type": "markdown",
   "metadata": {},
   "source": [
    "*Feature engineering* is a process to prepare good set of features by feature selection, feature extraction, and creating new features by gathering new data."
   ]
  },
  {
   "cell_type": "markdown",
   "metadata": {},
   "source": [
    "*overfitting* means that the model is trained to perform well on the training data, but it does not generalize well for new data."
   ]
  },
  {
   "cell_type": "markdown",
   "metadata": {},
   "source": [
    "Constraining a model to make it simpler and reduce the risk of overfitting is called *regularization*."
   ]
  },
  {
   "cell_type": "markdown",
   "metadata": {},
   "source": [
    "A *hyperparamter* is a parammeter of a learning algorithm (not of the model)."
   ]
  },
  {
   "cell_type": "markdown",
   "metadata": {},
   "source": [
    "*Underfitting* is the opposite of overfitting."
   ]
  },
  {
   "cell_type": "markdown",
   "metadata": {},
   "source": [
    "You train your model using the *training set*, and you test it using the *test set*. The error rate on new cases is called the *generalization error* (or *out-of-sample error*), and by evaluating your model on the test set, you get an estimate of this error"
   ]
  },
  {
   "cell_type": "markdown",
   "metadata": {},
   "source": [
    "The training set is used to fit the models; the *validation set* is used to estimate prediction error for model selection; the test set is used for assessment of the generalization error of the final chosen model. Ideally, the test set should be kept in a “vault,” and be brought out only at the end of the data analysis"
   ]
  },
  {
   "cell_type": "code",
   "execution_count": null,
   "metadata": {},
   "outputs": [],
   "source": []
  }
 ],
 "metadata": {
  "kernelspec": {
   "display_name": "Python 3",
   "language": "python",
   "name": "python3"
  },
  "language_info": {
   "codemirror_mode": {
    "name": "ipython",
    "version": 3
   },
   "file_extension": ".py",
   "mimetype": "text/x-python",
   "name": "python",
   "nbconvert_exporter": "python",
   "pygments_lexer": "ipython3",
   "version": "3.8.3"
  }
 },
 "nbformat": 4,
 "nbformat_minor": 4
}
